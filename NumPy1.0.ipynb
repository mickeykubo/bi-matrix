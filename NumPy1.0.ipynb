{
 "cells": [
  {
   "cell_type": "markdown",
   "metadata": {
    "colab_type": "text",
    "id": "iy5cLOqX6VSW"
   },
   "source": [
    "# Python言語によるビジネスアナリティクス\n",
    "##実務家のための最適化，統計分析，機械学習（近代科学社）\n",
    "\n",
    "## NumPy\n",
    "\n",
    "NumPyモジュールの基本的な使用法を説明する．\n",
    "\n",
    "NumPyは科学技術計算のための基本モジュールであり，リストに似た配列を扱う．\n",
    "\n",
    "リストとの違いは：\n",
    "\n",
    "* サイズが変更できない．\n",
    "\n",
    "* 同じ種類のものしか保管できない（規定値は浮動小数点数）．\n",
    "\n",
    "**zeros**は $0$ が入ったベクトルや行列を生成するための関数である．\n",
    "これらはNumPyの**ndarray**（$n$次元配列）オブジェクトである．\n",
    "\n",
    "1 Python 언어에 의한 비즈니스 분석\n",
    "## 실무자를위한 최적화, 통계 분석, 기계 학습 (현대 과학사)\n",
    "\n",
    "1.1 NumPy\n",
    "NumPy 모듈의 기본적인 사용법을 설명한다.\n",
    "\n",
    "NumPy는 과학 기술 계산을위한 기본 모듈이며,리스트와 비슷한 배열을 취급한다.\n",
    "\n",
    "목록의 차이는 :\n",
    "\n",
    "크기를 변경할 수 없다.\n",
    "\n",
    "같은 종류의 것 밖에 저장할 수없는 (기본값은 부동 소수점).\n",
    "\n",
    "zeros 0이 들어간 벡터 나 행렬을 생성하기위한 함수이다. 이들은 NumPy의 ndarray (𝑛 차원 배열) 객체이다."
   ]
  },
  {
   "cell_type": "code",
   "execution_count": 0,
   "metadata": {
    "colab": {},
    "colab_type": "code",
    "id": "MbRJGVd36VSY"
   },
   "outputs": [],
   "source": [
    "import numpy as np #まずはインポート；別名は np が標準"
   ]
  },
  {
   "cell_type": "code",
   "execution_count": 0,
   "metadata": {
    "colab": {
     "base_uri": "https://localhost:8080/",
     "height": 34
    },
    "colab_type": "code",
    "executionInfo": {
     "elapsed": 746,
     "status": "ok",
     "timestamp": 1547176647144,
     "user": {
      "displayName": "MIKIO KUBO",
      "photoUrl": "",
      "userId": "03564531269876570263"
     },
     "user_tz": -540
    },
    "id": "vSL4LGvL6VSd",
    "outputId": "f07e2ee3-f328-449c-f681-74e621a0c38f"
   },
   "outputs": [
    {
     "data": {
      "text/plain": [
       "array([0., 0., 0., 0., 0.])"
      ]
     },
     "execution_count": 2,
     "metadata": {
      "tags": []
     },
     "output_type": "execute_result"
    }
   ],
   "source": [
    "z = np.zeros(5)  #長さ5の0ベクトルを生成\n",
    "z"
   ]
  },
  {
   "cell_type": "markdown",
   "metadata": {
    "colab_type": "text",
    "id": "QoxTJMS46VSl"
   },
   "source": [
    "同様に，**ones**関数ですべての要素が $1$ のベクトルや行列を生成できる．\n",
    "\n",
    "$0,1,2,\\cdots,n$ の数列は**arange**関数で生成できる．これはPython標準の**range**関数に相当する． \n",
    "\n",
    "$n$ 行 $m$ 列の行列を生成するためには，引数をタプル $(n,m)$ とすれば良い．"
   ]
  },
  {
   "cell_type": "code",
   "execution_count": 0,
   "metadata": {
    "colab": {
     "base_uri": "https://localhost:8080/",
     "height": 34
    },
    "colab_type": "code",
    "executionInfo": {
     "elapsed": 574,
     "status": "ok",
     "timestamp": 1547176650318,
     "user": {
      "displayName": "MIKIO KUBO",
      "photoUrl": "",
      "userId": "03564531269876570263"
     },
     "user_tz": -540
    },
    "id": "s6Zh2TAL6VSm",
    "outputId": "cb95130c-08b3-4665-8c27-99de3d1d1b47"
   },
   "outputs": [
    {
     "data": {
      "text/plain": [
       "array([1., 1., 1., 1., 1., 1., 1., 1., 1., 1.])"
      ]
     },
     "execution_count": 3,
     "metadata": {
      "tags": []
     },
     "output_type": "execute_result"
    }
   ],
   "source": [
    "e = np.ones( 10 )  #長さ10の単位ベクトル\n",
    "e"
   ]
  },
  {
   "cell_type": "code",
   "execution_count": 0,
   "metadata": {
    "colab": {
     "base_uri": "https://localhost:8080/",
     "height": 34
    },
    "colab_type": "code",
    "executionInfo": {
     "elapsed": 560,
     "status": "ok",
     "timestamp": 1547176651640,
     "user": {
      "displayName": "MIKIO KUBO",
      "photoUrl": "",
      "userId": "03564531269876570263"
     },
     "user_tz": -540
    },
    "id": "vLl7OUFV6VSq",
    "outputId": "44edac62-9aa0-48ef-ec06-e9eac61b4934"
   },
   "outputs": [
    {
     "data": {
      "text/plain": [
       "array([0, 1, 2, 3, 4, 5, 6, 7, 8, 9])"
      ]
     },
     "execution_count": 4,
     "metadata": {
      "tags": []
     },
     "output_type": "execute_result"
    }
   ],
   "source": [
    "seq = np.arange(10) #0,1,2,...9 の数列\n",
    "seq"
   ]
  },
  {
   "cell_type": "code",
   "execution_count": 0,
   "metadata": {
    "colab": {
     "base_uri": "https://localhost:8080/",
     "height": 52
    },
    "colab_type": "code",
    "executionInfo": {
     "elapsed": 754,
     "status": "ok",
     "timestamp": 1547176653165,
     "user": {
      "displayName": "MIKIO KUBO",
      "photoUrl": "",
      "userId": "03564531269876570263"
     },
     "user_tz": -540
    },
    "id": "1bauq_y36VSu",
    "outputId": "6fbb338f-733a-4286-e4f3-078c361d4b4f"
   },
   "outputs": [
    {
     "data": {
      "text/plain": [
       "array([[0., 0.],\n",
       "       [0., 0.]])"
      ]
     },
     "execution_count": 5,
     "metadata": {
      "tags": []
     },
     "output_type": "execute_result"
    }
   ],
   "source": [
    "Z =np.zeros( (2,2) ) #2行2列の0行列を生成；引数に行数，列数のタプルを入力\n",
    "Z"
   ]
  },
  {
   "cell_type": "markdown",
   "metadata": {
    "colab_type": "text",
    "id": "WMKAGt9Q6VSw"
   },
   "source": [
    "行列 $A$ の $i$ 行 $j$ 列の要素は，$A[i,j]$ でアクセスでき，代入も可能である．\n",
    "\n",
    "（Pythonではインデックスは 0  から始まることに注意．）\n",
    "\n",
    "たとえば，$3 \\times 3$ の単位行列は最初に$3 \\times 3$ の $0$ 行列を作って，後から対角成分に $1$ を代入することにより生成することができる．\n",
    "```python\n",
    "I = np.zeros( (3,3) ) \n",
    "I[0,0] =1. \n",
    "I[1,1] =1. \n",
    "I[2,2] =1.\n",
    ">>> 結果\n",
    "array([[ 1.,  0.,  0.],\n",
    "       [ 0.,  1.,  0.],\n",
    "       [ 0.,  0.,  1.]])\n",
    "```\n",
    "\n",
    "実は単位行列はeye関数を使えば1行で生成できる．\n",
    "```python\n",
    "I = np.eye(3)\n",
    "```\n",
    "\n",
    " もしくは，以下のように**for**文による反復を用いた方が，より一般的である．\n",
    " "
   ]
  },
  {
   "cell_type": "code",
   "execution_count": 0,
   "metadata": {
    "colab": {
     "base_uri": "https://localhost:8080/",
     "height": 70
    },
    "colab_type": "code",
    "executionInfo": {
     "elapsed": 565,
     "status": "ok",
     "timestamp": 1547176655988,
     "user": {
      "displayName": "MIKIO KUBO",
      "photoUrl": "",
      "userId": "03564531269876570263"
     },
     "user_tz": -540
    },
    "id": "H86IAtyD6VSw",
    "outputId": "10f23b4d-f626-4de0-d277-0cbe8ddc11a9"
   },
   "outputs": [
    {
     "data": {
      "text/plain": [
       "array([[1., 0., 0.],\n",
       "       [0., 1., 0.],\n",
       "       [0., 0., 1.]])"
      ]
     },
     "execution_count": 6,
     "metadata": {
      "tags": []
     },
     "output_type": "execute_result"
    }
   ],
   "source": [
    "I = np.zeros( (3,3) )  \n",
    "for i in range(3): \n",
    "    I[i,i]=1.0\n",
    "I"
   ]
  },
  {
   "cell_type": "markdown",
   "metadata": {
    "colab_type": "text",
    "id": "4IxQCQEF6VSz"
   },
   "source": [
    "### 問題\n",
    "\n",
    "1. 長さ $10$ の $1$ が並んだベクトルを生成せよ．\n",
    "\n",
    "2. $3$ 行 $4$ 列の $1$ だけが入った行列を生成せよ．\n",
    "\n",
    "3. $(0,1)$, $(1,2)$, $(2,0)$ の成分だけが $1$ で，他の要素が $0$ の $3 \\times 3$ 行列を生成せよ．\n",
    "\n",
    "4. $i$ 行，$i+1$ 列だけ $1$ で，他の要素が $0$ の $10 \\times 10$ 行列を生成せよ．\n",
    "（ただし最後の行はすべて $0$ である．）\n",
    "\n",
    "\n",
    "### 문제\n",
    "\n",
    "1. 길이 $ 10 $의 $ 1 $가 늘어선 벡터를 생성하라.\n",
    "\n",
    "2. $ 3 $ 행 $ 4 $ 문자열의 $ 1 $ 만 들어 행렬을 생성하라.\n",
    "\n",
    "3. $ (0,1) $, $ (1,2) $, $ (2,0) $의 성분 만 $ 1 $에 다른 요소가 $ 0에서 $ 3 \\ times 3 $ 행렬을 생성하라.\n",
    "\n",
    "4. $ i $ 행 $ i + 1 $ 열만 $ 1 $에 다른 요소가 $ 0에서 $ 10 \\ times 10 $ 행렬을 생성하라.\n",
    "(그러나 마지막 행은 모든 $ 0이다.)"
   ]
  },
  {
   "cell_type": "code",
   "execution_count": 0,
   "metadata": {
    "colab": {},
    "colab_type": "code",
    "id": "jQJHDrG56VS0"
   },
   "outputs": [],
   "source": []
  },
  {
   "cell_type": "code",
   "execution_count": 0,
   "metadata": {
    "colab": {},
    "colab_type": "code",
    "id": "Hd8B31LF6VS2"
   },
   "outputs": [],
   "source": []
  },
  {
   "cell_type": "code",
   "execution_count": 0,
   "metadata": {
    "colab": {},
    "colab_type": "code",
    "id": "IlMfgZ9n6VS4"
   },
   "outputs": [],
   "source": []
  },
  {
   "cell_type": "code",
   "execution_count": 0,
   "metadata": {
    "colab": {},
    "colab_type": "code",
    "id": "bL2ZZxoY6VS6"
   },
   "outputs": [],
   "source": []
  },
  {
   "cell_type": "markdown",
   "metadata": {
    "colab_type": "text",
    "id": "igrkYmea6VS7"
   },
   "source": [
    "# ベクトルと行列の生成（array関数の使用法）と型(shape属性)\n",
    "\n",
    "数字を自分で入れたベクトルや行列はNumPyのarray関数で生成できる．この関数の返値は多次元配列（ndarray）のオブジェクトである．\n",
    "\n",
    "引数にリストを入れて，\n",
    "```python\n",
    "v = np.array( [4,5,6] )\n",
    "```\n",
    "とすればベクトル $v = (4,5,6)$ が生成される．\n",
    "\n",
    "行列の場合には，行ごとのリストをもう1つのリストで入れ子にすることによって生成される．\n",
    "\n",
    "たとえば，\n",
    "```python\n",
    "A  = np.array( [ [1,0,0],\n",
    "               [-1, 1, 0],\n",
    "               [0, -1, 1] ] )\n",
    "```\n",
    "とすれば，$3$ 行 $3$ 列の行列 $A$ が生成される．\n",
    "\n",
    "また，引数dtypeでデータのタイプを指定できる．既定値は浮動小数点数であるが，上のようにすべて整数を入れると整数の要素をもつベクトルや配列が生成される．浮動小数点数を指定したい場合には，dtype=floatとする．\n",
    "```python\n",
    "v = np.array( [4,5,6], dtype=float) # array([4.,5.,6.])  \n",
    "```\n",
    "\n",
    "NumPyの多次元配列は型(shape)属性をもつ．たとえば，上で生成した行列 $A$ の型は $A.shape = (3,3)$ である．\n",
    "これは$3$行$3$列の行列を意味する．\n",
    "\n",
    "NumPyの多次元配列の型(shape)はshape属性にタプルを代入することによって変更できる．\n",
    "ただし要素数(size)の変更はできない．たとえば，行列 $A$ を $1$ 行 $9$ 列の行列に変更するには，\n",
    "```python\n",
    "A.shape=(1,9) # array([[ 1.,  0.,  0., -1.,  1.,  0.,  0., -1.,  1.]])\n",
    "```\n",
    "とすれば良い．\n",
    "\n",
    "上のベクトル $v$ の型 $v.shape$ はタプル $(3,)$ である．これは長さ $3$ のベクトル（列がない行列）を表す．\n",
    "$1$ 行 $3$ 列の行列とは異なることに注意されたい．$1$ 行 $3$ 列に変更するには，\n",
    "```python\n",
    "v.shape=(1,3) # array( [[4, 5, 6]] )\n",
    "```\n",
    "とする．よく見ると外側に $[]$ が1つ増えている（元は $array( [4, 5, 6] )$ だった）．\n",
    "\n"
   ]
  },
  {
   "cell_type": "markdown",
   "metadata": {
    "colab_type": "text",
    "id": "oKVUjoiM6VS8"
   },
   "source": [
    "### 問題\n",
    "\n",
    "1. 以下の行列 $A$ を $9$ 行 $1$ 列の型に変更せよ．\n",
    "2. 以下のベクトル $v$ を$3$ 行 $1$ 列の型に変更せよ．カッコがどのように変更されたか観察せよ．\n",
    "3. 以下の行列 $A$ を $4$ 行 $2$ 列に変更することを試みよ．何が発生するか観察せよ．\n",
    "\n",
    "### 문제\n",
    "\n",
    "1. 다음의 행렬 $ A $를 $ 9 $ 행 $ 1 $ 열의 형태로 변경하라.\n",
    "2. 다음 벡터 $ v $를 $ 3 $ 행 $ 1 $ 열의 형태로 변경하라. 괄호가 어떻게 변경되었는지 관찰하라.\n",
    "3. 다음의 행렬 $ A $를 $ 4 $ 행 $ 2 $ 문자열로 변경하는 것을 시도. 무엇이 발생하는지 관찰하라."
   ]
  },
  {
   "cell_type": "code",
   "execution_count": 0,
   "metadata": {
    "colab": {},
    "colab_type": "code",
    "id": "30eQr0Zo6VS8"
   },
   "outputs": [],
   "source": [
    "A  = np.array( [ [1,0,0], [-1, 1, 0], [0, -1, 1] ]  )\n",
    "v = np.array( [4,5,6] )"
   ]
  },
  {
   "cell_type": "code",
   "execution_count": 0,
   "metadata": {
    "colab": {
     "base_uri": "https://localhost:8080/",
     "height": 67
    },
    "colab_type": "code",
    "executionInfo": {
     "elapsed": 761,
     "status": "ok",
     "timestamp": 1552531694125,
     "user": {
      "displayName": "MIKIO KUBO",
      "photoUrl": "",
      "userId": "03564531269876570263"
     },
     "user_tz": -540
    },
    "id": "BgtwMFcN6VS-",
    "outputId": "77d6c48f-296a-4204-e337-ca51f32f4c74"
   },
   "outputs": [
    {
     "data": {
      "text/plain": [
       "array([[4],\n",
       "       [5],\n",
       "       [6]])"
      ]
     },
     "execution_count": 7,
     "metadata": {
      "tags": []
     },
     "output_type": "execute_result"
    }
   ],
   "source": [
    "v.shape=(3,1)\n",
    "v"
   ]
  },
  {
   "cell_type": "markdown",
   "metadata": {
    "colab_type": "text",
    "collapsed": true,
    "id": "SxguNZ-Y6VTA"
   },
   "source": [
    "# 添え字(インデックス）とスライシングと演算\n",
    "\n",
    "添え字とスライス表記はリストと同じ．\n",
    "```python\n",
    "L=[1,2,3,4] \n",
    "L[2]     # 3\n",
    "L[1:3]   # [2,3] \n",
    "```\n",
    "\n",
    "```python\n",
    "x= np.array([1,2,3,4]) \n",
    "x[2]     # 3\n",
    "x[1:3]   # array( [2,3] ) \n",
    "```\n",
    "\n",
    "加算の結果は異なり，リストは結合，arrayの場合は要素ごとの和になる．(他の演算子に対しても同じである．）\n",
    "```python\n",
    "[1,2,3] + [4,5,6]                         # [1,2,3,4,5,6]\n",
    "np.array( [1,2,3] ) + np.array( [4,5,6] ) # [5,7,9] \n",
    "```\n",
    "\n",
    "NumPyのarray（ベクトル）とスカラーの和は，（後述するブロードキャストが行われ）スカラーをベクトルにコピーした後に和をとり，ベクトルとなる．\n",
    "(他の演算子に対しても同じである．）\n",
    "```python\n",
    "np.array( [1,2,3] ) + 1    # [2,3,4] \n",
    "np.array( [1,2,3] ) * 10   # [10,20,30] \n",
    "```"
   ]
  },
  {
   "cell_type": "markdown",
   "metadata": {
    "colab_type": "text",
    "id": "FJSE-nhY6VTB"
   },
   "source": [
    "### 問題\n",
    "1. 以下のベクトル $x,y$ の和を計算せよ．\n",
    "2. $x$ の最初の2つの要素と $y$ の最後の2つの要素の和を計算せよ．\n",
    "3. ベクトル $x$ とスカラー $10$ との和を計算せよ．\n",
    "4. ベクトル $x$ をスカラー $3$ で乗じた値を計算せよ．\n",
    "5. $x$ と $y$ の積を計算せよ．（内積ではなく，要素ごとの積をとれ．）\n",
    "\n",
    "### 문제\n",
    "1. 다음의 벡터 $ x, y $의 합을 계산하라.\n",
    "2. $ x $의 처음 두 요소와 $ y $의 마지막 두 요소의 합을 계산하라.\n",
    "3. 벡터 $ x $와 스칼라 $ 10 $의 합을 계산하라.\n",
    "4. 벡터 $ x $를 스칼라 $ 3 $로 곱한 값을 계산하라.\n",
    "5. $ x $와 $ y $의 곱을 계산하라. (내적가 아닌 각 요소의 곱을 취할 수)"
   ]
  },
  {
   "cell_type": "code",
   "execution_count": 0,
   "metadata": {
    "colab": {},
    "colab_type": "code",
    "id": "dNQ3Fn6g6VTB"
   },
   "outputs": [],
   "source": [
    "x = np.array( [1, 2, 3] )\n",
    "y = np.array( [5, 6, 7] ) "
   ]
  },
  {
   "cell_type": "markdown",
   "metadata": {
    "colab_type": "text",
    "id": "jDi68-QX6VTH"
   },
   "source": [
    "# 行列に対する添え字（インデックス）とスライシングと演算\n",
    "\n",
    "2次元の配列（行列）の添え字は**配列[行番号,列場号]**でアクセスできる．\n",
    "\n",
    "```python\n",
    "X = np.array( [[1, 2, 3],\n",
    "               [4, 5, 6],\n",
    "               [7, 8, 9]])\n",
    "X[0,1]   #　2\n",
    "```      \n",
    "\n",
    "スライシングはリストのときと同様に，** 開始番号:終了番号 ** で開始番号から終了番号 $-1$ の切り出しを行う．\n",
    "\n",
    "行と列に対して別々に切り出しを行うことができる．たとえば，すべての行(:)と1列目を指定すると，1列目だけを切り出すことができる．\n",
    "\n",
    "```python\n",
    "X[ : , 1]  #array([2, 5, 8])\n",
    "```   \n",
    "\n",
    "同様に1行目だけを切り出すには，\n",
    "```python\n",
    "X[ 1, : ]  #X[1] としても同じ！  array([4, 5, 6]) を返す．　\n",
    "```   \n",
    "とする．\n",
    "\n",
    "演算もベクトルと同様に行われる．スカラーに対する演算は，後述するブロードキャスト（同じ大きさになるようにコピーしてから演算）が行われる．"
   ]
  },
  {
   "cell_type": "markdown",
   "metadata": {
    "colab_type": "text",
    "id": "eGq_tzZ86VTI"
   },
   "source": [
    "### 問題\n",
    "\n",
    "1. 行列 $X$ の3行2列目の要素を出力せよ．\n",
    "2. 行列 $X$ の2行目だけを切り出せ．\n",
    "3. 行列 $X$ の1-2行と2-3列から成る部分行列 $[[2,3], [5,6]]$ を切り出せ．\n",
    "4. $X$ と $Y$ の和を求めよ．\n",
    "5. $X$ と $Y$ の積を求めよ．また $X$ とスカラー $1$ の積，ベクトル $(1,1,1)$ との積と較べてみよ．\n",
    "\n",
    "### 문제\n",
    "\n",
    "1. 행렬 $ X $ 3 행 2 열의 요소를 출력하라.\n",
    "2. 행렬 $ X $의 두 번째 줄 만 切り出せ.\n",
    "3. 행렬 $ X $의 1-2 라인과 2-3 열로 된 부분 행렬 $ [2,3], [5,6] $를 切り出せ.\n",
    "4. $ X $와 $ Y $의 합을 구하라.\n",
    "5. $ X $와 $ Y $의 곱을 구 하여라. 또한 $ X $와 스칼라 $ 1 $의 곱, 벡터 $ (1,1,1) $의 곱과 비교해 보라."
   ]
  },
  {
   "cell_type": "code",
   "execution_count": 0,
   "metadata": {
    "colab": {},
    "colab_type": "code",
    "id": "28Z_Ely06VTK"
   },
   "outputs": [],
   "source": [
    "X = np.array( [[1, 2, 3],\n",
    "               [4, 5, 6],\n",
    "               [7, 8, 9]])\n",
    "Y = np.ones( (3,3) ) "
   ]
  },
  {
   "cell_type": "code",
   "execution_count": 0,
   "metadata": {
    "colab": {},
    "colab_type": "code",
    "id": "nlRFz3Gn6VTM"
   },
   "outputs": [],
   "source": []
  },
  {
   "cell_type": "markdown",
   "metadata": {
    "colab_type": "text",
    "id": "My86sHSq6VTN"
   },
   "source": [
    "# ユニバーサル関数\n",
    "\n",
    "NumPyの以下の関数はユニバーサル関数である．\n",
    "\n",
    "- Arithmetic Operators: + - * / // % **\n",
    "- Bitwise Operators: & | ~ ^ >> <<\n",
    "- Comparison Oper’s: < > <= >= == !=\n",
    "- Trig Family: np.sin, np.cos, np.tan ...\n",
    "- Exponential Family: np.exp, np.log, np.log10 ...\n",
    "\n",
    "これらを用いることによって多次元配列の各要素に対する演算を高速に行うことができる．\n",
    "\n",
    "たとえば，0から10000-1の整数の配列に対して，すべての要素に $5$ を加えるには，以下のようにする．\n",
    "\n",
    "```python\n",
    "x = np.arange(10000) #0から10000-1の整数の配列を生成\n",
    "x + 5 # スカラーを加えると後述のブロードキャストによって全ての要素にスカラーが足される\n",
    "```\n",
    "\n",
    "同じ配列に対して平方根をとるには，\n",
    "```python\n",
    "np.sqrt(x)\n",
    "```\n",
    "とする．NumPyモジュールのsqrt関数はユニバーサル関数なので，すべての要素に対して平方根を計算して返す．\n",
    "（数学モジュールmathの平方根だとエラーする．）"
   ]
  },
  {
   "cell_type": "code",
   "execution_count": 0,
   "metadata": {
    "colab": {},
    "colab_type": "code",
    "id": "rcpE5fIS6VTN"
   },
   "outputs": [],
   "source": []
  },
  {
   "cell_type": "markdown",
   "metadata": {
    "colab_type": "text",
    "id": "XrBSz9IR6VTP"
   },
   "source": [
    "### 問題\n",
    "\n",
    "1. 0から99の整数が入った配列を生成し，正弦(sin）を計算せよ．\n",
    "2. 1から999の整数が入った配列の要素を2倍し，それに対数(log)をとったものに100を加えた配列を生成せよ．\n",
    "\n",
    "### 문제\n",
    "\n",
    "1.0에서 99까지의 정수가 담긴 배열을 생성하고 사인 (sin)를 계산하라.\n",
    "2. 1에서 999까지의 정수가 들어있는 배열의 요소를 2 倍し, 거기 로그 (log)를 취한 것으로 100을 더한 배열을 생성하라."
   ]
  },
  {
   "cell_type": "code",
   "execution_count": 0,
   "metadata": {
    "colab": {},
    "colab_type": "code",
    "id": "Mw-Bf03c6VTQ"
   },
   "outputs": [],
   "source": []
  },
  {
   "cell_type": "code",
   "execution_count": 0,
   "metadata": {
    "colab": {},
    "colab_type": "code",
    "id": "uCgbrJJD6VTR"
   },
   "outputs": [],
   "source": []
  },
  {
   "cell_type": "markdown",
   "metadata": {
    "colab_type": "text",
    "id": "tNIe__Zw6VTS"
   },
   "source": [
    "# NumPyの擬似乱数発生サブモジュール random \n",
    "\n",
    "通常のrandomモジュールと類似の擬似乱数がNumPyでも生成できる．\n",
    "\n",
    "ただし引数sizeでランダムな要素をもつ配列を一度に生成できる．\n",
    "\n",
    "たとえば，5つの[0,1)の一様乱数の生成は以下のようになる．\n",
    "```python \n",
    "np.random.random(size=5) # array([ 0.19672059,  0.91704669,  0.05184376,  0.13490049,  0.13663051])\n",
    "```\n",
    "\n",
    "整数の乱数を生成するにはrandintを用いる．引数は通常の下限(low)，上限(high)の他に，sizeを指定できる．\n",
    "sizeにタプルを入れると多次元の配列が生成される．\n",
    "```python \n",
    "np.random.randint(1, 6, size=(3,3))\n",
    ">>> 結果\n",
    "array([[4, 5, 5],\n",
    "       [1, 4, 1],\n",
    "       [1, 4, 1]])\n",
    "```\n",
    "\n",
    "正規分布にしたがうランダムな値を得るにはnormalが使える．\n",
    "```python\n",
    "np.random.normal(100,10,(2,2)) #平均100，標準偏差10にしたがう正規乱数を2行2列の行列に入れる\n",
    ">>> 結果\n",
    "array([[ 92.24228997,  85.74292368],\n",
    "       [ 83.08779098,  99.39865564]])\n",
    "```\n",
    "他にも様々な分布にしたがうランダムな値を生成できる．"
   ]
  },
  {
   "cell_type": "markdown",
   "metadata": {
    "colab_type": "text",
    "id": "E1E9bnwT6VTS"
   },
   "source": [
    "### 問題\n",
    "\n",
    "1. さいころを $10$回振ったシミュレーション結果を表す配列を生成せよ．\n",
    "2. 平均 $10$，標準偏差 $10$ の正規乱数を $10 \\times 10$ の行列に入れよ．\n",
    "\n",
    "### 문제\n",
    "\n",
    "1. 주사위를 $ 10 $ 번 흔들었다 시뮬레이션 결과를 나타내는 배열을 생성하라.\n",
    "2. 평균 $ 10 $, 표준 편차 $ 10 $ 정규 난수를 $ 10 \\ times 10 $의 행렬에 넣으."
   ]
  },
  {
   "cell_type": "code",
   "execution_count": 0,
   "metadata": {
    "colab": {},
    "colab_type": "code",
    "id": "WZG457m46VTT"
   },
   "outputs": [],
   "source": []
  },
  {
   "cell_type": "markdown",
   "metadata": {
    "colab_type": "text",
    "id": "nI1GTvkf6VTV"
   },
   "source": [
    "# 集約関数\n",
    "\n",
    "NumPyの関数で多次元配列内の値を集約して計算してくれるものがある．\n",
    "```python\n",
    "min, max, sum, mean, average, argmin, argmax, std などなど\n",
    "```"
   ]
  },
  {
   "cell_type": "code",
   "execution_count": 0,
   "metadata": {
    "colab": {
     "base_uri": "https://localhost:8080/",
     "height": 34
    },
    "colab_type": "code",
    "executionInfo": {
     "elapsed": 543,
     "status": "ok",
     "timestamp": 1547176693656,
     "user": {
      "displayName": "MIKIO KUBO",
      "photoUrl": "",
      "userId": "03564531269876570263"
     },
     "user_tz": -540
    },
    "id": "cx7FJF2Y6VTW",
    "outputId": "2b532e2c-968d-4584-a4db-3fc065d8945a"
   },
   "outputs": [
    {
     "data": {
      "text/plain": [
       "array([54, 24, 26, 20, 74, 61, 37, 30, 24, 57])"
      ]
     },
     "execution_count": 10,
     "metadata": {
      "tags": []
     },
     "output_type": "execute_result"
    }
   ],
   "source": [
    "x =np.random.randint(low=1, high=100, size=10)\n",
    "x"
   ]
  },
  {
   "cell_type": "code",
   "execution_count": 0,
   "metadata": {
    "colab": {
     "base_uri": "https://localhost:8080/",
     "height": 34
    },
    "colab_type": "code",
    "executionInfo": {
     "elapsed": 358,
     "status": "ok",
     "timestamp": 1547176694885,
     "user": {
      "displayName": "MIKIO KUBO",
      "photoUrl": "",
      "userId": "03564531269876570263"
     },
     "user_tz": -540
    },
    "id": "XsvIlcOA6VTY",
    "outputId": "616bd469-a280-47d0-f5ee-5d7dd6b32fd4"
   },
   "outputs": [
    {
     "data": {
      "text/plain": [
       "20"
      ]
     },
     "execution_count": 11,
     "metadata": {
      "tags": []
     },
     "output_type": "execute_result"
    }
   ],
   "source": [
    "np.min(x)   #最小値を求める"
   ]
  },
  {
   "cell_type": "code",
   "execution_count": 0,
   "metadata": {
    "colab": {
     "base_uri": "https://localhost:8080/",
     "height": 34
    },
    "colab_type": "code",
    "executionInfo": {
     "elapsed": 525,
     "status": "ok",
     "timestamp": 1547176696037,
     "user": {
      "displayName": "MIKIO KUBO",
      "photoUrl": "",
      "userId": "03564531269876570263"
     },
     "user_tz": -540
    },
    "id": "MJf-bEBM6VTa",
    "outputId": "7d60dcc0-ea82-41a7-caca-018061a01731"
   },
   "outputs": [
    {
     "data": {
      "text/plain": [
       "3"
      ]
     },
     "execution_count": 12,
     "metadata": {
      "tags": []
     },
     "output_type": "execute_result"
    }
   ],
   "source": [
    "np.argmin(x) #最小値になるインデックス"
   ]
  },
  {
   "cell_type": "code",
   "execution_count": 0,
   "metadata": {
    "colab": {
     "base_uri": "https://localhost:8080/",
     "height": 34
    },
    "colab_type": "code",
    "executionInfo": {
     "elapsed": 582,
     "status": "ok",
     "timestamp": 1547176697072,
     "user": {
      "displayName": "MIKIO KUBO",
      "photoUrl": "",
      "userId": "03564531269876570263"
     },
     "user_tz": -540
    },
    "id": "5b-GKTDc6VTb",
    "outputId": "41a889a9-cd19-4dba-a726-7323a3e85fb5"
   },
   "outputs": [
    {
     "data": {
      "text/plain": [
       "407"
      ]
     },
     "execution_count": 13,
     "metadata": {
      "tags": []
     },
     "output_type": "execute_result"
    }
   ],
   "source": [
    "np.sum(x)  #合計を求める"
   ]
  },
  {
   "cell_type": "code",
   "execution_count": 0,
   "metadata": {
    "colab": {
     "base_uri": "https://localhost:8080/",
     "height": 34
    },
    "colab_type": "code",
    "executionInfo": {
     "elapsed": 491,
     "status": "ok",
     "timestamp": 1547176697772,
     "user": {
      "displayName": "MIKIO KUBO",
      "photoUrl": "",
      "userId": "03564531269876570263"
     },
     "user_tz": -540
    },
    "id": "be9ZlrXR6VTd",
    "outputId": "0eb272d2-6d31-49cc-fc5c-790ed7752f8a"
   },
   "outputs": [
    {
     "data": {
      "text/plain": [
       "18.149655644116226"
      ]
     },
     "execution_count": 14,
     "metadata": {
      "tags": []
     },
     "output_type": "execute_result"
    }
   ],
   "source": [
    "np.std(x) #標準偏差を求める"
   ]
  },
  {
   "cell_type": "code",
   "execution_count": 0,
   "metadata": {
    "colab": {
     "base_uri": "https://localhost:8080/",
     "height": 70
    },
    "colab_type": "code",
    "executionInfo": {
     "elapsed": 661,
     "status": "ok",
     "timestamp": 1547176698428,
     "user": {
      "displayName": "MIKIO KUBO",
      "photoUrl": "",
      "userId": "03564531269876570263"
     },
     "user_tz": -540
    },
    "id": "GsRSi5Kw6VTg",
    "outputId": "1718aacd-4557-4b15-9657-0123d90956d2"
   },
   "outputs": [
    {
     "data": {
      "text/plain": [
       "array([[46, 13, 57, 86, 52],\n",
       "       [89, 73, 36, 47, 21],\n",
       "       [40,  7, 36, 23,  3]])"
      ]
     },
     "execution_count": 15,
     "metadata": {
      "tags": []
     },
     "output_type": "execute_result"
    }
   ],
   "source": [
    "A =np.random.randint(low=1,high=100, size=(3,5)) #ランダムな要素を含んだ行列 A を生成\n",
    "A"
   ]
  },
  {
   "cell_type": "code",
   "execution_count": 0,
   "metadata": {
    "colab": {
     "base_uri": "https://localhost:8080/",
     "height": 34
    },
    "colab_type": "code",
    "executionInfo": {
     "elapsed": 453,
     "status": "ok",
     "timestamp": 1547176699106,
     "user": {
      "displayName": "MIKIO KUBO",
      "photoUrl": "",
      "userId": "03564531269876570263"
     },
     "user_tz": -540
    },
    "id": "E7Xq8aVJ6VTj",
    "outputId": "6573944c-4f9e-4d38-85e5-002b9834a662"
   },
   "outputs": [
    {
     "data": {
      "text/plain": [
       "array([175,  93, 129, 156,  76])"
      ]
     },
     "execution_count": 16,
     "metadata": {
      "tags": []
     },
     "output_type": "execute_result"
    }
   ],
   "source": [
    "np.sum(A, axis=0) #行方向（軸番号=0)で合計"
   ]
  },
  {
   "cell_type": "code",
   "execution_count": 0,
   "metadata": {
    "colab": {
     "base_uri": "https://localhost:8080/",
     "height": 34
    },
    "colab_type": "code",
    "executionInfo": {
     "elapsed": 331,
     "status": "ok",
     "timestamp": 1547176699905,
     "user": {
      "displayName": "MIKIO KUBO",
      "photoUrl": "",
      "userId": "03564531269876570263"
     },
     "user_tz": -540
    },
    "id": "wlSVbeXB6VTk",
    "outputId": "9edafe08-b47f-4a44-b528-c5ae5af6bc33"
   },
   "outputs": [
    {
     "data": {
      "text/plain": [
       "array([254, 266, 109])"
      ]
     },
     "execution_count": 17,
     "metadata": {
      "tags": []
     },
     "output_type": "execute_result"
    }
   ],
   "source": [
    "np.sum(A, axis=1) #列方向（軸番号=1)で合計"
   ]
  },
  {
   "cell_type": "markdown",
   "metadata": {
    "colab_type": "text",
    "id": "1Beu5b1N6VTm"
   },
   "source": [
    "### 問題\n",
    "\n",
    "1. 上の行列Aの行ごとの最小値を求めよ．\n",
    "2. 同じ行列の列ごとの最小値を求めよ．\n",
    "3. さいころを $10$回振ったときの結果の配列を作成し，試行の中の最小値，最大値，平均値を出力せよ．\n",
    "4. 平均 $10$，標準偏差 $10$ の正規乱数を $10 \\times 10$ の行列に入れ，全体の平均，行ごとの平均を出力せよ．\n",
    "\n",
    "### 문제\n",
    "\n",
    "1. 위의 행렬 A의 각 행의 최소값을 구하라.\n",
    "2. 같은 행렬의 각 열마다 최소 구하라.\n",
    "3. 주사위를 $ 10 $ 번 흔들 때의 결과 배열을 만들고 시도의 최소값, 최대 값, 평균값을 출력하라.\n",
    "4. 평균 $ 10 $, 표준 편차 $ 10 $ 정규 난수를 $ 10 \\ times 10 $의 행렬에 넣어 전체 평균 각 행의 평균을 출력하라.\n"
   ]
  },
  {
   "cell_type": "code",
   "execution_count": 0,
   "metadata": {
    "colab": {},
    "colab_type": "code",
    "id": "0bhREI8e6VTn"
   },
   "outputs": [],
   "source": []
  },
  {
   "cell_type": "code",
   "execution_count": 0,
   "metadata": {
    "colab": {},
    "colab_type": "code",
    "id": "Y9QkqvLY6VTo"
   },
   "outputs": [],
   "source": []
  },
  {
   "cell_type": "markdown",
   "metadata": {
    "colab_type": "text",
    "id": "R-ajFYSA6VTp"
   },
   "source": [
    "# ブロードキャスト\n",
    "\n",
    "```python\n",
    " 多次元配列 = 多次元配列 + スカラー\n",
    "```\n",
    "になるのは，同じ型になるように変形してから演算を行うためである．\n",
    "\n",
    "\n",
    "``` python\n",
    "x= np.arange(5)  # [0 1 2 3 4]  型は (5,)\n",
    "x + 10           # 結果は array([10, 11, 12, 13, 14])\n",
    "```\n",
    "\n",
    "スカラー10をxと同じ型(5,)になるようにコピーしてから加算をしている．\n",
    "``` python\n",
    "x+ np.array([10,10,10,10,10]) #スカラー10を1次元配列にしてから，同じ長さになるまでコピー（ブロードキャスト）\n",
    "```\n",
    "\n",
    "同様に3行3列の行列 A と長さ3のベクトルxの加算を試してみる．"
   ]
  },
  {
   "cell_type": "code",
   "execution_count": 0,
   "metadata": {
    "colab": {
     "base_uri": "https://localhost:8080/",
     "height": 105
    },
    "colab_type": "code",
    "executionInfo": {
     "elapsed": 561,
     "status": "ok",
     "timestamp": 1547176705201,
     "user": {
      "displayName": "MIKIO KUBO",
      "photoUrl": "",
      "userId": "03564531269876570263"
     },
     "user_tz": -540
    },
    "id": "vzGJICsK6VTp",
    "outputId": "72c69e6f-ffad-444c-e989-ef86672a7d51"
   },
   "outputs": [
    {
     "name": "stdout",
     "output_type": "stream",
     "text": [
      "A= [[1. 1. 1.]\n",
      " [1. 1. 1.]\n",
      " [1. 1. 1.]]\n",
      "x= [10 20 30]\n",
      "(3, 3) (3,)\n"
     ]
    }
   ],
   "source": [
    "A = np.ones( (3,3) )\n",
    "x = np.array( [10,20,30])\n",
    "print( 'A=', A)\n",
    "print( 'x=', x)\n",
    "print(A.shape, x.shape)"
   ]
  },
  {
   "cell_type": "code",
   "execution_count": 0,
   "metadata": {
    "colab": {
     "base_uri": "https://localhost:8080/",
     "height": 70
    },
    "colab_type": "code",
    "executionInfo": {
     "elapsed": 652,
     "status": "ok",
     "timestamp": 1547176706304,
     "user": {
      "displayName": "MIKIO KUBO",
      "photoUrl": "",
      "userId": "03564531269876570263"
     },
     "user_tz": -540
    },
    "id": "HUD-fNAt6VTs",
    "outputId": "81252439-6d6b-4b07-86c7-c58dbb1d6ff2"
   },
   "outputs": [
    {
     "data": {
      "text/plain": [
       "array([[11., 21., 31.],\n",
       "       [11., 21., 31.],\n",
       "       [11., 21., 31.]])"
      ]
     },
     "execution_count": 19,
     "metadata": {
      "tags": []
     },
     "output_type": "execute_result"
    }
   ],
   "source": [
    "A+x #ブロードキャストを用いた加算"
   ]
  },
  {
   "cell_type": "code",
   "execution_count": 0,
   "metadata": {
    "colab": {
     "base_uri": "https://localhost:8080/",
     "height": 70
    },
    "colab_type": "code",
    "executionInfo": {
     "elapsed": 562,
     "status": "ok",
     "timestamp": 1547176707525,
     "user": {
      "displayName": "MIKIO KUBO",
      "photoUrl": "",
      "userId": "03564531269876570263"
     },
     "user_tz": -540
    },
    "id": "-0H_XP8m6VTx",
    "outputId": "4a55962a-c1f1-41d0-bbf4-5979f65b1e95"
   },
   "outputs": [
    {
     "data": {
      "text/plain": [
       "array([[11., 21., 31.],\n",
       "       [11., 21., 31.],\n",
       "       [11., 21., 31.]])"
      ]
     },
     "execution_count": 20,
     "metadata": {
      "tags": []
     },
     "output_type": "execute_result"
    }
   ],
   "source": [
    "A+np.array( [[10,20,30], \n",
    "             [10,20,30],\n",
    "             [10,20,30]] ) #[10,20,30] のコピーを作成してから加算"
   ]
  },
  {
   "cell_type": "code",
   "execution_count": 0,
   "metadata": {
    "colab": {
     "base_uri": "https://localhost:8080/",
     "height": 105
    },
    "colab_type": "code",
    "executionInfo": {
     "elapsed": 389,
     "status": "ok",
     "timestamp": 1547176708207,
     "user": {
      "displayName": "MIKIO KUBO",
      "photoUrl": "",
      "userId": "03564531269876570263"
     },
     "user_tz": -540
    },
    "id": "c6lJWP_K6VTz",
    "outputId": "29837bb5-35f4-481b-efe0-8f9780db0c2d"
   },
   "outputs": [
    {
     "name": "stdout",
     "output_type": "stream",
     "text": [
      "x= [[1.]\n",
      " [2.]\n",
      " [3.]]\n",
      "y= [10 20 30]\n",
      "(3, 1) (3,)\n"
     ]
    }
   ],
   "source": [
    "x = np.array( [[1.,2,3]] ).T  #3行1列の行列（縦ベクトル）\n",
    "y = np.array( [10,20,30])     #長さ3の横ベクトル\n",
    "print(\"x=\",x)\n",
    "print(\"y=\",y)\n",
    "print(x.shape, y.shape)"
   ]
  },
  {
   "cell_type": "code",
   "execution_count": 0,
   "metadata": {
    "colab": {
     "base_uri": "https://localhost:8080/",
     "height": 70
    },
    "colab_type": "code",
    "executionInfo": {
     "elapsed": 420,
     "status": "ok",
     "timestamp": 1547176709021,
     "user": {
      "displayName": "MIKIO KUBO",
      "photoUrl": "",
      "userId": "03564531269876570263"
     },
     "user_tz": -540
    },
    "id": "DAS30aB86VT1",
    "outputId": "8a2e4114-7c2a-4b36-e742-627076bb709c"
   },
   "outputs": [
    {
     "data": {
      "text/plain": [
       "array([[11., 21., 31.],\n",
       "       [12., 22., 32.],\n",
       "       [13., 23., 33.]])"
      ]
     },
     "execution_count": 22,
     "metadata": {
      "tags": []
     },
     "output_type": "execute_result"
    }
   ],
   "source": [
    "x+y #ブロードキャストによる加算"
   ]
  },
  {
   "cell_type": "code",
   "execution_count": 0,
   "metadata": {
    "colab": {
     "base_uri": "https://localhost:8080/",
     "height": 70
    },
    "colab_type": "code",
    "executionInfo": {
     "elapsed": 389,
     "status": "ok",
     "timestamp": 1547176709853,
     "user": {
      "displayName": "MIKIO KUBO",
      "photoUrl": "",
      "userId": "03564531269876570263"
     },
     "user_tz": -540
    },
    "id": "XMLAM_bT6VT2",
    "outputId": "82a9707b-a171-4347-84ee-5750434840bb"
   },
   "outputs": [
    {
     "data": {
      "text/plain": [
       "array([[11, 21, 31],\n",
       "       [12, 22, 32],\n",
       "       [13, 23, 33]])"
      ]
     },
     "execution_count": 23,
     "metadata": {
      "tags": []
     },
     "output_type": "execute_result"
    }
   ],
   "source": [
    "np.array([[1,1,1],\n",
    "          [2,2,2],\n",
    "          [3,3,3]])+np.array( [[10,20,30], \n",
    "                              [10,20,30],\n",
    "                             [10,20,30]] ) #コピーを作成してから加算 "
   ]
  },
  {
   "cell_type": "markdown",
   "metadata": {
    "colab_type": "text",
    "id": "5McKFQM16VT5"
   },
   "source": [
    "# インデックス配列\n",
    "\n",
    "NumPyでは，添え字を別の配列で指定できる．この機能はpandasでよく使うので，慣れておく必要がある．\n",
    "\n",
    "添え字の配列（もしくはリスト）を用いて配列 $x$ から添え字に対応する要素を取り出す．\n",
    "\n",
    "```python \n",
    "x = np.array( [1,2,3,4,5,6] )\n",
    "ind = np.array( [1,3,5] )  # リスト [1,3,5] でも同じ\n",
    "x[ind]\n",
    "\n",
    ">>> 結果\n",
    "array([2, 4, 6])\n",
    "```\n",
    "\n",
    "NumPyの配列に対して要素がTrueかFalseになる条件式を書くと，要素がTrueかFalseの配列が生成される．\n",
    "これをBoolインデックス配列とよぶ．\n",
    "```python \n",
    "x = np.array( [1,2,3,4,5,6] )\n",
    "x%2 == 1 #2で割ったときの余りが1か？\n",
    "\n",
    ">>> 結果\n",
    "array([ True, False,  True, False,  True, False], dtype=bool)\n",
    "```\n",
    "\n",
    "この配列の要素がTrueの部分だけを切り出すことができる．\n",
    "```python \n",
    "x = np.array( [1,2,3,4,5,6] )\n",
    "bool_index = x%2 == 1 \n",
    "x[ bool_index ]\n",
    "\n",
    ">>> 結果\n",
    "array([1, 3, 5])\n",
    "```\n",
    "\n",
    "これを1行で行うと\n",
    "```python \n",
    " x[ x%2==1 ]\n",
    "```\n",
    "と書ける．\n",
    "\n",
    "複数の論理条件を入れる場合には，集合(set)に対する演算子を用いる．\n",
    "\n",
    "かつ（and）は &，または（or）は | である．論理条件には必ず( )をつけて区分を明確にする．\n",
    "たとえば，偶数で $4$以上のものを切り出すには，\n",
    "```python \n",
    "x[ (x%2==0) & (x>=4) ] # array([4, 6])\n",
    "```\n",
    "とする．\n",
    "\n",
    "例として，ランダムに生成した長さ10の配列から，条件を満たすものを切り出してみる．\n"
   ]
  },
  {
   "cell_type": "code",
   "execution_count": 0,
   "metadata": {
    "colab": {
     "base_uri": "https://localhost:8080/",
     "height": 34
    },
    "colab_type": "code",
    "executionInfo": {
     "elapsed": 536,
     "status": "ok",
     "timestamp": 1547176712061,
     "user": {
      "displayName": "MIKIO KUBO",
      "photoUrl": "",
      "userId": "03564531269876570263"
     },
     "user_tz": -540
    },
    "id": "JPtBnDVu6VT5",
    "outputId": "84e447c5-187a-4765-9d2b-537623518f82"
   },
   "outputs": [
    {
     "data": {
      "text/plain": [
       "array([13, 65, 63, 28, 80, 38, 74, 92, 88, 73])"
      ]
     },
     "execution_count": 24,
     "metadata": {
      "tags": []
     },
     "output_type": "execute_result"
    }
   ],
   "source": [
    "x = np.random.randint(low=1,high=100, size=10) #[1,99]の一様乱数による配列\n",
    "x"
   ]
  },
  {
   "cell_type": "code",
   "execution_count": 0,
   "metadata": {
    "colab": {
     "base_uri": "https://localhost:8080/",
     "height": 52
    },
    "colab_type": "code",
    "executionInfo": {
     "elapsed": 370,
     "status": "ok",
     "timestamp": 1547176712731,
     "user": {
      "displayName": "MIKIO KUBO",
      "photoUrl": "",
      "userId": "03564531269876570263"
     },
     "user_tz": -540
    },
    "id": "I1MxIsKM6VT6",
    "outputId": "f69ec732-3e90-4460-d3e2-9464c33f01e5"
   },
   "outputs": [
    {
     "data": {
      "text/plain": [
       "array([ True, False, False,  True, False, False, False, False, False,\n",
       "       False])"
      ]
     },
     "execution_count": 25,
     "metadata": {
      "tags": []
     },
     "output_type": "execute_result"
    }
   ],
   "source": [
    "bool_index = x < 30  #条件を満たすなら True の配列(Boolインデックス配列)\n",
    "bool_index"
   ]
  },
  {
   "cell_type": "code",
   "execution_count": 0,
   "metadata": {
    "colab": {
     "base_uri": "https://localhost:8080/",
     "height": 34
    },
    "colab_type": "code",
    "executionInfo": {
     "elapsed": 389,
     "status": "ok",
     "timestamp": 1547176713403,
     "user": {
      "displayName": "MIKIO KUBO",
      "photoUrl": "",
      "userId": "03564531269876570263"
     },
     "user_tz": -540
    },
    "id": "N6RMsvRb6VT9",
    "outputId": "080209e2-e7f8-49e6-d3e0-de0e481dcf4a"
   },
   "outputs": [
    {
     "data": {
      "text/plain": [
       "array([13, 28])"
      ]
     },
     "execution_count": 26,
     "metadata": {
      "tags": []
     },
     "output_type": "execute_result"
    }
   ],
   "source": [
    "x[ bool_index ] #配列 bool_index がTrueのインデックスから成る配列"
   ]
  },
  {
   "cell_type": "code",
   "execution_count": 0,
   "metadata": {
    "colab": {
     "base_uri": "https://localhost:8080/",
     "height": 34
    },
    "colab_type": "code",
    "executionInfo": {
     "elapsed": 382,
     "status": "ok",
     "timestamp": 1547176713655,
     "user": {
      "displayName": "MIKIO KUBO",
      "photoUrl": "",
      "userId": "03564531269876570263"
     },
     "user_tz": -540
    },
    "id": "YddGe9qz6VT_",
    "outputId": "4f9effe1-f429-4dbc-86c7-647b3d15322a"
   },
   "outputs": [
    {
     "data": {
      "text/plain": [
       "array([13, 28])"
      ]
     },
     "execution_count": 27,
     "metadata": {
      "tags": []
     },
     "output_type": "execute_result"
    }
   ],
   "source": [
    "x[ x <30 ] #上の操作を1行で書く"
   ]
  },
  {
   "cell_type": "code",
   "execution_count": 0,
   "metadata": {
    "colab": {
     "base_uri": "https://localhost:8080/",
     "height": 34
    },
    "colab_type": "code",
    "executionInfo": {
     "elapsed": 430,
     "status": "ok",
     "timestamp": 1547176713931,
     "user": {
      "displayName": "MIKIO KUBO",
      "photoUrl": "",
      "userId": "03564531269876570263"
     },
     "user_tz": -540
    },
    "id": "BeXbQKAs6VUD",
    "outputId": "2e8ff879-6255-4306-cc6b-697a7261603d"
   },
   "outputs": [
    {
     "data": {
      "text/plain": [
       "array([13, 28])"
      ]
     },
     "execution_count": 28,
     "metadata": {
      "tags": []
     },
     "output_type": "execute_result"
    }
   ],
   "source": [
    "x[ (x<=30) & (x>=10) ]  #30以下でかつ10以上のもの（and は & を使う；論理条件には( )をつける) "
   ]
  },
  {
   "cell_type": "code",
   "execution_count": 0,
   "metadata": {
    "colab": {
     "base_uri": "https://localhost:8080/",
     "height": 34
    },
    "colab_type": "code",
    "executionInfo": {
     "elapsed": 532,
     "status": "ok",
     "timestamp": 1547176714747,
     "user": {
      "displayName": "MIKIO KUBO",
      "photoUrl": "",
      "userId": "03564531269876570263"
     },
     "user_tz": -540
    },
    "id": "URm8xore6VUE",
    "outputId": "ccd740f0-c007-4ec4-f363-c26bb5c41930"
   },
   "outputs": [
    {
     "data": {
      "text/plain": [
       "array([13, 28, 80, 38, 74, 92, 88])"
      ]
     },
     "execution_count": 29,
     "metadata": {
      "tags": []
     },
     "output_type": "execute_result"
    }
   ],
   "source": [
    "x[ (x<30) | (x%2==0) ] #30以下かもしくは2で割り切れるもの"
   ]
  },
  {
   "cell_type": "code",
   "execution_count": 0,
   "metadata": {
    "colab": {
     "base_uri": "https://localhost:8080/",
     "height": 52
    },
    "colab_type": "code",
    "executionInfo": {
     "elapsed": 538,
     "status": "ok",
     "timestamp": 1547176715435,
     "user": {
      "displayName": "MIKIO KUBO",
      "photoUrl": "",
      "userId": "03564531269876570263"
     },
     "user_tz": -540
    },
    "id": "DmMcLWJb6VUH",
    "outputId": "c52678f0-18ba-4c84-8de0-fc20c820941c"
   },
   "outputs": [
    {
     "name": "stdout",
     "output_type": "stream",
     "text": [
      "[17 29 93 56 65  6 41 48  8 62]\n"
     ]
    },
    {
     "data": {
      "text/plain": [
       "False"
      ]
     },
     "execution_count": 30,
     "metadata": {
      "tags": []
     },
     "output_type": "execute_result"
    }
   ],
   "source": [
    "x = np.random.randint(low=1,high=100, size=10) #[1,100]の一様乱数による配列\n",
    "print(x)\n",
    "np.all( x <=90 ) #すべてがTrueのときTrueを返す"
   ]
  },
  {
   "cell_type": "code",
   "execution_count": 0,
   "metadata": {
    "colab": {
     "base_uri": "https://localhost:8080/",
     "height": 34
    },
    "colab_type": "code",
    "executionInfo": {
     "elapsed": 517,
     "status": "ok",
     "timestamp": 1547176716131,
     "user": {
      "displayName": "MIKIO KUBO",
      "photoUrl": "",
      "userId": "03564531269876570263"
     },
     "user_tz": -540
    },
    "id": "PlR6eKwd6VUK",
    "outputId": "3e9405a2-3d15-45a1-b071-1062e1d9355f"
   },
   "outputs": [
    {
     "data": {
      "text/plain": [
       "True"
      ]
     },
     "execution_count": 31,
     "metadata": {
      "tags": []
     },
     "output_type": "execute_result"
    }
   ],
   "source": [
    "np.any( x <=10 )   #いずれかの要素がTrueのときTrueを返す"
   ]
  },
  {
   "cell_type": "markdown",
   "metadata": {
    "colab_type": "text",
    "id": "Bu7YzPqq6VUL"
   },
   "source": [
    "### 問題\n",
    "\n",
    "NumPyの配列 $x$ を以下のように生成する．\n",
    "```python \n",
    "x = np.array( [1,2,3,4,5,6] )\n",
    "```\n",
    "\n",
    "1. 添え字が $0$ 番目と $5$ 番目の要素を添え字配列を用いて取り出せ．\n",
    "2. 要素が2で割り切れるものだけをTrueかFalseが入った配列（Bool添え字配列）を用いて取り出せ．\n",
    "3. 要素が奇数のものだけを2倍せよ．\n",
    "\n",
    "### 문제\n",
    "\n",
    "NumPy 배열 $ x $를 다음과 같이 생성한다.\n",
    "```python\n",
    "x = np.array (1,2,3,4,5,6)\n",
    "```\n",
    "\n",
    "1. 첨자가 ​​$ 0 번째로 $ 5 $ 번째 요소를 첨자 배열을 사용하여 꺼낼.\n",
    "2. 요소가 2로 나누어 떨어지는 것만을 True 또는 False를 들어 배열 (Bool 첨자 배열)을 이용하여 꺼낼.\n",
    "3. 요소가 이상한 것만을 2 배하라."
   ]
  },
  {
   "cell_type": "code",
   "execution_count": 0,
   "metadata": {
    "colab": {},
    "colab_type": "code",
    "id": "i31YKkUw6VUM"
   },
   "outputs": [],
   "source": []
  },
  {
   "cell_type": "markdown",
   "metadata": {
    "colab_type": "text",
    "id": "u3JfPRPC6VUN"
   },
   "source": [
    "### 問題\n",
    "1. さいころを $10$回振ったときの結果の配列を作成し，試行の中で $4$ 以上のものだけを切り出せ．\n",
    "2. さいころを $100$回振ったときの結果の配列を作成し，試行の中で $5$ 以上で奇数のものだけを切り出せ．3\n",
    "3. 平均 $10$，標準偏差 $10$ の正規乱数を $10 \\times 10$ の行列に入れ，負のものだけを切り出せ．\n",
    "\n",
    "### 문제\n",
    "1. 주사위를 $ 10 $ 번 흔들 때의 결과 배열을 만들고 시도에서 $ 4 $ 이상 만 切り出せ.\n",
    "2. 주사위를 $ 100 $ 번 흔들 때의 결과 배열을 만들고 시도에서 $ 5 $ 이상으로 이상한 것만 切り出せ. 3\n",
    "3. 평균 $ 10 $, 표준 편차 $ 10 $ 정규 난수를 $ 10 \\ times 10 $의 행렬에 넣어 부정적인 것만 切り出せ."
   ]
  },
  {
   "cell_type": "code",
   "execution_count": 0,
   "metadata": {
    "colab": {},
    "colab_type": "code",
    "id": "t52QY9Qr6VUP"
   },
   "outputs": [],
   "source": []
  },
  {
   "cell_type": "markdown",
   "metadata": {
    "colab_type": "text",
    "id": "FhxKTepC6VUP"
   },
   "source": [
    "### 問題\n",
    "\n",
    "次のプログラムは入力した正の整数 x に対して何を返すためのプログラムか？\n",
    "\n",
    "```python \n",
    "not np.any([x%i == 0 for i in range(2, x)])\n",
    "```"
   ]
  },
  {
   "cell_type": "code",
   "execution_count": 0,
   "metadata": {
    "colab": {},
    "colab_type": "code",
    "id": "ZG1kwN-16VUP"
   },
   "outputs": [],
   "source": []
  },
  {
   "cell_type": "markdown",
   "metadata": {
    "colab_type": "text",
    "id": "Zherhz0P6VUQ"
   },
   "source": [
    "### NumPyによる数列の生成法\n",
    "\n",
    "NumPyには様々な数列を生成するための関数が準備されている．\n",
    "\n",
    "通常のリストと同じように整数の配列を生成するためには，arange関数を用いる．\n",
    "\n",
    "引数は，開始，終了，ステップ（階差）である．\n",
    "\n",
    "```python\n",
    "x = np.arange(1,11,2) # array([1, 3, 5, 7, 9])\n",
    "```\n",
    "\n",
    "配列のサイズ(要素の個数）を指定して階差が等しくなるような数列を生成するには，linspace（線形空間を表すline spaceの意味）関数を用いる．\n",
    "\n",
    "引数は，開始，終了，要素数であるが，既定値だと最後の要素が終了と一致するように生成することに注意されたい．\n",
    "```python\n",
    "x = np.linspace(1,6,10)\n",
    ">>> 結果\n",
    "array([ 1.        ,  1.55555556,  2.11111111,  2.66666667,  3.22222222,\n",
    "        3.77777778,  4.33333333,  4.88888889,  5.44444444,  6.        ])\n",
    "```\n",
    "\n",
    "linspace関数はmatplotlibで関数の図を描画するときによく用いられる．以下に $y=x^2$ のグラフを描画した例を示す．"
   ]
  },
  {
   "cell_type": "code",
   "execution_count": 0,
   "metadata": {
    "colab": {
     "base_uri": "https://localhost:8080/",
     "height": 282
    },
    "colab_type": "code",
    "executionInfo": {
     "elapsed": 545,
     "status": "ok",
     "timestamp": 1547176721834,
     "user": {
      "displayName": "MIKIO KUBO",
      "photoUrl": "",
      "userId": "03564531269876570263"
     },
     "user_tz": -540
    },
    "id": "PNuVnrhM6VUS",
    "outputId": "b6f287ea-36bf-4153-b05a-336cfc14b677"
   },
   "outputs": [
    {
     "data": {
      "text/plain": [
       "[<matplotlib.lines.Line2D at 0x7f3dc85d14a8>]"
      ]
     },
     "execution_count": 32,
     "metadata": {
      "tags": []
     },
     "output_type": "execute_result"
    },
    {
     "data": {
      "image/png": "[encoded data removed]",
      "text/plain": [
       "<matplotlib.figure.Figure at 0x7f3dc8be9320>"
      ]
     },
     "metadata": {
      "tags": []
     },
     "output_type": "display_data"
    }
   ],
   "source": [
    "x = np.linspace(0,100,100)  # 0から1まで均等割りした100個の要素から成る配列\n",
    "y = x**2                   # 同じ長さの配列に xの2乗を入れる\n",
    "import matplotlib.pyplot as plt # 図を描画する準備\n",
    "%matplotlib inline\n",
    "plt.plot(x,y) # 描画"
   ]
  },
  {
   "cell_type": "markdown",
   "metadata": {
    "colab_type": "text",
    "id": "UfTuo3gj6VUS"
   },
   "source": [
    "### 問題\n",
    "\n",
    "1. $x$ に1から100まで公差3の数列を代入し，$x$ の平方根のグラフをプロットせよ．ただし，平方根はNumPyのsqrt関数で計算せよ．(NumPyモジュールのsqrt関数はユニバーサル関数である．mathモジュールのsqrt関数を用いると，スカラーしか計算できないことに注意．）\n",
    "\n",
    "2. 0.1から10まで1000個の数値を均等に配置した $x$ 座標に対して $y=1/x$ の関数を描画せよ．"
   ]
  },
  {
   "cell_type": "code",
   "execution_count": 0,
   "metadata": {
    "colab": {},
    "colab_type": "code",
    "id": "NsNL1ydY6VUT"
   },
   "outputs": [],
   "source": [
    "import matplotlib.pyplot as plt # 図を描画する準備\n",
    "%matplotlib inline\n"
   ]
  },
  {
   "cell_type": "code",
   "execution_count": 0,
   "metadata": {
    "colab": {},
    "colab_type": "code",
    "id": "UrsKJQr86VUW"
   },
   "outputs": [],
   "source": []
  },
  {
   "cell_type": "code",
   "execution_count": 0,
   "metadata": {
    "colab": {},
    "colab_type": "code",
    "id": "DG1swP7s6VUY"
   },
   "outputs": [],
   "source": []
  }
 ],
 "metadata": {
  "colab": {
   "collapsed_sections": [],
   "name": "NumPy1.0.ipynb",
   "provenance": [],
   "toc_visible": true,
   "version": "0.3.2"
  },
  "kernelspec": {
   "display_name": "Python 3",
   "language": "python",
   "name": "python3"
  },
  "language_info": {
   "codemirror_mode": {
    "name": "ipython",
    "version": 3
   },
   "file_extension": ".py",
   "mimetype": "text/x-python",
   "name": "python",
   "nbconvert_exporter": "python",
   "pygments_lexer": "ipython3",
   "version": "3.6.7"
  },
  "latex_envs": {
   "LaTeX_envs_menu_present": true,
   "autoclose": false,
   "autocomplete": true,
   "bibliofile": "biblio.bib",
   "cite_by": "apalike",
   "current_citInitial": 1,
   "eqLabelWithNumbers": true,
   "eqNumInitial": 1,
   "hotkeys": {
    "equation": "Ctrl-E",
    "itemize": "Ctrl-I"
   },
   "labels_anchors": false,
   "latex_user_defs": false,
   "report_style_numbering": false,
   "user_envs_cfg": false
  },
  "toc": {
   "base_numbering": 1,
   "nav_menu": {},
   "number_sections": true,
   "sideBar": true,
   "skip_h1_title": false,
   "title_cell": "Table of Contents",
   "title_sidebar": "Contents",
   "toc_cell": false,
   "toc_position": {},
   "toc_section_display": true,
   "toc_window_display": false
  },
  "varInspector": {
   "cols": {
    "lenName": 16,
    "lenType": 16,
    "lenVar": 40
   },
   "kernels_config": {
    "python": {
     "delete_cmd_postfix": "",
     "delete_cmd_prefix": "del ",
     "library": "var_list.py",
     "varRefreshCmd": "print(var_dic_list())"
    },
    "r": {
     "delete_cmd_postfix": ") ",
     "delete_cmd_prefix": "rm(",
     "library": "var_list.r",
     "varRefreshCmd": "cat(var_dic_list()) "
    }
   },
   "types_to_exclude": [
    "module",
    "function",
    "builtin_function_or_method",
    "instance",
    "_Feature"
   ],
   "window_display": false
  }
 },
 "nbformat": 4,
 "nbformat_minor": 1
}
