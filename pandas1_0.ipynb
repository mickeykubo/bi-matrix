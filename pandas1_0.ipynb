{
  "nbformat": 4,
  "nbformat_minor": 0,
  "metadata": {
    "colab": {
      "name": "pandas1.0.ipynb",
      "version": "0.3.2",
      "provenance": [],
      "collapsed_sections": [],
      "include_colab_link": true
    },
    "kernelspec": {
      "display_name": "Python 3",
      "language": "python",
      "name": "python3"
    }
  },
  "cells": [
    {
      "cell_type": "markdown",
      "metadata": {
        "id": "view-in-github",
        "colab_type": "text"
      },
      "source": [
        "<a href=\"https://colab.research.google.com/github/mickeykubo/bi-matrix/blob/master/pandas1_0.ipynb\" target=\"_parent\"><img src=\"https://colab.research.google.com/assets/colab-badge.svg\" alt=\"Open In Colab\"/></a>"
      ]
    },
    {
      "metadata": {
        "colab_type": "text",
        "id": "ASz_Gm82JyfY"
      },
      "cell_type": "markdown",
      "source": [
        "# Python言語によるビジネスアナリティクス\n",
        "## 実務家のための最適化，統計分析，機械学習（近代科学社）\n",
        "\n",
        "##  Pandas\n",
        "\n",
        "Pandasの機能は豊富すぎて網羅するとわかりにくくなる．ここではデータ解析でよく使うテクニックだけを紹介する．\n",
        "\n",
        "まずpandasモジュール（パッケージ）をインポートする．慣例に従い *pd* という別名をつけておく．"
      ]
    },
    {
      "metadata": {
        "colab_type": "code",
        "id": "iiHM8ujmJyfb",
        "colab": {}
      },
      "cell_type": "code",
      "source": [
        "import pandas as pd"
      ],
      "execution_count": 0,
      "outputs": []
    },
    {
      "metadata": {
        "colab_type": "text",
        "id": "JXtGVxkvJyfi"
      },
      "cell_type": "markdown",
      "source": [
        "# データ読み込み\n",
        "\n",
        "次に，データを読む．urlを直接入れてWeb経由でも読むことができる．\n",
        "\n",
        "ここでは UCI機械学習レポジトリ https://archive.ics.uci.edu/ml/datasets.html からiris（あやめ）のデータを直接読んでみる．\n",
        "\n",
        "ブラウザでurl http://logopt.com/data/iris.data/ をみてデータを確認すると，列の名前（ヘッダー）がついておらずデータだけがカンマ区切りで並んでいるようだ．\n",
        "\n",
        "これはcsv (comma-separated valueの略）ファイルと呼ばれるタイプのテキストファイルなので，read_csv関数で読むことができる．返値はデータを表形式で保管するデータ構造であるデータフレームである．（ここでは *df* という名前の変数に保管しておく．）\n",
        "\n",
        "ついでに列名をnames引数で指定してあげよう．これは列名を表す文字列のリストとして与える．教科書「 Python言語によるビジネスアナリティクスの84ページに書いてあるように，データは順に「'がく片長','がく片幅','花びら長','花びら幅', '種類'」である．\n",
        "\n",
        "# 데이터로드\n",
        "\n",
        "그런 다음 데이터를 읽는다. url을 직접 넣어 Web을 통해서도 읽을 수있다.\n",
        "\n",
        "여기에서는 UCI 기계 학습 저장소 https://archive.ics.uci.edu/ml/datasets.html에서 iris (붓꽃)의 데이터를 직접 읽어 본다.\n",
        "\n",
        "브라우저에서 url http://logopt.com/data/iris.data/를보고 데이터를 확인하면 열 이름 (헤더)가 붙어 있지 않고 데이터 만 쉼표로 구분 지어 보인다.\n",
        "\n",
        "이것은 csv (comma-separated value의 약자)라는 파일 형식의 텍스트 파일이므로 read_csv 함수에서 읽을 수있다. 반환 값은 데이터를 표 형식으로 저장된 데이터 구조 인 데이터 구조이다. (여기 * df *라는 변수에 보관 해 둔다.)\n",
        "\n",
        "김에 열 이름을 names 인수로 지정해 주자. 이것은 열 이름을 나타내는 문자열 목록으로 준다. 교과서 \"Python 언어에 의한 비즈니스 분석의 84 페이지에 써있는 것처럼 데이터는 순차적으로\" '꽃받침 片長', '꽃받침 片幅', '꽃잎 길이', '꽃잎 폭', '종류' '이다."
      ]
    },
    {
      "metadata": {
        "colab_type": "code",
        "id": "B8b8PpXZJyfk",
        "colab": {}
      },
      "cell_type": "code",
      "source": [
        "df = pd.read_csv('http://logopt.com/data/iris.data', names=['꽃받침Length','꽃받침Width','꽃잎 길이','꽃잎 폭', '종류'])"
      ],
      "execution_count": 0,
      "outputs": []
    },
    {
      "metadata": {
        "colab_type": "code",
        "id": "bq19ZbM1Jyfq",
        "outputId": "b228852c-3629-4165-dc2a-a1475bc3b340",
        "colab": {
          "base_uri": "https://localhost:8080/",
          "height": 195
        }
      },
      "cell_type": "code",
      "source": [
        "df.head() # headメソッドで最初の5つだけを表示（最後を表示するにはtailを使う；やってみよう！）"
      ],
      "execution_count": 0,
      "outputs": [
        {
          "output_type": "execute_result",
          "data": {
            "text/html": [
              "<div>\n",
              "<style>\n",
              "    .dataframe thead tr:only-child th {\n",
              "        text-align: right;\n",
              "    }\n",
              "\n",
              "    .dataframe thead th {\n",
              "        text-align: left;\n",
              "    }\n",
              "\n",
              "    .dataframe tbody tr th {\n",
              "        vertical-align: top;\n",
              "    }\n",
              "</style>\n",
              "<table border=\"1\" class=\"dataframe\">\n",
              "  <thead>\n",
              "    <tr style=\"text-align: right;\">\n",
              "      <th></th>\n",
              "      <th>꽃받침Length</th>\n",
              "      <th>꽃받침Width</th>\n",
              "      <th>꽃잎 길이</th>\n",
              "      <th>꽃잎 폭</th>\n",
              "      <th>종류</th>\n",
              "    </tr>\n",
              "  </thead>\n",
              "  <tbody>\n",
              "    <tr>\n",
              "      <th>0</th>\n",
              "      <td>5.1</td>\n",
              "      <td>3.5</td>\n",
              "      <td>1.4</td>\n",
              "      <td>0.2</td>\n",
              "      <td>Iris-setosa</td>\n",
              "    </tr>\n",
              "    <tr>\n",
              "      <th>1</th>\n",
              "      <td>4.9</td>\n",
              "      <td>3.0</td>\n",
              "      <td>1.4</td>\n",
              "      <td>0.2</td>\n",
              "      <td>Iris-setosa</td>\n",
              "    </tr>\n",
              "    <tr>\n",
              "      <th>2</th>\n",
              "      <td>4.7</td>\n",
              "      <td>3.2</td>\n",
              "      <td>1.3</td>\n",
              "      <td>0.2</td>\n",
              "      <td>Iris-setosa</td>\n",
              "    </tr>\n",
              "    <tr>\n",
              "      <th>3</th>\n",
              "      <td>4.6</td>\n",
              "      <td>3.1</td>\n",
              "      <td>1.5</td>\n",
              "      <td>0.2</td>\n",
              "      <td>Iris-setosa</td>\n",
              "    </tr>\n",
              "    <tr>\n",
              "      <th>4</th>\n",
              "      <td>5.0</td>\n",
              "      <td>3.6</td>\n",
              "      <td>1.4</td>\n",
              "      <td>0.2</td>\n",
              "      <td>Iris-setosa</td>\n",
              "    </tr>\n",
              "  </tbody>\n",
              "</table>\n",
              "</div>"
            ],
            "text/plain": [
              "   꽃받침Length  꽃받침Width  꽃잎 길이  꽃잎 폭           종류\n",
              "0        5.1       3.5    1.4   0.2  Iris-setosa\n",
              "1        4.9       3.0    1.4   0.2  Iris-setosa\n",
              "2        4.7       3.2    1.3   0.2  Iris-setosa\n",
              "3        4.6       3.1    1.5   0.2  Iris-setosa\n",
              "4        5.0       3.6    1.4   0.2  Iris-setosa"
            ]
          },
          "metadata": {
            "tags": []
          },
          "execution_count": 7
        }
      ]
    },
    {
      "metadata": {
        "colab_type": "text",
        "id": "fpvKCFdH766p"
      },
      "cell_type": "markdown",
      "source": [
        "もう１つの例題としてUFOの目撃情報のデータを読み込んでみよう。データはhttp://logopt.com/data/ufo.csv にある。\n",
        "\n",
        "このデータはヘッダーが付いているので、**names**で列名を指定せずに読み込むことがでいる。ただし、最初の列が抜けているので、Unnamed:0 と表示される。"
      ]
    },
    {
      "metadata": {
        "colab_type": "code",
        "id": "qWRL1VtF77H9",
        "outputId": "489207e9-6965-41a0-932e-6db0db18550d",
        "colab": {
          "base_uri": "https://localhost:8080/",
          "height": 195
        }
      },
      "cell_type": "code",
      "source": [
        "ufo = pd.read_csv('http://logopt.com/data/ufo.csv')\n",
        "ufo.head()"
      ],
      "execution_count": 0,
      "outputs": [
        {
          "output_type": "execute_result",
          "data": {
            "text/html": [
              "<div>\n",
              "<style>\n",
              "    .dataframe thead tr:only-child th {\n",
              "        text-align: right;\n",
              "    }\n",
              "\n",
              "    .dataframe thead th {\n",
              "        text-align: left;\n",
              "    }\n",
              "\n",
              "    .dataframe tbody tr th {\n",
              "        vertical-align: top;\n",
              "    }\n",
              "</style>\n",
              "<table border=\"1\" class=\"dataframe\">\n",
              "  <thead>\n",
              "    <tr style=\"text-align: right;\">\n",
              "      <th></th>\n",
              "      <th>Unnamed: 0</th>\n",
              "      <th>City</th>\n",
              "      <th>Colors Reported</th>\n",
              "      <th>Shape Reported</th>\n",
              "      <th>State</th>\n",
              "      <th>Time</th>\n",
              "    </tr>\n",
              "  </thead>\n",
              "  <tbody>\n",
              "    <tr>\n",
              "      <th>0</th>\n",
              "      <td>0</td>\n",
              "      <td>Ithaca</td>\n",
              "      <td>NaN</td>\n",
              "      <td>TRIANGLE</td>\n",
              "      <td>NY</td>\n",
              "      <td>6/1/1930 22:00</td>\n",
              "    </tr>\n",
              "    <tr>\n",
              "      <th>1</th>\n",
              "      <td>1</td>\n",
              "      <td>Willingboro</td>\n",
              "      <td>NaN</td>\n",
              "      <td>OTHER</td>\n",
              "      <td>NJ</td>\n",
              "      <td>6/30/1930 20:00</td>\n",
              "    </tr>\n",
              "    <tr>\n",
              "      <th>2</th>\n",
              "      <td>2</td>\n",
              "      <td>Holyoke</td>\n",
              "      <td>NaN</td>\n",
              "      <td>OVAL</td>\n",
              "      <td>CO</td>\n",
              "      <td>2/15/1931 14:00</td>\n",
              "    </tr>\n",
              "    <tr>\n",
              "      <th>3</th>\n",
              "      <td>3</td>\n",
              "      <td>Abilene</td>\n",
              "      <td>NaN</td>\n",
              "      <td>DISK</td>\n",
              "      <td>KS</td>\n",
              "      <td>6/1/1931 13:00</td>\n",
              "    </tr>\n",
              "    <tr>\n",
              "      <th>4</th>\n",
              "      <td>4</td>\n",
              "      <td>New York Worlds Fair</td>\n",
              "      <td>NaN</td>\n",
              "      <td>LIGHT</td>\n",
              "      <td>NY</td>\n",
              "      <td>4/18/1933 19:00</td>\n",
              "    </tr>\n",
              "  </tbody>\n",
              "</table>\n",
              "</div>"
            ],
            "text/plain": [
              "   Unnamed: 0                  City Colors Reported Shape Reported State  \\\n",
              "0           0                Ithaca             NaN       TRIANGLE    NY   \n",
              "1           1           Willingboro             NaN          OTHER    NJ   \n",
              "2           2               Holyoke             NaN           OVAL    CO   \n",
              "3           3               Abilene             NaN           DISK    KS   \n",
              "4           4  New York Worlds Fair             NaN          LIGHT    NY   \n",
              "\n",
              "              Time  \n",
              "0   6/1/1930 22:00  \n",
              "1  6/30/1930 20:00  \n",
              "2  2/15/1931 14:00  \n",
              "3   6/1/1931 13:00  \n",
              "4  4/18/1933 19:00  "
            ]
          },
          "metadata": {
            "tags": []
          },
          "execution_count": 8
        }
      ]
    },
    {
      "metadata": {
        "colab_type": "text",
        "id": "DS3Ndx7pJyfu"
      },
      "cell_type": "markdown",
      "source": [
        "### 問題\n",
        "\n",
        "ワインに関するデータセットから，wineデータを読み込んで，wineという名前でデータフレームに保管せよ．\n",
        "\n",
        "元データはこちらに格納されている．\n",
        "\n",
        "http://logopt.com/data/wine.data\n",
        "\n",
        "列名は https://archive.ics.uci.edu/ml/datasets/Wine で解説されているが，必要ならば以下のリストを用いて，列名を設定して読み込め．\n",
        "\n",
        "``` python \n",
        "L = [ 'Alcohol', 'Malic','Ash', 'Alcalinity', 'Magnesium', 'Phenols', 'Flavanoids', 'Nonflavanoid', 'Proanthocyanins', 'Color', 'Hue', 'OD280', 'OD315', 'Proline']  \n",
        "```\n",
        "\n",
        "さらに，最後の5つのデータを表示させて確認せよ．\n",
        "\n",
        "3.0.1 문제\n",
        "와인에 대한 데이터 세트에서 wine 데이터를 읽어 들여, wine라는 데이터 프레임에 보관하라.\n",
        "\n",
        "원래 데이터는 여기에 포함되어있다.\n",
        "\n",
        "http://logopt.com/data/wine.data\n",
        "\n",
        "열 이름은 https://archive.ics.uci.edu/ml/datasets/Wine에서 설명되어 있지만, 필요하다면 아래 목록을 사용하여 열 이름을 설정하고로드.\n",
        "\n",
        "L = [ 'Alcohol', 'Malic', 'Ash', 'Alcalinity', 'Magnesium', 'Phenols', 'Flavanoids', 'Nonflavanoid', 'Proanthocyanins', 'Color', 'Hue', 'OD280' 'OD315', 'Proline']\n",
        "또한 마지막 5 개의 데이터를 표시하고 확인하라."
      ]
    },
    {
      "metadata": {
        "colab_type": "code",
        "id": "BRNBc3JjJyfv",
        "colab": {}
      },
      "cell_type": "code",
      "source": [
        "L = [ 'Alcohol', 'Malic','Ash', 'Alcalinity', 'Magnesium', 'Phenols', 'Flavanoids', 'Nonflavanoid', 'Proanthocyanins', 'Color', 'Hue', 'OD280', 'OD315', 'Proline']  "
      ],
      "execution_count": 0,
      "outputs": []
    },
    {
      "metadata": {
        "colab_type": "text",
        "id": "RPOsTpW6-1_b"
      },
      "cell_type": "markdown",
      "source": [
        "### 問題\n",
        "\n",
        "ビデオゲームのセールスデータを http://logopt.com/data/vgsales.csv から読みこみ、データフレームに保管せよ。ただし、このデータにはヘッダーが付いている。"
      ]
    },
    {
      "metadata": {
        "colab_type": "code",
        "id": "gJd6-6uI_I4W",
        "colab": {}
      },
      "cell_type": "code",
      "source": [
        ""
      ],
      "execution_count": 0,
      "outputs": []
    },
    {
      "metadata": {
        "colab_type": "text",
        "id": "kAoRnGvlJyfx"
      },
      "cell_type": "markdown",
      "source": [
        "### 問題\n",
        "\n",
        "車の燃費に関するデータセットから，Auto MPGデータを読み込んで，carという名前でデータフレームに保管せよ．\n",
        "\n",
        "元データはこちらに格納されている．\n",
        "\n",
        "http://logopt.com/data/auto-mpg.data\n",
        "\n",
        "データを確認してみると，このデータはカンマ(,)区切り（これがread_csv関数の規定値）ではなく，空白で区切られている．\n",
        "\n",
        "このような場合には，read_csvの引数の delim_whitespace をTrueに設定しておく必要がある．\n",
        "\n",
        "列名は https://archive.ics.uci.edu/ml/datasets/Auto+MPG で解説されているが，必要ならば以下のリストを用いて，列名を設定して読み込め．\n",
        "\n",
        "``` python \n",
        "L = ['mpg', 'cylinders', 'displacement', 'horsepower','weight', 'acceleration','year','origin', 'name'] \n",
        "```\n",
        "\n",
        "さらに，最初と最後の5つのデータを表示させて確認せよ．"
      ]
    },
    {
      "metadata": {
        "colab_type": "code",
        "id": "XWkaLLINJyfy",
        "colab": {}
      },
      "cell_type": "code",
      "source": [
        "L = ['mpg', 'cylinders', 'displacement', 'horsepower','weight', 'acceleration','year','origin', 'name'] "
      ],
      "execution_count": 0,
      "outputs": []
    },
    {
      "metadata": {
        "colab_type": "text",
        "id": "gVxK-2AfJyf1"
      },
      "cell_type": "markdown",
      "source": [
        "# データフレームの属性\n",
        "\n",
        "pandasのデータフレームは，Excelの表のようなものなので，行と列でアクセスできる．\n",
        "\n",
        "行に付加されたラベルを**インデックス(index)**とよぶ．一番左端 $0,1,2,3.\\ldots$ と表示されている太字の列がインデックスである．\n",
        "これは**index属性**でアクセスできる．\n",
        "\n",
        "# 데이터 프레임의 특성\n",
        "\n",
        "pandas 데이터 프레임은 Excel 테이블과 같은 것이므로, 행과 열로 액세스 할 수있다.\n",
        "\n",
        "행에 부가 된 라벨을 **인덱스 (index)** 라고 부른다. 맨 왼쪽 $0,1,2,3 \\ldots$ 로 표시되는 굵은 열이 인덱스이다.\n",
        "이것은 **index 속성** 에 액세스 할 수있다."
      ]
    },
    {
      "metadata": {
        "colab_type": "code",
        "id": "VfL7u1EzJyf2",
        "outputId": "c6836e5d-1daf-4a35-c7cf-ed1f463fd975",
        "colab": {
          "base_uri": "https://localhost:8080/",
          "height": 221
        }
      },
      "cell_type": "code",
      "source": [
        "df = pd.read_csv('http://logopt.com/data/iris.data', names=['꽃받침Length','꽃받침Width','꽃잎 길이','꽃잎 폭', '종류'])\n",
        "print(df.index) #インデックスは0から149までの整数であることが表示される． \n",
        "df.head()"
      ],
      "execution_count": 0,
      "outputs": [
        {
          "output_type": "stream",
          "text": [
            "RangeIndex(start=0, stop=150, step=1)\n"
          ],
          "name": "stdout"
        },
        {
          "output_type": "execute_result",
          "data": {
            "text/html": [
              "<div>\n",
              "<style>\n",
              "    .dataframe thead tr:only-child th {\n",
              "        text-align: right;\n",
              "    }\n",
              "\n",
              "    .dataframe thead th {\n",
              "        text-align: left;\n",
              "    }\n",
              "\n",
              "    .dataframe tbody tr th {\n",
              "        vertical-align: top;\n",
              "    }\n",
              "</style>\n",
              "<table border=\"1\" class=\"dataframe\">\n",
              "  <thead>\n",
              "    <tr style=\"text-align: right;\">\n",
              "      <th></th>\n",
              "      <th>꽃받침Length</th>\n",
              "      <th>꽃받침Width</th>\n",
              "      <th>꽃잎 길이</th>\n",
              "      <th>꽃잎 폭</th>\n",
              "      <th>종류</th>\n",
              "    </tr>\n",
              "  </thead>\n",
              "  <tbody>\n",
              "    <tr>\n",
              "      <th>0</th>\n",
              "      <td>5.1</td>\n",
              "      <td>3.5</td>\n",
              "      <td>1.4</td>\n",
              "      <td>0.2</td>\n",
              "      <td>Iris-setosa</td>\n",
              "    </tr>\n",
              "    <tr>\n",
              "      <th>1</th>\n",
              "      <td>4.9</td>\n",
              "      <td>3.0</td>\n",
              "      <td>1.4</td>\n",
              "      <td>0.2</td>\n",
              "      <td>Iris-setosa</td>\n",
              "    </tr>\n",
              "    <tr>\n",
              "      <th>2</th>\n",
              "      <td>4.7</td>\n",
              "      <td>3.2</td>\n",
              "      <td>1.3</td>\n",
              "      <td>0.2</td>\n",
              "      <td>Iris-setosa</td>\n",
              "    </tr>\n",
              "    <tr>\n",
              "      <th>3</th>\n",
              "      <td>4.6</td>\n",
              "      <td>3.1</td>\n",
              "      <td>1.5</td>\n",
              "      <td>0.2</td>\n",
              "      <td>Iris-setosa</td>\n",
              "    </tr>\n",
              "    <tr>\n",
              "      <th>4</th>\n",
              "      <td>5.0</td>\n",
              "      <td>3.6</td>\n",
              "      <td>1.4</td>\n",
              "      <td>0.2</td>\n",
              "      <td>Iris-setosa</td>\n",
              "    </tr>\n",
              "  </tbody>\n",
              "</table>\n",
              "</div>"
            ],
            "text/plain": [
              "   꽃받침Length  꽃받침Width  꽃잎 길이  꽃잎 폭           종류\n",
              "0        5.1       3.5    1.4   0.2  Iris-setosa\n",
              "1        4.9       3.0    1.4   0.2  Iris-setosa\n",
              "2        4.7       3.2    1.3   0.2  Iris-setosa\n",
              "3        4.6       3.1    1.5   0.2  Iris-setosa\n",
              "4        5.0       3.6    1.4   0.2  Iris-setosa"
            ]
          },
          "metadata": {
            "tags": []
          },
          "execution_count": 9
        }
      ]
    },
    {
      "metadata": {
        "colab_type": "text",
        "id": "tKQO2AuZ_ZIq"
      },
      "cell_type": "markdown",
      "source": [
        "インデックスとなる列をしていないと、上のように0から始める整数が自動的に付加される。インデックス列を指定するには、**read_csv**を用いてデータを読み込む際に、**index_col**引数で指定することができる。列の番号もしくは列名を与えることによって、指定した列がインデックスになる。\n",
        "\n",
        "UFOの目撃情報のデータで最初の列（0番目の列）をインデックスとして指定して読み込んでみる。\n",
        "\n",
        "색인을 제공하는 열을하지 않으면 위와 같이 0부터 시작하는 정수가 자동으로 추가된다. 인덱스 열을 지정하려면 ** read_csv **를 사용하여 데이터를 가져올 때 ** index_col ** 인수로 지정할 수있다. 열 번호 또는 열 이름을 제공함으로써 지정된 열 인덱스된다.\n",
        "\n",
        "UFO가 목격 데이터에서 첫 번째 열 (0 번째 열)을 인덱스로 지정하여 읽어 본다."
      ]
    },
    {
      "metadata": {
        "colab_type": "code",
        "id": "a9jc1ZUw_Zhq",
        "outputId": "69e19d78-c5b7-47f6-f764-dc1e4632c089",
        "colab": {
          "base_uri": "https://localhost:8080/",
          "height": 195
        }
      },
      "cell_type": "code",
      "source": [
        "ufo = pd.read_csv('http://logopt.com/data/ufo.csv', index_col = 0)\n",
        "ufo.head()"
      ],
      "execution_count": 0,
      "outputs": [
        {
          "output_type": "execute_result",
          "data": {
            "text/html": [
              "<div>\n",
              "<style scoped>\n",
              "    .dataframe tbody tr th:only-of-type {\n",
              "        vertical-align: middle;\n",
              "    }\n",
              "\n",
              "    .dataframe tbody tr th {\n",
              "        vertical-align: top;\n",
              "    }\n",
              "\n",
              "    .dataframe thead th {\n",
              "        text-align: right;\n",
              "    }\n",
              "</style>\n",
              "<table border=\"1\" class=\"dataframe\">\n",
              "  <thead>\n",
              "    <tr style=\"text-align: right;\">\n",
              "      <th></th>\n",
              "      <th>City</th>\n",
              "      <th>Colors Reported</th>\n",
              "      <th>Shape Reported</th>\n",
              "      <th>State</th>\n",
              "      <th>Time</th>\n",
              "    </tr>\n",
              "  </thead>\n",
              "  <tbody>\n",
              "    <tr>\n",
              "      <th>0</th>\n",
              "      <td>Ithaca</td>\n",
              "      <td>NaN</td>\n",
              "      <td>TRIANGLE</td>\n",
              "      <td>NY</td>\n",
              "      <td>6/1/1930 22:00</td>\n",
              "    </tr>\n",
              "    <tr>\n",
              "      <th>1</th>\n",
              "      <td>Willingboro</td>\n",
              "      <td>NaN</td>\n",
              "      <td>OTHER</td>\n",
              "      <td>NJ</td>\n",
              "      <td>6/30/1930 20:00</td>\n",
              "    </tr>\n",
              "    <tr>\n",
              "      <th>2</th>\n",
              "      <td>Holyoke</td>\n",
              "      <td>NaN</td>\n",
              "      <td>OVAL</td>\n",
              "      <td>CO</td>\n",
              "      <td>2/15/1931 14:00</td>\n",
              "    </tr>\n",
              "    <tr>\n",
              "      <th>3</th>\n",
              "      <td>Abilene</td>\n",
              "      <td>NaN</td>\n",
              "      <td>DISK</td>\n",
              "      <td>KS</td>\n",
              "      <td>6/1/1931 13:00</td>\n",
              "    </tr>\n",
              "    <tr>\n",
              "      <th>4</th>\n",
              "      <td>New York Worlds Fair</td>\n",
              "      <td>NaN</td>\n",
              "      <td>LIGHT</td>\n",
              "      <td>NY</td>\n",
              "      <td>4/18/1933 19:00</td>\n",
              "    </tr>\n",
              "  </tbody>\n",
              "</table>\n",
              "</div>"
            ],
            "text/plain": [
              "                   City Colors Reported Shape Reported State             Time\n",
              "0                Ithaca             NaN       TRIANGLE    NY   6/1/1930 22:00\n",
              "1           Willingboro             NaN          OTHER    NJ  6/30/1930 20:00\n",
              "2               Holyoke             NaN           OVAL    CO  2/15/1931 14:00\n",
              "3               Abilene             NaN           DISK    KS   6/1/1931 13:00\n",
              "4  New York Worlds Fair             NaN          LIGHT    NY  4/18/1933 19:00"
            ]
          },
          "metadata": {
            "tags": []
          },
          "execution_count": 12
        }
      ]
    },
    {
      "metadata": {
        "colab_type": "text",
        "id": "5vhsR4SBJyf6"
      },
      "cell_type": "markdown",
      "source": [
        "列の名前は，番上に表示されている太字の行であり，これは**columns属性**でアクセスできる．\n",
        "\n",
        "열 이름은 차례에 표시되는 굵은 선이며, 이것은 **columns 속성**에 액세스 할 수있다."
      ]
    },
    {
      "metadata": {
        "colab_type": "code",
        "id": "EnZZY-fHJyf6",
        "outputId": "39bc8368-9a49-40c2-9534-ef819c15b25f",
        "colab": {
          "base_uri": "https://localhost:8080/",
          "height": 34
        }
      },
      "cell_type": "code",
      "source": [
        "df.columns"
      ],
      "execution_count": 0,
      "outputs": [
        {
          "output_type": "execute_result",
          "data": {
            "text/plain": [
              "Index(['꽃받침Length', '꽃받침Width', '꽃잎 길이', '꽃잎 폭', '종류'], dtype='object')"
            ]
          },
          "metadata": {
            "tags": []
          },
          "execution_count": 10
        }
      ]
    },
    {
      "metadata": {
        "colab_type": "text",
        "id": "j3x4Aco3Jyf9"
      },
      "cell_type": "markdown",
      "source": [
        "データ自身は，データフレームの**values属性**に保管されている．これはNumPyの多次元配列(ndarray)である(type関数を用いて確認してみる）．\n",
        "したがって，データの最初の行を表示させるには，df.values[0]とすればよい．\n",
        "0行4列目（最初のアヤメの名前）を表示させるには，df.values[0][4]とすればよい．\n",
        "\n",
        "데이터 자체는 데이터 프레임의 ** values ​​속성 **에 보관되어있다. 이것은 NumPy의 다차원 배열 (ndarray)이다 (type 함수를 사용하여 확인해 본다).\n",
        "따라서 데이터의 첫 번째 행을 표시하려면 df.values ​​[0]하면된다.\n",
        "0 행 4 번째 (첫 번째 붓꽃의 이름)을 표시하려면 df.values ​​[0] [4]와하면된다."
      ]
    },
    {
      "metadata": {
        "colab_type": "code",
        "id": "vIBMOPLgJyf-",
        "outputId": "f57008e5-2d6a-491d-945a-c15678b58d8b",
        "colab": {
          "base_uri": "https://localhost:8080/",
          "height": 51
        }
      },
      "cell_type": "code",
      "source": [
        "print( type(df.values) ) #values属性はNumPyのn次元配列である．\n",
        "df.values[0][4] #0行4列目の要素は 'Iris-sentosa'である．"
      ],
      "execution_count": 0,
      "outputs": [
        {
          "output_type": "stream",
          "text": [
            "<class 'numpy.ndarray'>\n"
          ],
          "name": "stdout"
        },
        {
          "output_type": "execute_result",
          "data": {
            "text/plain": [
              "'Iris-setosa'"
            ]
          },
          "metadata": {
            "tags": []
          },
          "execution_count": 6
        }
      ]
    },
    {
      "metadata": {
        "colab_type": "text",
        "id": "4akbLaZnJygB"
      },
      "cell_type": "markdown",
      "source": [
        "データの概要を知るためのメソッドが**describe()**である．（メソッドなので関数と同じように最後に ()を付けるのを忘れずに．）\n",
        "\n",
        "데이터의 개요를 알 수있는 방법이 ** describe () **이다. (메소드이므로 함수처럼 마지막에 ()를 붙이는 것을 잊지 마십시오.)"
      ]
    },
    {
      "metadata": {
        "colab_type": "code",
        "id": "wpih0XZCJygC",
        "outputId": "c635ef9c-ed4a-4949-a2c1-7b24ab8c26da",
        "colab": {
          "base_uri": "https://localhost:8080/",
          "height": 297
        }
      },
      "cell_type": "code",
      "source": [
        "df.describe() #count（データ数），mean（平均），std（標準偏差），min（最小値）など"
      ],
      "execution_count": 0,
      "outputs": [
        {
          "output_type": "execute_result",
          "data": {
            "text/html": [
              "<div>\n",
              "<style>\n",
              "    .dataframe thead tr:only-child th {\n",
              "        text-align: right;\n",
              "    }\n",
              "\n",
              "    .dataframe thead th {\n",
              "        text-align: left;\n",
              "    }\n",
              "\n",
              "    .dataframe tbody tr th {\n",
              "        vertical-align: top;\n",
              "    }\n",
              "</style>\n",
              "<table border=\"1\" class=\"dataframe\">\n",
              "  <thead>\n",
              "    <tr style=\"text-align: right;\">\n",
              "      <th></th>\n",
              "      <th>꽃받침Length</th>\n",
              "      <th>꽃받침Width</th>\n",
              "      <th>꽃잎 길이</th>\n",
              "      <th>꽃잎 폭</th>\n",
              "    </tr>\n",
              "  </thead>\n",
              "  <tbody>\n",
              "    <tr>\n",
              "      <th>count</th>\n",
              "      <td>150.000000</td>\n",
              "      <td>150.000000</td>\n",
              "      <td>150.000000</td>\n",
              "      <td>150.000000</td>\n",
              "    </tr>\n",
              "    <tr>\n",
              "      <th>mean</th>\n",
              "      <td>5.843333</td>\n",
              "      <td>3.054000</td>\n",
              "      <td>3.758667</td>\n",
              "      <td>1.198667</td>\n",
              "    </tr>\n",
              "    <tr>\n",
              "      <th>std</th>\n",
              "      <td>0.828066</td>\n",
              "      <td>0.433594</td>\n",
              "      <td>1.764420</td>\n",
              "      <td>0.763161</td>\n",
              "    </tr>\n",
              "    <tr>\n",
              "      <th>min</th>\n",
              "      <td>4.300000</td>\n",
              "      <td>2.000000</td>\n",
              "      <td>1.000000</td>\n",
              "      <td>0.100000</td>\n",
              "    </tr>\n",
              "    <tr>\n",
              "      <th>25%</th>\n",
              "      <td>5.100000</td>\n",
              "      <td>2.800000</td>\n",
              "      <td>1.600000</td>\n",
              "      <td>0.300000</td>\n",
              "    </tr>\n",
              "    <tr>\n",
              "      <th>50%</th>\n",
              "      <td>5.800000</td>\n",
              "      <td>3.000000</td>\n",
              "      <td>4.350000</td>\n",
              "      <td>1.300000</td>\n",
              "    </tr>\n",
              "    <tr>\n",
              "      <th>75%</th>\n",
              "      <td>6.400000</td>\n",
              "      <td>3.300000</td>\n",
              "      <td>5.100000</td>\n",
              "      <td>1.800000</td>\n",
              "    </tr>\n",
              "    <tr>\n",
              "      <th>max</th>\n",
              "      <td>7.900000</td>\n",
              "      <td>4.400000</td>\n",
              "      <td>6.900000</td>\n",
              "      <td>2.500000</td>\n",
              "    </tr>\n",
              "  </tbody>\n",
              "</table>\n",
              "</div>"
            ],
            "text/plain": [
              "        꽃받침Length    꽃받침Width       꽃잎 길이        꽃잎 폭\n",
              "count  150.000000  150.000000  150.000000  150.000000\n",
              "mean     5.843333    3.054000    3.758667    1.198667\n",
              "std      0.828066    0.433594    1.764420    0.763161\n",
              "min      4.300000    2.000000    1.000000    0.100000\n",
              "25%      5.100000    2.800000    1.600000    0.300000\n",
              "50%      5.800000    3.000000    4.350000    1.300000\n",
              "75%      6.400000    3.300000    5.100000    1.800000\n",
              "max      7.900000    4.400000    6.900000    2.500000"
            ]
          },
          "metadata": {
            "tags": []
          },
          "execution_count": 11
        }
      ]
    },
    {
      "metadata": {
        "colab_type": "text",
        "id": "0VuGGsMFJygE"
      },
      "cell_type": "markdown",
      "source": [
        "### 問題\n",
        "\n",
        "車の燃費データに対して，アヤメのデータと同じように，インデックス，列の名前とデータの概要を表示せよ．\n",
        "\n",
        "さらに，その情報を用いて燃費(MPG: Mile Per Gallon)の平均と標準偏差を答えよ．\n"
      ]
    },
    {
      "metadata": {
        "colab_type": "code",
        "id": "mypegbiIJygF",
        "colab": {}
      },
      "cell_type": "code",
      "source": [
        ""
      ],
      "execution_count": 0,
      "outputs": []
    },
    {
      "metadata": {
        "colab_type": "text",
        "id": "pQNf4Z8sJygH"
      },
      "cell_type": "markdown",
      "source": [
        "# 列へのアクセス\n",
        "\n",
        "列は辞書と同じようにアクセスできる．\n",
        "\n",
        "たとえば，'がく片幅'と名付けられた列を切り出すには，** df['がく片幅'] ** とすればよい．\n",
        "\n",
        "この記法の短縮版として，データフレームの属性としてアクセスする方法もある．\n",
        "\n",
        "たとえば，\n",
        "\n",
        "``` python\n",
        " df.がく片幅\n",
        "```\n",
        "\n",
        "とすると同じ結果が返される．\n",
        "\n",
        "切り出された列は**シリーズ(series)**とよばれ，NumPyの配列と同じような性質をもつ．\n",
        "\n",
        "たとえば，'がく片長'と名付けられた列のi番目からj-1番目までを切り出したい場合には，\n",
        "\n",
        "```python\n",
        " df['がく片長'][i:j] \n",
        "```\n",
        "\n",
        "とすればよい．\n",
        "\n",
        "6 열 액세스\n",
        "열은 사전처럼 액세스 할 수있다.\n",
        "\n",
        "예를 들어, '꽃받침 片幅'라고 명명 된 열을 자르려면 ** df [ '꽃받침 片幅'] **로하면된다.\n",
        "\n",
        "이 기법의 단축 버전으로 데이터 프레임의 속성으로 액세스하는 방법도있다.\n",
        "\n",
        "예를 들어,\n",
        "\n",
        " df. 꽃받침 片幅\n",
        "하면 동일한 결과가 반환된다.\n",
        "\n",
        "낸 열 시리즈 (series)라고 불려 NumPy 배열과 유사한 성질을 가진다.\n",
        "\n",
        "예를 들어, '꽃받침 片長'라고 명명 된 라인의 i 번째부터 j-1 번째까지를 캡처 할 경우에는\n",
        "\n",
        " df [ '꽃받침 片長'] [i : j]\n",
        "로하면된다."
      ]
    },
    {
      "metadata": {
        "colab_type": "code",
        "id": "WVwpxs7KJygJ",
        "outputId": "eb53182d-e6cd-458c-d9dd-6adfa52040ac",
        "colab": {
          "base_uri": "https://localhost:8080/",
          "height": 204
        }
      },
      "cell_type": "code",
      "source": [
        "df['꽃받침Length'][:10]  #列名が'がく片長'の列の最初の9個のデータから成るシリーズ（series：インデックスとデータの組）"
      ],
      "execution_count": 0,
      "outputs": [
        {
          "output_type": "execute_result",
          "data": {
            "text/plain": [
              "0    5.1\n",
              "1    4.9\n",
              "2    4.7\n",
              "3    4.6\n",
              "4    5.0\n",
              "5    5.4\n",
              "6    4.6\n",
              "7    5.0\n",
              "8    4.4\n",
              "9    4.9\n",
              "Name: 꽃받침Length, dtype: float64"
            ]
          },
          "metadata": {
            "tags": []
          },
          "execution_count": 12
        }
      ]
    },
    {
      "metadata": {
        "colab_type": "code",
        "id": "ZMortNd8JygL",
        "outputId": "74951f01-a3ba-48c3-ce7b-fa2eb59da98d",
        "colab": {
          "base_uri": "https://localhost:8080/",
          "height": 85
        }
      },
      "cell_type": "code",
      "source": [
        "df.꽃받침Length[:3]"
      ],
      "execution_count": 0,
      "outputs": [
        {
          "output_type": "execute_result",
          "data": {
            "text/plain": [
              "0    5.1\n",
              "1    4.9\n",
              "2    4.7\n",
              "Name: 꽃받침Length, dtype: float64"
            ]
          },
          "metadata": {
            "tags": []
          },
          "execution_count": 13
        }
      ]
    },
    {
      "metadata": {
        "colab_type": "text",
        "id": "HwJOXwSrJygN"
      },
      "cell_type": "markdown",
      "source": [
        "# 行列の要素（Excelのセルに相当）へのアクセス\n",
        "\n",
        "行と列を指定して要素を抽出するには，**loc**，**iloc**，**ix**属性を用いる．\n",
        "\n",
        "文法はいずれも同じで，以下の通り．\n",
        "\n",
        "```python\n",
        " df.iloc[行の切り出し,列の切り出し]  #番号でのアクセス\n",
        " df.loc[行の切り出し,列の切り出し]   #ラベルを用いたアクセス\n",
        " df.ix[行の切り出し,列の切り出し]    #混合型（混乱するので使用すべきでない！）\n",
        "```\n",
        "\n",
        "行と列はラベルもしくは番号でアクセスできる．**ラベル**とは，行に対してはインデックス，列に対しては列名を指す．\n",
        "\n",
        "* ilocは番号によるアクセスを行う．\n",
        "\n",
        "切り出しは，リストと同様に，番号 $i:j$ とすると $i$番目から$j-1$番目までが抽出される．\n",
        "\n",
        "* locはラベルによるアクセスを行う．\n",
        "\n",
        "切り出しは，リストやilocと異なり，境界も含んだものになる．すなわち，$i:j$ とするとラベル $i$からラベル $j$ までが抽出される．\n",
        "\n",
        "* ixはラベルと番号の両方でアクセス可能である．\n",
        "\n",
        "ただし，インデックスが整数の場合には，インデックス（ラベル）が優先される．\n",
        "\n",
        "つまり，番号 $i:j$ とすると $i$番目から$j$番目（注意！最後の要素が含まれる！）までが抽出される．\n",
        "\n",
        "インデックスが整数の場合には，**リストと異なり最後の要素が含まれる**!! \n",
        "\n",
        "しばしば混乱を招くので**ixは使わない方が良い！** （教科書ではixだけ説明しているが．．．）\n",
        "\n",
        "切り出しを行うかわりに，抽出したい列名のリストを用いて，$$[ 'がく片長', '花びら幅'  ]$$ などと切り出しをしてもよい． \n",
        "\n",
        "\n",
        "通常のスライシングと同様に，すべての行もしくは列を抽出したい場合には，$ : $ と記述すればよい．\n",
        "\n",
        "たとえば，1列目から2列目までから成るデータフレームを切り出すには，\n",
        "\n",
        "```python\n",
        " df.iloc[ : , 1:3]  \n",
        "```\n",
        "\n",
        "とすればよい．\n",
        "\n",
        "7 행렬의 요소 (Excel의 셀에 해당)에 액세스\n",
        "행과 열을 지정하여 요소를 추출하려면 loc, iloc 특성을 이용한다.\n",
        "\n",
        " df.iloc [행 잘라 열 잘라]\n",
        " df.loc [행 잘라 열 잘라]\n",
        "\n",
        "행과 열 레이블 또는 번호로 접속할 수있다. 레이블은 행에 대해 인덱스 열에 열 이름을 가리킨다.\n",
        "\n",
        "iloc는 번호로 액세스한다.\n",
        "잘라 목록과 같이 번호 𝑖 : 𝑗하면 𝑖 번째에서 𝑗-1 번째까지가 추출된다.\n",
        "\n",
        "loc 레이블 액세스한다.\n",
        "잘라 목록 및 iloc과 달리 주변도 포함하는 것이된다. 즉 𝑖 : 𝑗하면 라벨 𝑖에서 라벨 𝑗까지가 추출된다.\n",
        "\n",
        "잘라하는 대신에, 추출 할 열 이름 목록을 사용하여\n",
        "[ '꽃받침 片長', '꽃잎 폭'(1)\n",
        "등과 잘라내기를 수있다.\n",
        "\n",
        "일반적으로 슬라이스와 마찬가지로 모든 행 또는 열을 추출하고 싶은 경우에는 :라고 기술하면된다.\n",
        "\n",
        "예를 들어, 첫 번째 열에서 2 번째까지 갖춰진 데이터 프레임을 자르려면,\n",
        "\n",
        " df.iloc [: 1 : 3]\n",
        "로하면된다.\n"
      ]
    },
    {
      "metadata": {
        "colab_type": "code",
        "id": "fuC1Bsh2JygP",
        "outputId": "423457cf-2eeb-4335-9bd9-f582718c85e4",
        "colab": {
          "base_uri": "https://localhost:8080/",
          "height": 173
        }
      },
      "cell_type": "code",
      "source": [
        "df.iloc[1:5,1:4] #1行目から4行目まで，1列目から3列目までを抽出"
      ],
      "execution_count": 0,
      "outputs": [
        {
          "output_type": "execute_result",
          "data": {
            "text/html": [
              "<div>\n",
              "<style>\n",
              "    .dataframe thead tr:only-child th {\n",
              "        text-align: right;\n",
              "    }\n",
              "\n",
              "    .dataframe thead th {\n",
              "        text-align: left;\n",
              "    }\n",
              "\n",
              "    .dataframe tbody tr th {\n",
              "        vertical-align: top;\n",
              "    }\n",
              "</style>\n",
              "<table border=\"1\" class=\"dataframe\">\n",
              "  <thead>\n",
              "    <tr style=\"text-align: right;\">\n",
              "      <th></th>\n",
              "      <th>꽃받침Width</th>\n",
              "      <th>꽃잎 길이</th>\n",
              "      <th>꽃잎 폭</th>\n",
              "    </tr>\n",
              "  </thead>\n",
              "  <tbody>\n",
              "    <tr>\n",
              "      <th>1</th>\n",
              "      <td>3.0</td>\n",
              "      <td>1.4</td>\n",
              "      <td>0.2</td>\n",
              "    </tr>\n",
              "    <tr>\n",
              "      <th>2</th>\n",
              "      <td>3.2</td>\n",
              "      <td>1.3</td>\n",
              "      <td>0.2</td>\n",
              "    </tr>\n",
              "    <tr>\n",
              "      <th>3</th>\n",
              "      <td>3.1</td>\n",
              "      <td>1.5</td>\n",
              "      <td>0.2</td>\n",
              "    </tr>\n",
              "    <tr>\n",
              "      <th>4</th>\n",
              "      <td>3.6</td>\n",
              "      <td>1.4</td>\n",
              "      <td>0.2</td>\n",
              "    </tr>\n",
              "  </tbody>\n",
              "</table>\n",
              "</div>"
            ],
            "text/plain": [
              "   꽃받침Width  꽃잎 길이  꽃잎 폭\n",
              "1       3.0    1.4   0.2\n",
              "2       3.2    1.3   0.2\n",
              "3       3.1    1.5   0.2\n",
              "4       3.6    1.4   0.2"
            ]
          },
          "metadata": {
            "tags": []
          },
          "execution_count": 14
        }
      ]
    },
    {
      "metadata": {
        "colab_type": "code",
        "id": "M45lWB7NJygR",
        "outputId": "b9c58ab0-0077-461f-95fb-e3d09ba59c7f",
        "colab": {
          "base_uri": "https://localhost:8080/",
          "height": 204
        }
      },
      "cell_type": "code",
      "source": [
        "df.loc[1:5, '꽃받침Length':'꽃잎 길이' ] #行をインデックスで，}列を列名で指定（最後が含まれることに注意！）"
      ],
      "execution_count": 0,
      "outputs": [
        {
          "output_type": "execute_result",
          "data": {
            "text/html": [
              "<div>\n",
              "<style>\n",
              "    .dataframe thead tr:only-child th {\n",
              "        text-align: right;\n",
              "    }\n",
              "\n",
              "    .dataframe thead th {\n",
              "        text-align: left;\n",
              "    }\n",
              "\n",
              "    .dataframe tbody tr th {\n",
              "        vertical-align: top;\n",
              "    }\n",
              "</style>\n",
              "<table border=\"1\" class=\"dataframe\">\n",
              "  <thead>\n",
              "    <tr style=\"text-align: right;\">\n",
              "      <th></th>\n",
              "      <th>꽃받침Length</th>\n",
              "      <th>꽃받침Width</th>\n",
              "      <th>꽃잎 길이</th>\n",
              "    </tr>\n",
              "  </thead>\n",
              "  <tbody>\n",
              "    <tr>\n",
              "      <th>1</th>\n",
              "      <td>4.9</td>\n",
              "      <td>3.0</td>\n",
              "      <td>1.4</td>\n",
              "    </tr>\n",
              "    <tr>\n",
              "      <th>2</th>\n",
              "      <td>4.7</td>\n",
              "      <td>3.2</td>\n",
              "      <td>1.3</td>\n",
              "    </tr>\n",
              "    <tr>\n",
              "      <th>3</th>\n",
              "      <td>4.6</td>\n",
              "      <td>3.1</td>\n",
              "      <td>1.5</td>\n",
              "    </tr>\n",
              "    <tr>\n",
              "      <th>4</th>\n",
              "      <td>5.0</td>\n",
              "      <td>3.6</td>\n",
              "      <td>1.4</td>\n",
              "    </tr>\n",
              "    <tr>\n",
              "      <th>5</th>\n",
              "      <td>5.4</td>\n",
              "      <td>3.9</td>\n",
              "      <td>1.7</td>\n",
              "    </tr>\n",
              "  </tbody>\n",
              "</table>\n",
              "</div>"
            ],
            "text/plain": [
              "   꽃받침Length  꽃받침Width  꽃잎 길이\n",
              "1        4.9       3.0    1.4\n",
              "2        4.7       3.2    1.3\n",
              "3        4.6       3.1    1.5\n",
              "4        5.0       3.6    1.4\n",
              "5        5.4       3.9    1.7"
            ]
          },
          "metadata": {
            "tags": []
          },
          "execution_count": 15
        }
      ]
    },
    {
      "metadata": {
        "colab_type": "code",
        "id": "aLJ44ZLxJygV",
        "outputId": "ac4407dc-5e97-4c3e-8e26-593dff98f428",
        "colab": {
          "base_uri": "https://localhost:8080/",
          "height": 204
        }
      },
      "cell_type": "code",
      "source": [
        "df.loc[1:5, ['꽃받침Length','꽃잎 길이'] ]  #列をリストで指定"
      ],
      "execution_count": 0,
      "outputs": [
        {
          "output_type": "execute_result",
          "data": {
            "text/html": [
              "<div>\n",
              "<style>\n",
              "    .dataframe thead tr:only-child th {\n",
              "        text-align: right;\n",
              "    }\n",
              "\n",
              "    .dataframe thead th {\n",
              "        text-align: left;\n",
              "    }\n",
              "\n",
              "    .dataframe tbody tr th {\n",
              "        vertical-align: top;\n",
              "    }\n",
              "</style>\n",
              "<table border=\"1\" class=\"dataframe\">\n",
              "  <thead>\n",
              "    <tr style=\"text-align: right;\">\n",
              "      <th></th>\n",
              "      <th>꽃받침Length</th>\n",
              "      <th>꽃잎 길이</th>\n",
              "    </tr>\n",
              "  </thead>\n",
              "  <tbody>\n",
              "    <tr>\n",
              "      <th>1</th>\n",
              "      <td>4.9</td>\n",
              "      <td>1.4</td>\n",
              "    </tr>\n",
              "    <tr>\n",
              "      <th>2</th>\n",
              "      <td>4.7</td>\n",
              "      <td>1.3</td>\n",
              "    </tr>\n",
              "    <tr>\n",
              "      <th>3</th>\n",
              "      <td>4.6</td>\n",
              "      <td>1.5</td>\n",
              "    </tr>\n",
              "    <tr>\n",
              "      <th>4</th>\n",
              "      <td>5.0</td>\n",
              "      <td>1.4</td>\n",
              "    </tr>\n",
              "    <tr>\n",
              "      <th>5</th>\n",
              "      <td>5.4</td>\n",
              "      <td>1.7</td>\n",
              "    </tr>\n",
              "  </tbody>\n",
              "</table>\n",
              "</div>"
            ],
            "text/plain": [
              "   꽃받침Length  꽃잎 길이\n",
              "1        4.9    1.4\n",
              "2        4.7    1.3\n",
              "3        4.6    1.5\n",
              "4        5.0    1.4\n",
              "5        5.4    1.7"
            ]
          },
          "metadata": {
            "tags": []
          },
          "execution_count": 16
        }
      ]
    },
    {
      "metadata": {
        "colab_type": "text",
        "id": "YRlwSh7PJygc"
      },
      "cell_type": "markdown",
      "source": [
        "### 問題\n",
        "\n",
        "1. iloc属性を用いて5番目から8番目までの行の2,3列目を抽出せよ．\n",
        "\n",
        "2. loc属性を用いて'種類'だけの列から成るシリーズを抽出せよ．\n",
        "\n",
        "3. インデックスが $2,6,4$ の行と'がく片長','花びら幅','花びら長'の列から成るデータフレームを抽出せよ．\n",
        "\n",
        "### 문제\n",
        "\n",
        "1. iloc 속성을 사용하여 다섯 번째부터 여덟 번째까지의 행 2,3 번째를 추출하라.\n",
        "\n",
        "2. loc 특성을 이용하여 '종류'만 열로 구성된 시리즈를 추출하라.\n",
        "\n",
        "3. 인덱스가 $ 2,6,4 $ 행과 '꽃받침 片長', '꽃잎 폭', '꽃잎 길이'열로 구성된 데이터 프레임을 추출하라.\n"
      ]
    },
    {
      "metadata": {
        "colab_type": "code",
        "id": "MaTnfPjqJygd",
        "colab": {}
      },
      "cell_type": "code",
      "source": [
        ""
      ],
      "execution_count": 0,
      "outputs": []
    },
    {
      "metadata": {
        "colab_type": "code",
        "id": "p37aAq4GJygf",
        "colab": {}
      },
      "cell_type": "code",
      "source": [
        ""
      ],
      "execution_count": 0,
      "outputs": []
    },
    {
      "metadata": {
        "colab_type": "code",
        "id": "c43_bH-mJygj",
        "colab": {}
      },
      "cell_type": "code",
      "source": [
        ""
      ],
      "execution_count": 0,
      "outputs": []
    },
    {
      "metadata": {
        "colab_type": "text",
        "collapsed": true,
        "id": "C9A_AAEVJygl"
      },
      "cell_type": "markdown",
      "source": [
        "# データの並べ替え\n",
        "\n",
        "車の燃費データを列'mpg'の昇順に並べ替えてみよう．そのためには，データフレームのsort_valuesメソッドを用いる．\n",
        "\n",
        "```python\n",
        " car.sort_values('mpg')\n",
        "```\n",
        "\n",
        "これだと燃費の悪い順に並ぶので，良い順に並べてみよう．そのためには，引数の ascending を False に設定すればよい（規定値はTrueで昇順）．\n",
        "\n",
        "以下に示すようにマツダのファミリア(glc はgreat little carの略称）が最もよいことが分かる．\n",
        "\n",
        "# 데이터 정렬\n",
        "\n",
        "자동차 연비 데이터를 열 'mpg'오름차순으로 정렬 보자. 그러기 위해서는 데이터 프레임의 sort_values ​​메소드를 사용한다.\n",
        "\n",
        "```python\n",
        " car.sort_values ​​( 'mpg')\n",
        "```\n",
        "\n",
        "이것이라면 연비가 나쁜 순서에 줄선 때문에 좋은 순으로 나열하여 보자. 그러기 위해서는 인수 ascending을 False로 설정하면된다 (기본값은 True 오름차순).\n",
        "\n",
        "다음과 같이 마쓰다 파밀리아 (glc는 great little car의 약어)이 제일 알 수있다.\n"
      ]
    },
    {
      "metadata": {
        "colab_type": "code",
        "id": "Yi1MmxsgJygm",
        "outputId": "37ca022f-f962-482c-ed65-7401364c04ff",
        "colab": {
          "base_uri": "https://localhost:8080/",
          "height": 195
        }
      },
      "cell_type": "code",
      "source": [
        "L = ['mpg', 'cylinders', 'displacement', 'horsepower','weight', 'acceleration','year','origin', 'name']\n",
        "car = pd.read_csv('http://logopt.com/data/auto-mpg.data', delim_whitespace=True, names=L)\n",
        "car.sort_values('mpg',ascending=False).head()"
      ],
      "execution_count": 0,
      "outputs": [
        {
          "output_type": "execute_result",
          "data": {
            "text/html": [
              "<div>\n",
              "<style scoped>\n",
              "    .dataframe tbody tr th:only-of-type {\n",
              "        vertical-align: middle;\n",
              "    }\n",
              "\n",
              "    .dataframe tbody tr th {\n",
              "        vertical-align: top;\n",
              "    }\n",
              "\n",
              "    .dataframe thead th {\n",
              "        text-align: right;\n",
              "    }\n",
              "</style>\n",
              "<table border=\"1\" class=\"dataframe\">\n",
              "  <thead>\n",
              "    <tr style=\"text-align: right;\">\n",
              "      <th></th>\n",
              "      <th>mpg</th>\n",
              "      <th>cylinders</th>\n",
              "      <th>displacement</th>\n",
              "      <th>horsepower</th>\n",
              "      <th>weight</th>\n",
              "      <th>acceleration</th>\n",
              "      <th>year</th>\n",
              "      <th>origin</th>\n",
              "      <th>name</th>\n",
              "    </tr>\n",
              "  </thead>\n",
              "  <tbody>\n",
              "    <tr>\n",
              "      <th>322</th>\n",
              "      <td>46.6</td>\n",
              "      <td>4</td>\n",
              "      <td>86.0</td>\n",
              "      <td>65.00</td>\n",
              "      <td>2110.0</td>\n",
              "      <td>17.9</td>\n",
              "      <td>80</td>\n",
              "      <td>3</td>\n",
              "      <td>mazda glc</td>\n",
              "    </tr>\n",
              "    <tr>\n",
              "      <th>329</th>\n",
              "      <td>44.6</td>\n",
              "      <td>4</td>\n",
              "      <td>91.0</td>\n",
              "      <td>67.00</td>\n",
              "      <td>1850.0</td>\n",
              "      <td>13.8</td>\n",
              "      <td>80</td>\n",
              "      <td>3</td>\n",
              "      <td>honda civic 1500 gl</td>\n",
              "    </tr>\n",
              "    <tr>\n",
              "      <th>325</th>\n",
              "      <td>44.3</td>\n",
              "      <td>4</td>\n",
              "      <td>90.0</td>\n",
              "      <td>48.00</td>\n",
              "      <td>2085.0</td>\n",
              "      <td>21.7</td>\n",
              "      <td>80</td>\n",
              "      <td>2</td>\n",
              "      <td>vw rabbit c (diesel)</td>\n",
              "    </tr>\n",
              "    <tr>\n",
              "      <th>394</th>\n",
              "      <td>44.0</td>\n",
              "      <td>4</td>\n",
              "      <td>97.0</td>\n",
              "      <td>52.00</td>\n",
              "      <td>2130.0</td>\n",
              "      <td>24.6</td>\n",
              "      <td>82</td>\n",
              "      <td>2</td>\n",
              "      <td>vw pickup</td>\n",
              "    </tr>\n",
              "    <tr>\n",
              "      <th>326</th>\n",
              "      <td>43.4</td>\n",
              "      <td>4</td>\n",
              "      <td>90.0</td>\n",
              "      <td>48.00</td>\n",
              "      <td>2335.0</td>\n",
              "      <td>23.7</td>\n",
              "      <td>80</td>\n",
              "      <td>2</td>\n",
              "      <td>vw dasher (diesel)</td>\n",
              "    </tr>\n",
              "  </tbody>\n",
              "</table>\n",
              "</div>"
            ],
            "text/plain": [
              "      mpg  cylinders  displacement horsepower  weight  acceleration  year  \\\n",
              "322  46.6          4          86.0      65.00  2110.0          17.9    80   \n",
              "329  44.6          4          91.0      67.00  1850.0          13.8    80   \n",
              "325  44.3          4          90.0      48.00  2085.0          21.7    80   \n",
              "394  44.0          4          97.0      52.00  2130.0          24.6    82   \n",
              "326  43.4          4          90.0      48.00  2335.0          23.7    80   \n",
              "\n",
              "     origin                  name  \n",
              "322       3             mazda glc  \n",
              "329       3   honda civic 1500 gl  \n",
              "325       2  vw rabbit c (diesel)  \n",
              "394       2             vw pickup  \n",
              "326       2    vw dasher (diesel)  "
            ]
          },
          "metadata": {
            "tags": []
          },
          "execution_count": 4
        }
      ]
    },
    {
      "metadata": {
        "colab_type": "text",
        "id": "55NrayepJygp"
      },
      "cell_type": "markdown",
      "source": [
        "### 問題\n",
        "\n",
        "車の燃費データを加速(acceleration)の良い順（大きいほど良い）に並べてみよう．どの車が一番加速が良いか？\n",
        "\n",
        "また，一番重たい(weight)車は何か調べてみよう．\n"
      ]
    },
    {
      "metadata": {
        "colab_type": "code",
        "id": "bZVaQjPpJygq",
        "colab": {}
      },
      "cell_type": "code",
      "source": [
        ""
      ],
      "execution_count": 0,
      "outputs": []
    },
    {
      "metadata": {
        "colab_type": "text",
        "id": "O4LPgS-jJygr"
      },
      "cell_type": "markdown",
      "source": [
        "# データの抽出\n",
        "\n",
        "データフレームからデータを条件によってフィルタリングしたいことがままある．\n",
        "\n",
        "これは，NumPyのインデックス配列の概念と同じようにして行うことができる．\n",
        "\n",
        "たとえば，アヤメのデータに対して「がく片長」が7以上のときTrue，そうでないときFalseのシリーズ（これはNumPyの配列と同じ機能をもつ）は，\n",
        "\n",
        "``` python \n",
        "df.がく片長 >=7.0 \n",
        "```\n",
        "\n",
        "で生成される．この配列をインデックスとしてアヤメのデータフレーム df からデータを切り出すことによって，「がく片長」が7以上のデータのみを抽出することができる．\n",
        "\n",
        "これから，がく片長」が7以上のアヤメは1つを除いてバージニカであることが分かる．\n",
        "\n",
        "10 데이터 추출\n",
        "데이터 프레임에서 데이터를 기준으로 필터링하고 싶은 것이 남아있다.\n",
        "\n",
        "이것은 NumPy 인덱스 배열의 개념과 동일하게 수행 할 수있다.\n",
        "\n",
        "예를 들어, 붓꽃의 데이터에 대해 \"꽃받침 片長 '가 7 이상인 경우 True, 그렇지 않은 경우 False 시리즈 (이것은 NumPy 배열과 같은 기능을 가진)은\n",
        "\n",
        "df. 꽃받침 片長> = 7.0\n",
        "에서 생성된다. 이 배열을 인덱스로 붓꽃의 데이터 프레임 df 명령 데이터를 절단하여 \"꽃받침 片長 '가 7 이상의 데이터만을 추출 할 수있다.\n",
        "\n",
        "앞으로 꽃받침 片長 '가 7 이상 붓꽃 하나를 제외하고 바지니카임을 알 수있다."
      ]
    },
    {
      "metadata": {
        "colab_type": "code",
        "id": "UdH_TbYmJygs",
        "outputId": "5333a51e-5fc0-4d68-cc05-7742b37ffded",
        "colab": {
          "base_uri": "https://localhost:8080/",
          "height": 432
        }
      },
      "cell_type": "code",
      "source": [
        "df[ df.꽃받침Length >=7.0 ]"
      ],
      "execution_count": 0,
      "outputs": [
        {
          "output_type": "execute_result",
          "data": {
            "text/html": [
              "<div>\n",
              "<style>\n",
              "    .dataframe thead tr:only-child th {\n",
              "        text-align: right;\n",
              "    }\n",
              "\n",
              "    .dataframe thead th {\n",
              "        text-align: left;\n",
              "    }\n",
              "\n",
              "    .dataframe tbody tr th {\n",
              "        vertical-align: top;\n",
              "    }\n",
              "</style>\n",
              "<table border=\"1\" class=\"dataframe\">\n",
              "  <thead>\n",
              "    <tr style=\"text-align: right;\">\n",
              "      <th></th>\n",
              "      <th>꽃받침Length</th>\n",
              "      <th>꽃받침Width</th>\n",
              "      <th>꽃잎 길이</th>\n",
              "      <th>꽃잎 폭</th>\n",
              "      <th>종류</th>\n",
              "    </tr>\n",
              "  </thead>\n",
              "  <tbody>\n",
              "    <tr>\n",
              "      <th>50</th>\n",
              "      <td>7.0</td>\n",
              "      <td>3.2</td>\n",
              "      <td>4.7</td>\n",
              "      <td>1.4</td>\n",
              "      <td>Iris-versicolor</td>\n",
              "    </tr>\n",
              "    <tr>\n",
              "      <th>102</th>\n",
              "      <td>7.1</td>\n",
              "      <td>3.0</td>\n",
              "      <td>5.9</td>\n",
              "      <td>2.1</td>\n",
              "      <td>Iris-virginica</td>\n",
              "    </tr>\n",
              "    <tr>\n",
              "      <th>105</th>\n",
              "      <td>7.6</td>\n",
              "      <td>3.0</td>\n",
              "      <td>6.6</td>\n",
              "      <td>2.1</td>\n",
              "      <td>Iris-virginica</td>\n",
              "    </tr>\n",
              "    <tr>\n",
              "      <th>107</th>\n",
              "      <td>7.3</td>\n",
              "      <td>2.9</td>\n",
              "      <td>6.3</td>\n",
              "      <td>1.8</td>\n",
              "      <td>Iris-virginica</td>\n",
              "    </tr>\n",
              "    <tr>\n",
              "      <th>109</th>\n",
              "      <td>7.2</td>\n",
              "      <td>3.6</td>\n",
              "      <td>6.1</td>\n",
              "      <td>2.5</td>\n",
              "      <td>Iris-virginica</td>\n",
              "    </tr>\n",
              "    <tr>\n",
              "      <th>117</th>\n",
              "      <td>7.7</td>\n",
              "      <td>3.8</td>\n",
              "      <td>6.7</td>\n",
              "      <td>2.2</td>\n",
              "      <td>Iris-virginica</td>\n",
              "    </tr>\n",
              "    <tr>\n",
              "      <th>118</th>\n",
              "      <td>7.7</td>\n",
              "      <td>2.6</td>\n",
              "      <td>6.9</td>\n",
              "      <td>2.3</td>\n",
              "      <td>Iris-virginica</td>\n",
              "    </tr>\n",
              "    <tr>\n",
              "      <th>122</th>\n",
              "      <td>7.7</td>\n",
              "      <td>2.8</td>\n",
              "      <td>6.7</td>\n",
              "      <td>2.0</td>\n",
              "      <td>Iris-virginica</td>\n",
              "    </tr>\n",
              "    <tr>\n",
              "      <th>125</th>\n",
              "      <td>7.2</td>\n",
              "      <td>3.2</td>\n",
              "      <td>6.0</td>\n",
              "      <td>1.8</td>\n",
              "      <td>Iris-virginica</td>\n",
              "    </tr>\n",
              "    <tr>\n",
              "      <th>129</th>\n",
              "      <td>7.2</td>\n",
              "      <td>3.0</td>\n",
              "      <td>5.8</td>\n",
              "      <td>1.6</td>\n",
              "      <td>Iris-virginica</td>\n",
              "    </tr>\n",
              "    <tr>\n",
              "      <th>130</th>\n",
              "      <td>7.4</td>\n",
              "      <td>2.8</td>\n",
              "      <td>6.1</td>\n",
              "      <td>1.9</td>\n",
              "      <td>Iris-virginica</td>\n",
              "    </tr>\n",
              "    <tr>\n",
              "      <th>131</th>\n",
              "      <td>7.9</td>\n",
              "      <td>3.8</td>\n",
              "      <td>6.4</td>\n",
              "      <td>2.0</td>\n",
              "      <td>Iris-virginica</td>\n",
              "    </tr>\n",
              "    <tr>\n",
              "      <th>135</th>\n",
              "      <td>7.7</td>\n",
              "      <td>3.0</td>\n",
              "      <td>6.1</td>\n",
              "      <td>2.3</td>\n",
              "      <td>Iris-virginica</td>\n",
              "    </tr>\n",
              "  </tbody>\n",
              "</table>\n",
              "</div>"
            ],
            "text/plain": [
              "     꽃받침Length  꽃받침Width  꽃잎 길이  꽃잎 폭               종류\n",
              "50         7.0       3.2    4.7   1.4  Iris-versicolor\n",
              "102        7.1       3.0    5.9   2.1   Iris-virginica\n",
              "105        7.6       3.0    6.6   2.1   Iris-virginica\n",
              "107        7.3       2.9    6.3   1.8   Iris-virginica\n",
              "109        7.2       3.6    6.1   2.5   Iris-virginica\n",
              "117        7.7       3.8    6.7   2.2   Iris-virginica\n",
              "118        7.7       2.6    6.9   2.3   Iris-virginica\n",
              "122        7.7       2.8    6.7   2.0   Iris-virginica\n",
              "125        7.2       3.2    6.0   1.8   Iris-virginica\n",
              "129        7.2       3.0    5.8   1.6   Iris-virginica\n",
              "130        7.4       2.8    6.1   1.9   Iris-virginica\n",
              "131        7.9       3.8    6.4   2.0   Iris-virginica\n",
              "135        7.7       3.0    6.1   2.3   Iris-virginica"
            ]
          },
          "metadata": {
            "tags": []
          },
          "execution_count": 19
        }
      ]
    },
    {
      "metadata": {
        "colab_type": "text",
        "id": "4XDLm6QOJygu"
      },
      "cell_type": "markdown",
      "source": [
        "### 論理条件による抽出 & (and)\n",
        "\n",
        "今度は「がく片長」だけでなく「花びら長」も考慮して区別しきれなかった2種類のアヤメを判別しよう．\n",
        "\n",
        "「がく片長」が7以上で**かつ**「花びら長」が5以上のアヤメをデータフレームdfから抽出するには，and をあらわす**&** を用いる．\n",
        "\n",
        "各条件式を( ) で括るのを忘れないように！\n",
        "\n",
        "この2つの条件を満たすのはバージニカだけのようだ．\n",
        "\n",
        "### 논리 조건에 의한 추출 & (and)\n",
        "\n",
        "이번에는 '꽃받침 片長 \"뿐만 아니라\"꽃잎 길이'도 고려하고 구별하지 못한 2 종류의 붓꽃을 확인하자.\n",
        "\n",
        "\"꽃받침 片長 '가 7 이상으로 ** 그리고 **\"꽃잎 길이 \"가 5 이상 붓꽃을 데이터 프레임 df 명령을 추출하려면 and를 나타내는 ** 및 **를 사용한다.\n",
        "\n",
        "각 조건식을 ()로 묶을 것을 잊지 마세요!\n",
        "\n",
        "이 두 가지 조건은 바지니카 뿐인 것 같다."
      ]
    },
    {
      "metadata": {
        "colab_type": "code",
        "id": "nxbz0kKdJygx",
        "outputId": "8701c6f4-4e70-4d5d-c024-d80b3f32427a",
        "colab": {
          "base_uri": "https://localhost:8080/",
          "height": 402
        }
      },
      "cell_type": "code",
      "source": [
        "df[ (df.꽃받침Length >=7.0) & (df[\"꽃잎 길이\"]>=5.0)  ]"
      ],
      "execution_count": 0,
      "outputs": [
        {
          "output_type": "execute_result",
          "data": {
            "text/html": [
              "<div>\n",
              "<style>\n",
              "    .dataframe thead tr:only-child th {\n",
              "        text-align: right;\n",
              "    }\n",
              "\n",
              "    .dataframe thead th {\n",
              "        text-align: left;\n",
              "    }\n",
              "\n",
              "    .dataframe tbody tr th {\n",
              "        vertical-align: top;\n",
              "    }\n",
              "</style>\n",
              "<table border=\"1\" class=\"dataframe\">\n",
              "  <thead>\n",
              "    <tr style=\"text-align: right;\">\n",
              "      <th></th>\n",
              "      <th>꽃받침Length</th>\n",
              "      <th>꽃받침Width</th>\n",
              "      <th>꽃잎 길이</th>\n",
              "      <th>꽃잎 폭</th>\n",
              "      <th>종류</th>\n",
              "    </tr>\n",
              "  </thead>\n",
              "  <tbody>\n",
              "    <tr>\n",
              "      <th>102</th>\n",
              "      <td>7.1</td>\n",
              "      <td>3.0</td>\n",
              "      <td>5.9</td>\n",
              "      <td>2.1</td>\n",
              "      <td>Iris-virginica</td>\n",
              "    </tr>\n",
              "    <tr>\n",
              "      <th>105</th>\n",
              "      <td>7.6</td>\n",
              "      <td>3.0</td>\n",
              "      <td>6.6</td>\n",
              "      <td>2.1</td>\n",
              "      <td>Iris-virginica</td>\n",
              "    </tr>\n",
              "    <tr>\n",
              "      <th>107</th>\n",
              "      <td>7.3</td>\n",
              "      <td>2.9</td>\n",
              "      <td>6.3</td>\n",
              "      <td>1.8</td>\n",
              "      <td>Iris-virginica</td>\n",
              "    </tr>\n",
              "    <tr>\n",
              "      <th>109</th>\n",
              "      <td>7.2</td>\n",
              "      <td>3.6</td>\n",
              "      <td>6.1</td>\n",
              "      <td>2.5</td>\n",
              "      <td>Iris-virginica</td>\n",
              "    </tr>\n",
              "    <tr>\n",
              "      <th>117</th>\n",
              "      <td>7.7</td>\n",
              "      <td>3.8</td>\n",
              "      <td>6.7</td>\n",
              "      <td>2.2</td>\n",
              "      <td>Iris-virginica</td>\n",
              "    </tr>\n",
              "    <tr>\n",
              "      <th>118</th>\n",
              "      <td>7.7</td>\n",
              "      <td>2.6</td>\n",
              "      <td>6.9</td>\n",
              "      <td>2.3</td>\n",
              "      <td>Iris-virginica</td>\n",
              "    </tr>\n",
              "    <tr>\n",
              "      <th>122</th>\n",
              "      <td>7.7</td>\n",
              "      <td>2.8</td>\n",
              "      <td>6.7</td>\n",
              "      <td>2.0</td>\n",
              "      <td>Iris-virginica</td>\n",
              "    </tr>\n",
              "    <tr>\n",
              "      <th>125</th>\n",
              "      <td>7.2</td>\n",
              "      <td>3.2</td>\n",
              "      <td>6.0</td>\n",
              "      <td>1.8</td>\n",
              "      <td>Iris-virginica</td>\n",
              "    </tr>\n",
              "    <tr>\n",
              "      <th>129</th>\n",
              "      <td>7.2</td>\n",
              "      <td>3.0</td>\n",
              "      <td>5.8</td>\n",
              "      <td>1.6</td>\n",
              "      <td>Iris-virginica</td>\n",
              "    </tr>\n",
              "    <tr>\n",
              "      <th>130</th>\n",
              "      <td>7.4</td>\n",
              "      <td>2.8</td>\n",
              "      <td>6.1</td>\n",
              "      <td>1.9</td>\n",
              "      <td>Iris-virginica</td>\n",
              "    </tr>\n",
              "    <tr>\n",
              "      <th>131</th>\n",
              "      <td>7.9</td>\n",
              "      <td>3.8</td>\n",
              "      <td>6.4</td>\n",
              "      <td>2.0</td>\n",
              "      <td>Iris-virginica</td>\n",
              "    </tr>\n",
              "    <tr>\n",
              "      <th>135</th>\n",
              "      <td>7.7</td>\n",
              "      <td>3.0</td>\n",
              "      <td>6.1</td>\n",
              "      <td>2.3</td>\n",
              "      <td>Iris-virginica</td>\n",
              "    </tr>\n",
              "  </tbody>\n",
              "</table>\n",
              "</div>"
            ],
            "text/plain": [
              "     꽃받침Length  꽃받침Width  꽃잎 길이  꽃잎 폭              종류\n",
              "102        7.1       3.0    5.9   2.1  Iris-virginica\n",
              "105        7.6       3.0    6.6   2.1  Iris-virginica\n",
              "107        7.3       2.9    6.3   1.8  Iris-virginica\n",
              "109        7.2       3.6    6.1   2.5  Iris-virginica\n",
              "117        7.7       3.8    6.7   2.2  Iris-virginica\n",
              "118        7.7       2.6    6.9   2.3  Iris-virginica\n",
              "122        7.7       2.8    6.7   2.0  Iris-virginica\n",
              "125        7.2       3.2    6.0   1.8  Iris-virginica\n",
              "129        7.2       3.0    5.8   1.6  Iris-virginica\n",
              "130        7.4       2.8    6.1   1.9  Iris-virginica\n",
              "131        7.9       3.8    6.4   2.0  Iris-virginica\n",
              "135        7.7       3.0    6.1   2.3  Iris-virginica"
            ]
          },
          "metadata": {
            "tags": []
          },
          "execution_count": 22
        }
      ]
    },
    {
      "metadata": {
        "colab_type": "text",
        "id": "LUNVDy4iJygy"
      },
      "cell_type": "markdown",
      "source": [
        "### 論理条件による抽出 | (or)\n",
        "\n",
        "今度は「がく片長」が4.8未満または「花びら長」が1.3未満のものを抽出してみよう．\n",
        "\n",
        "「または」は or をあらわす**|** を用いる．\n",
        "\n",
        "各条件式を( ) で括るのを忘れないように！\n",
        "\n",
        "この2つの条件を満たすのはセントーサだけのようだ．\n",
        "\n",
        "### 논리 조건에 의한 추출 | (or)\n",
        "\n",
        "이번에는 '꽃받침 片長'가 4.8 미만 또는 「꽃잎 길이 \"가 1.3 미만인 것을 추출해 보자.\n",
        "\n",
        "\"나\"는 or를 나타내는 ** | **를 사용한다.\n",
        "\n",
        "각 조건식을 ()로 묶을 것을 잊지 마세요!\n",
        "\n",
        "이 두 가지 조건은 센토사 뿐인 것 같다."
      ]
    },
    {
      "metadata": {
        "colab_type": "code",
        "id": "9yltKHr9Jygz",
        "outputId": "51276f6c-94b8-45d1-de99-d0c4cbfc681f",
        "colab": {
          "base_uri": "https://localhost:8080/",
          "height": 432
        }
      },
      "cell_type": "code",
      "source": [
        "df[ (df.꽃받침Length <4.8) | (df[\"꽃잎 길이\"] < 1.3) ]"
      ],
      "execution_count": 0,
      "outputs": [
        {
          "output_type": "execute_result",
          "data": {
            "text/html": [
              "<div>\n",
              "<style>\n",
              "    .dataframe thead tr:only-child th {\n",
              "        text-align: right;\n",
              "    }\n",
              "\n",
              "    .dataframe thead th {\n",
              "        text-align: left;\n",
              "    }\n",
              "\n",
              "    .dataframe tbody tr th {\n",
              "        vertical-align: top;\n",
              "    }\n",
              "</style>\n",
              "<table border=\"1\" class=\"dataframe\">\n",
              "  <thead>\n",
              "    <tr style=\"text-align: right;\">\n",
              "      <th></th>\n",
              "      <th>꽃받침Length</th>\n",
              "      <th>꽃받침Width</th>\n",
              "      <th>꽃잎 길이</th>\n",
              "      <th>꽃잎 폭</th>\n",
              "      <th>종류</th>\n",
              "    </tr>\n",
              "  </thead>\n",
              "  <tbody>\n",
              "    <tr>\n",
              "      <th>2</th>\n",
              "      <td>4.7</td>\n",
              "      <td>3.2</td>\n",
              "      <td>1.3</td>\n",
              "      <td>0.2</td>\n",
              "      <td>Iris-setosa</td>\n",
              "    </tr>\n",
              "    <tr>\n",
              "      <th>3</th>\n",
              "      <td>4.6</td>\n",
              "      <td>3.1</td>\n",
              "      <td>1.5</td>\n",
              "      <td>0.2</td>\n",
              "      <td>Iris-setosa</td>\n",
              "    </tr>\n",
              "    <tr>\n",
              "      <th>6</th>\n",
              "      <td>4.6</td>\n",
              "      <td>3.4</td>\n",
              "      <td>1.4</td>\n",
              "      <td>0.3</td>\n",
              "      <td>Iris-setosa</td>\n",
              "    </tr>\n",
              "    <tr>\n",
              "      <th>8</th>\n",
              "      <td>4.4</td>\n",
              "      <td>2.9</td>\n",
              "      <td>1.4</td>\n",
              "      <td>0.2</td>\n",
              "      <td>Iris-setosa</td>\n",
              "    </tr>\n",
              "    <tr>\n",
              "      <th>13</th>\n",
              "      <td>4.3</td>\n",
              "      <td>3.0</td>\n",
              "      <td>1.1</td>\n",
              "      <td>0.1</td>\n",
              "      <td>Iris-setosa</td>\n",
              "    </tr>\n",
              "    <tr>\n",
              "      <th>14</th>\n",
              "      <td>5.8</td>\n",
              "      <td>4.0</td>\n",
              "      <td>1.2</td>\n",
              "      <td>0.2</td>\n",
              "      <td>Iris-setosa</td>\n",
              "    </tr>\n",
              "    <tr>\n",
              "      <th>22</th>\n",
              "      <td>4.6</td>\n",
              "      <td>3.6</td>\n",
              "      <td>1.0</td>\n",
              "      <td>0.2</td>\n",
              "      <td>Iris-setosa</td>\n",
              "    </tr>\n",
              "    <tr>\n",
              "      <th>29</th>\n",
              "      <td>4.7</td>\n",
              "      <td>3.2</td>\n",
              "      <td>1.6</td>\n",
              "      <td>0.2</td>\n",
              "      <td>Iris-setosa</td>\n",
              "    </tr>\n",
              "    <tr>\n",
              "      <th>35</th>\n",
              "      <td>5.0</td>\n",
              "      <td>3.2</td>\n",
              "      <td>1.2</td>\n",
              "      <td>0.2</td>\n",
              "      <td>Iris-setosa</td>\n",
              "    </tr>\n",
              "    <tr>\n",
              "      <th>38</th>\n",
              "      <td>4.4</td>\n",
              "      <td>3.0</td>\n",
              "      <td>1.3</td>\n",
              "      <td>0.2</td>\n",
              "      <td>Iris-setosa</td>\n",
              "    </tr>\n",
              "    <tr>\n",
              "      <th>41</th>\n",
              "      <td>4.5</td>\n",
              "      <td>2.3</td>\n",
              "      <td>1.3</td>\n",
              "      <td>0.3</td>\n",
              "      <td>Iris-setosa</td>\n",
              "    </tr>\n",
              "    <tr>\n",
              "      <th>42</th>\n",
              "      <td>4.4</td>\n",
              "      <td>3.2</td>\n",
              "      <td>1.3</td>\n",
              "      <td>0.2</td>\n",
              "      <td>Iris-setosa</td>\n",
              "    </tr>\n",
              "    <tr>\n",
              "      <th>47</th>\n",
              "      <td>4.6</td>\n",
              "      <td>3.2</td>\n",
              "      <td>1.4</td>\n",
              "      <td>0.2</td>\n",
              "      <td>Iris-setosa</td>\n",
              "    </tr>\n",
              "  </tbody>\n",
              "</table>\n",
              "</div>"
            ],
            "text/plain": [
              "    꽃받침Length  꽃받침Width  꽃잎 길이  꽃잎 폭           종류\n",
              "2         4.7       3.2    1.3   0.2  Iris-setosa\n",
              "3         4.6       3.1    1.5   0.2  Iris-setosa\n",
              "6         4.6       3.4    1.4   0.3  Iris-setosa\n",
              "8         4.4       2.9    1.4   0.2  Iris-setosa\n",
              "13        4.3       3.0    1.1   0.1  Iris-setosa\n",
              "14        5.8       4.0    1.2   0.2  Iris-setosa\n",
              "22        4.6       3.6    1.0   0.2  Iris-setosa\n",
              "29        4.7       3.2    1.6   0.2  Iris-setosa\n",
              "35        5.0       3.2    1.2   0.2  Iris-setosa\n",
              "38        4.4       3.0    1.3   0.2  Iris-setosa\n",
              "41        4.5       2.3    1.3   0.3  Iris-setosa\n",
              "42        4.4       3.2    1.3   0.2  Iris-setosa\n",
              "47        4.6       3.2    1.4   0.2  Iris-setosa"
            ]
          },
          "metadata": {
            "tags": []
          },
          "execution_count": 24
        }
      ]
    },
    {
      "metadata": {
        "colab_type": "text",
        "id": "sBi2Gqv7Jyg1"
      },
      "cell_type": "markdown",
      "source": [
        "### 問題\n",
        "\n",
        "1. 花びら幅が 0.5 より小さいアヤメを抽出したデータフレームを生成せよ．\n",
        "\n",
        "2. 花びら幅が 0.5 未満でかつ花びら長が1.5未満のアヤメを抽出せよ．\n",
        "\n",
        "3. 種類が 'Iris-setosa'のアヤメだけを抽出したデータフレームを生成し，データの概要のdescribeメソッドを用いて表示せよ．\n",
        "同様の操作を他の2種類のアヤメに対しても行え．これから各アヤメの種類の特徴が分かるか考察せよ．\n",
        "\n",
        "### 문제\n",
        "\n",
        "1. 꽃잎 폭이 0.5보다 작은 붓꽃을 추출한 데이터 프레임을 생성하라.\n",
        "\n",
        "2. 꽃잎 폭이 0.5 미만이고 꽃잎 길이가 1.5 미만의 붓꽃를 추출하라.\n",
        "\n",
        "3. 종류가 'Iris-setosa'의 붓꽃만을 추출한 데이터 프레임을 생성하고 데이터의 요약 describe 메소드를 사용하여 표시하라.\n",
        "같은 조작을 다른 2 종류의 붓꽃에 대해서도 가능. 앞으로 각 붓꽃 종류의 특징을 알까 고찰하라.\n"
      ]
    },
    {
      "metadata": {
        "colab_type": "code",
        "id": "tM4isoJCJyg1",
        "colab": {}
      },
      "cell_type": "code",
      "source": [
        ""
      ],
      "execution_count": 0,
      "outputs": []
    },
    {
      "metadata": {
        "colab_type": "text",
        "collapsed": true,
        "id": "KcEdo5ZqJyg3"
      },
      "cell_type": "markdown",
      "source": [
        "# グループ化\n",
        "\n",
        "上では種類が 'Iris-setosa'のアヤメだけを抽出して，それに対する平均などを計算して分析を行った．\n",
        "\n",
        "これをすべてのアヤメの種類に対して一度にできたら便利そうだ．\n",
        "\n",
        "それを行う方法が**グループ化**であり，メソッド名は**groupby**だ．\n",
        "\n",
        "列「種類」に対してグループ化を行い，グループ内のデータに対する平均をとるには，meanメソッドを用いればよい．\n",
        "\n",
        "（より詳細な分析をしたい場合には describeメソッドを使えばよい．）\n",
        "\n",
        "# 그룹화\n",
        "\n",
        "위의 유형이 'Iris-setosa'의 붓꽃만을 추출하여 그에 대한 평균 등을 계산하여 분석을 실시 하였다.\n",
        "\n",
        "이 모든 붓꽃의 종류에 대해 한 번에 할 수 있으면 편리한 것 같다.\n",
        "\n",
        "그것을 할 방법이 ** 그룹화 **이며, 메소드 이름은 ** groupby **이다.\n",
        "\n",
        "열 \"종류\"에 그룹화하고 그룹 내의 데이터에 대한 평균을 잡으려면, mean 메소드를 사용하면된다.\n",
        "\n",
        "(더 자세한 분석을하고자하는 경우에는 describe 메소드를 사용하면된다.)"
      ]
    },
    {
      "metadata": {
        "colab_type": "code",
        "id": "jZBj7yh-Jyg5",
        "outputId": "374740bc-798b-4a6e-c97d-f3cfe6bf8469",
        "colab": {
          "base_uri": "https://localhost:8080/",
          "height": 224
        }
      },
      "cell_type": "code",
      "source": [
        "df.groupby('종류').mean()\n",
        "#df.groupby('종류').describe()"
      ],
      "execution_count": 0,
      "outputs": [
        {
          "output_type": "execute_result",
          "data": {
            "text/html": [
              "<div>\n",
              "<style>\n",
              "    .dataframe thead tr:only-child th {\n",
              "        text-align: right;\n",
              "    }\n",
              "\n",
              "    .dataframe thead th {\n",
              "        text-align: left;\n",
              "    }\n",
              "\n",
              "    .dataframe tbody tr th {\n",
              "        vertical-align: top;\n",
              "    }\n",
              "</style>\n",
              "<table border=\"1\" class=\"dataframe\">\n",
              "  <thead>\n",
              "    <tr style=\"text-align: right;\">\n",
              "      <th></th>\n",
              "      <th>꽃받침Length</th>\n",
              "      <th>꽃받침Width</th>\n",
              "      <th>꽃잎 길이</th>\n",
              "      <th>꽃잎 폭</th>\n",
              "    </tr>\n",
              "    <tr>\n",
              "      <th>종류</th>\n",
              "      <th></th>\n",
              "      <th></th>\n",
              "      <th></th>\n",
              "      <th></th>\n",
              "    </tr>\n",
              "  </thead>\n",
              "  <tbody>\n",
              "    <tr>\n",
              "      <th>Iris-setosa</th>\n",
              "      <td>5.006</td>\n",
              "      <td>3.418</td>\n",
              "      <td>1.464</td>\n",
              "      <td>0.244</td>\n",
              "    </tr>\n",
              "    <tr>\n",
              "      <th>Iris-versicolor</th>\n",
              "      <td>5.936</td>\n",
              "      <td>2.770</td>\n",
              "      <td>4.260</td>\n",
              "      <td>1.326</td>\n",
              "    </tr>\n",
              "    <tr>\n",
              "      <th>Iris-virginica</th>\n",
              "      <td>6.588</td>\n",
              "      <td>2.974</td>\n",
              "      <td>5.552</td>\n",
              "      <td>2.026</td>\n",
              "    </tr>\n",
              "  </tbody>\n",
              "</table>\n",
              "</div>"
            ],
            "text/plain": [
              "                 꽃받침Length  꽃받침Width  꽃잎 길이   꽃잎 폭\n",
              "종류                                                \n",
              "Iris-setosa          5.006     3.418  1.464  0.244\n",
              "Iris-versicolor      5.936     2.770  4.260  1.326\n",
              "Iris-virginica       6.588     2.974  5.552  2.026"
            ]
          },
          "metadata": {
            "tags": []
          },
          "execution_count": 26
        }
      ]
    },
    {
      "metadata": {
        "colab_type": "text",
        "collapsed": true,
        "id": "Rnj2ftY3Jyg7"
      },
      "cell_type": "markdown",
      "source": [
        "### 問題\n",
        "\n",
        "以下の国別のアルコール摂取量のデータを用いて，大陸(continent)別のビール，蒸留酒，ワインの摂取量の平均を求めよ．"
      ]
    },
    {
      "metadata": {
        "colab_type": "code",
        "id": "A85lZ9lYJyg7",
        "outputId": "e9e62a7a-1087-454a-d0d9-2c6b15601723",
        "colab": {
          "base_uri": "https://localhost:8080/",
          "height": 195
        }
      },
      "cell_type": "code",
      "source": [
        "drinks = pd.read_csv('http://logopt.com/data/drinks.csv')\n",
        "drinks.head()"
      ],
      "execution_count": 0,
      "outputs": [
        {
          "output_type": "execute_result",
          "data": {
            "text/html": [
              "<div>\n",
              "<style scoped>\n",
              "    .dataframe tbody tr th:only-of-type {\n",
              "        vertical-align: middle;\n",
              "    }\n",
              "\n",
              "    .dataframe tbody tr th {\n",
              "        vertical-align: top;\n",
              "    }\n",
              "\n",
              "    .dataframe thead th {\n",
              "        text-align: right;\n",
              "    }\n",
              "</style>\n",
              "<table border=\"1\" class=\"dataframe\">\n",
              "  <thead>\n",
              "    <tr style=\"text-align: right;\">\n",
              "      <th></th>\n",
              "      <th>country</th>\n",
              "      <th>beer_servings</th>\n",
              "      <th>spirit_servings</th>\n",
              "      <th>wine_servings</th>\n",
              "      <th>total_litres_of_pure_alcohol</th>\n",
              "      <th>continent</th>\n",
              "    </tr>\n",
              "  </thead>\n",
              "  <tbody>\n",
              "    <tr>\n",
              "      <th>0</th>\n",
              "      <td>Afghanistan</td>\n",
              "      <td>0</td>\n",
              "      <td>0</td>\n",
              "      <td>0</td>\n",
              "      <td>0.0</td>\n",
              "      <td>Asia</td>\n",
              "    </tr>\n",
              "    <tr>\n",
              "      <th>1</th>\n",
              "      <td>Albania</td>\n",
              "      <td>89</td>\n",
              "      <td>132</td>\n",
              "      <td>54</td>\n",
              "      <td>4.9</td>\n",
              "      <td>Europe</td>\n",
              "    </tr>\n",
              "    <tr>\n",
              "      <th>2</th>\n",
              "      <td>Algeria</td>\n",
              "      <td>25</td>\n",
              "      <td>0</td>\n",
              "      <td>14</td>\n",
              "      <td>0.7</td>\n",
              "      <td>Africa</td>\n",
              "    </tr>\n",
              "    <tr>\n",
              "      <th>3</th>\n",
              "      <td>Andorra</td>\n",
              "      <td>245</td>\n",
              "      <td>138</td>\n",
              "      <td>312</td>\n",
              "      <td>12.4</td>\n",
              "      <td>Europe</td>\n",
              "    </tr>\n",
              "    <tr>\n",
              "      <th>4</th>\n",
              "      <td>Angola</td>\n",
              "      <td>217</td>\n",
              "      <td>57</td>\n",
              "      <td>45</td>\n",
              "      <td>5.9</td>\n",
              "      <td>Africa</td>\n",
              "    </tr>\n",
              "  </tbody>\n",
              "</table>\n",
              "</div>"
            ],
            "text/plain": [
              "       country  beer_servings  spirit_servings  wine_servings  \\\n",
              "0  Afghanistan              0                0              0   \n",
              "1      Albania             89              132             54   \n",
              "2      Algeria             25                0             14   \n",
              "3      Andorra            245              138            312   \n",
              "4       Angola            217               57             45   \n",
              "\n",
              "   total_litres_of_pure_alcohol continent  \n",
              "0                           0.0      Asia  \n",
              "1                           4.9    Europe  \n",
              "2                           0.7    Africa  \n",
              "3                          12.4    Europe  \n",
              "4                           5.9    Africa  "
            ]
          },
          "metadata": {
            "tags": []
          },
          "execution_count": 18
        }
      ]
    },
    {
      "metadata": {
        "colab_type": "code",
        "id": "9VwlO3JrJyg_",
        "colab": {}
      },
      "cell_type": "code",
      "source": [
        ""
      ],
      "execution_count": 0,
      "outputs": []
    },
    {
      "metadata": {
        "colab_type": "text",
        "collapsed": true,
        "id": "rgGuILR7JyhA"
      },
      "cell_type": "markdown",
      "source": [
        "# 行と列の削除\n",
        "\n",
        "前に学んだ iloc や locを用いても行や列の削除を行うことができるが，1行だけとか1列だけを削除したい場合には ** dropメソッド **を用いる方が簡単だ．\n",
        "\n",
        "\n",
        "例として，大陸別の飲酒データから，大陸（continent)を表す列を削除してみよう．\n",
        "\n",
        "ここでdropメソッドの重要な引数として**axis**がある．これは軸を表し，**axis=0**のときが行の削除で，**axis=1**のときが列の削除になる．\n",
        "\n",
        "# 행과 열 삭제\n",
        "\n",
        "전에 배운 iloc과 loc을 사용하여도 행과 열을 제거 할 수 있지만 하나의 행이나 열만을 삭제할 경우에는 **drop 방법** 을 이용하는 편이 간단하다.\n",
        "\n",
        "\n",
        "예를 들어 대륙별로 음주 데이터에서 대륙 (continent)을 나타내는 열을 삭제 해 보자.\n",
        "\n",
        "여기에서 drop 메소드의 중요한 인자로 **axis** 이있다. 이것은 축을 나타내고, **axis = 0** 때가 행 삭제에서 **axis = 1** 때가 열 삭제된다."
      ]
    },
    {
      "metadata": {
        "colab_type": "code",
        "id": "YoS6AxcMJyhB",
        "outputId": "38216a1f-67f6-4b3d-96fb-0fd969c2e96c",
        "colab": {
          "base_uri": "https://localhost:8080/",
          "height": 195
        }
      },
      "cell_type": "code",
      "source": [
        "drinks = pd.read_csv('http://logopt.com/data/drinks.csv')\n",
        "drinks.head()"
      ],
      "execution_count": 0,
      "outputs": [
        {
          "output_type": "execute_result",
          "data": {
            "text/html": [
              "<div>\n",
              "<style scoped>\n",
              "    .dataframe tbody tr th:only-of-type {\n",
              "        vertical-align: middle;\n",
              "    }\n",
              "\n",
              "    .dataframe tbody tr th {\n",
              "        vertical-align: top;\n",
              "    }\n",
              "\n",
              "    .dataframe thead th {\n",
              "        text-align: right;\n",
              "    }\n",
              "</style>\n",
              "<table border=\"1\" class=\"dataframe\">\n",
              "  <thead>\n",
              "    <tr style=\"text-align: right;\">\n",
              "      <th></th>\n",
              "      <th>country</th>\n",
              "      <th>beer_servings</th>\n",
              "      <th>spirit_servings</th>\n",
              "      <th>wine_servings</th>\n",
              "      <th>total_litres_of_pure_alcohol</th>\n",
              "      <th>continent</th>\n",
              "    </tr>\n",
              "  </thead>\n",
              "  <tbody>\n",
              "    <tr>\n",
              "      <th>0</th>\n",
              "      <td>Afghanistan</td>\n",
              "      <td>0</td>\n",
              "      <td>0</td>\n",
              "      <td>0</td>\n",
              "      <td>0.0</td>\n",
              "      <td>Asia</td>\n",
              "    </tr>\n",
              "    <tr>\n",
              "      <th>1</th>\n",
              "      <td>Albania</td>\n",
              "      <td>89</td>\n",
              "      <td>132</td>\n",
              "      <td>54</td>\n",
              "      <td>4.9</td>\n",
              "      <td>Europe</td>\n",
              "    </tr>\n",
              "    <tr>\n",
              "      <th>2</th>\n",
              "      <td>Algeria</td>\n",
              "      <td>25</td>\n",
              "      <td>0</td>\n",
              "      <td>14</td>\n",
              "      <td>0.7</td>\n",
              "      <td>Africa</td>\n",
              "    </tr>\n",
              "    <tr>\n",
              "      <th>3</th>\n",
              "      <td>Andorra</td>\n",
              "      <td>245</td>\n",
              "      <td>138</td>\n",
              "      <td>312</td>\n",
              "      <td>12.4</td>\n",
              "      <td>Europe</td>\n",
              "    </tr>\n",
              "    <tr>\n",
              "      <th>4</th>\n",
              "      <td>Angola</td>\n",
              "      <td>217</td>\n",
              "      <td>57</td>\n",
              "      <td>45</td>\n",
              "      <td>5.9</td>\n",
              "      <td>Africa</td>\n",
              "    </tr>\n",
              "  </tbody>\n",
              "</table>\n",
              "</div>"
            ],
            "text/plain": [
              "       country  beer_servings  spirit_servings  wine_servings  \\\n",
              "0  Afghanistan              0                0              0   \n",
              "1      Albania             89              132             54   \n",
              "2      Algeria             25                0             14   \n",
              "3      Andorra            245              138            312   \n",
              "4       Angola            217               57             45   \n",
              "\n",
              "   total_litres_of_pure_alcohol continent  \n",
              "0                           0.0      Asia  \n",
              "1                           4.9    Europe  \n",
              "2                           0.7    Africa  \n",
              "3                          12.4    Europe  \n",
              "4                           5.9    Africa  "
            ]
          },
          "metadata": {
            "tags": []
          },
          "execution_count": 19
        }
      ]
    },
    {
      "metadata": {
        "colab_type": "code",
        "id": "0eJP9mZxJyhC",
        "outputId": "0f05aa15-ade9-4079-ef10-010adec95f36",
        "colab": {
          "base_uri": "https://localhost:8080/",
          "height": 195
        }
      },
      "cell_type": "code",
      "source": [
        "drinks.drop('continent', axis=1).head() #　大陸(continent)の列を削除"
      ],
      "execution_count": 0,
      "outputs": [
        {
          "output_type": "execute_result",
          "data": {
            "text/html": [
              "<div>\n",
              "<style scoped>\n",
              "    .dataframe tbody tr th:only-of-type {\n",
              "        vertical-align: middle;\n",
              "    }\n",
              "\n",
              "    .dataframe tbody tr th {\n",
              "        vertical-align: top;\n",
              "    }\n",
              "\n",
              "    .dataframe thead th {\n",
              "        text-align: right;\n",
              "    }\n",
              "</style>\n",
              "<table border=\"1\" class=\"dataframe\">\n",
              "  <thead>\n",
              "    <tr style=\"text-align: right;\">\n",
              "      <th></th>\n",
              "      <th>country</th>\n",
              "      <th>beer_servings</th>\n",
              "      <th>spirit_servings</th>\n",
              "      <th>wine_servings</th>\n",
              "      <th>total_litres_of_pure_alcohol</th>\n",
              "    </tr>\n",
              "  </thead>\n",
              "  <tbody>\n",
              "    <tr>\n",
              "      <th>0</th>\n",
              "      <td>Afghanistan</td>\n",
              "      <td>0</td>\n",
              "      <td>0</td>\n",
              "      <td>0</td>\n",
              "      <td>0.0</td>\n",
              "    </tr>\n",
              "    <tr>\n",
              "      <th>1</th>\n",
              "      <td>Albania</td>\n",
              "      <td>89</td>\n",
              "      <td>132</td>\n",
              "      <td>54</td>\n",
              "      <td>4.9</td>\n",
              "    </tr>\n",
              "    <tr>\n",
              "      <th>2</th>\n",
              "      <td>Algeria</td>\n",
              "      <td>25</td>\n",
              "      <td>0</td>\n",
              "      <td>14</td>\n",
              "      <td>0.7</td>\n",
              "    </tr>\n",
              "    <tr>\n",
              "      <th>3</th>\n",
              "      <td>Andorra</td>\n",
              "      <td>245</td>\n",
              "      <td>138</td>\n",
              "      <td>312</td>\n",
              "      <td>12.4</td>\n",
              "    </tr>\n",
              "    <tr>\n",
              "      <th>4</th>\n",
              "      <td>Angola</td>\n",
              "      <td>217</td>\n",
              "      <td>57</td>\n",
              "      <td>45</td>\n",
              "      <td>5.9</td>\n",
              "    </tr>\n",
              "  </tbody>\n",
              "</table>\n",
              "</div>"
            ],
            "text/plain": [
              "       country  beer_servings  spirit_servings  wine_servings  \\\n",
              "0  Afghanistan              0                0              0   \n",
              "1      Albania             89              132             54   \n",
              "2      Algeria             25                0             14   \n",
              "3      Andorra            245              138            312   \n",
              "4       Angola            217               57             45   \n",
              "\n",
              "   total_litres_of_pure_alcohol  \n",
              "0                           0.0  \n",
              "1                           4.9  \n",
              "2                           0.7  \n",
              "3                          12.4  \n",
              "4                           5.9  "
            ]
          },
          "metadata": {
            "tags": []
          },
          "execution_count": 20
        }
      ]
    },
    {
      "metadata": {
        "colab_type": "code",
        "id": "g_Qcvh4bJyhE",
        "outputId": "e30e76d3-6d42-45fe-e3de-560eff279270",
        "colab": {
          "base_uri": "https://localhost:8080/",
          "height": 195
        }
      },
      "cell_type": "code",
      "source": [
        "drinks.drop(2, axis=0).head() #インデックス２の行を削除"
      ],
      "execution_count": 0,
      "outputs": [
        {
          "output_type": "execute_result",
          "data": {
            "text/html": [
              "<div>\n",
              "<style scoped>\n",
              "    .dataframe tbody tr th:only-of-type {\n",
              "        vertical-align: middle;\n",
              "    }\n",
              "\n",
              "    .dataframe tbody tr th {\n",
              "        vertical-align: top;\n",
              "    }\n",
              "\n",
              "    .dataframe thead th {\n",
              "        text-align: right;\n",
              "    }\n",
              "</style>\n",
              "<table border=\"1\" class=\"dataframe\">\n",
              "  <thead>\n",
              "    <tr style=\"text-align: right;\">\n",
              "      <th></th>\n",
              "      <th>country</th>\n",
              "      <th>beer_servings</th>\n",
              "      <th>spirit_servings</th>\n",
              "      <th>wine_servings</th>\n",
              "      <th>total_litres_of_pure_alcohol</th>\n",
              "      <th>continent</th>\n",
              "    </tr>\n",
              "  </thead>\n",
              "  <tbody>\n",
              "    <tr>\n",
              "      <th>0</th>\n",
              "      <td>Afghanistan</td>\n",
              "      <td>0</td>\n",
              "      <td>0</td>\n",
              "      <td>0</td>\n",
              "      <td>0.0</td>\n",
              "      <td>Asia</td>\n",
              "    </tr>\n",
              "    <tr>\n",
              "      <th>1</th>\n",
              "      <td>Albania</td>\n",
              "      <td>89</td>\n",
              "      <td>132</td>\n",
              "      <td>54</td>\n",
              "      <td>4.9</td>\n",
              "      <td>Europe</td>\n",
              "    </tr>\n",
              "    <tr>\n",
              "      <th>3</th>\n",
              "      <td>Andorra</td>\n",
              "      <td>245</td>\n",
              "      <td>138</td>\n",
              "      <td>312</td>\n",
              "      <td>12.4</td>\n",
              "      <td>Europe</td>\n",
              "    </tr>\n",
              "    <tr>\n",
              "      <th>4</th>\n",
              "      <td>Angola</td>\n",
              "      <td>217</td>\n",
              "      <td>57</td>\n",
              "      <td>45</td>\n",
              "      <td>5.9</td>\n",
              "      <td>Africa</td>\n",
              "    </tr>\n",
              "    <tr>\n",
              "      <th>5</th>\n",
              "      <td>Antigua &amp; Barbuda</td>\n",
              "      <td>102</td>\n",
              "      <td>128</td>\n",
              "      <td>45</td>\n",
              "      <td>4.9</td>\n",
              "      <td>North America</td>\n",
              "    </tr>\n",
              "  </tbody>\n",
              "</table>\n",
              "</div>"
            ],
            "text/plain": [
              "             country  beer_servings  spirit_servings  wine_servings  \\\n",
              "0        Afghanistan              0                0              0   \n",
              "1            Albania             89              132             54   \n",
              "3            Andorra            245              138            312   \n",
              "4             Angola            217               57             45   \n",
              "5  Antigua & Barbuda            102              128             45   \n",
              "\n",
              "   total_litres_of_pure_alcohol      continent  \n",
              "0                           0.0           Asia  \n",
              "1                           4.9         Europe  \n",
              "3                          12.4         Europe  \n",
              "4                           5.9         Africa  \n",
              "5                           4.9  North America  "
            ]
          },
          "metadata": {
            "tags": []
          },
          "execution_count": 21
        }
      ]
    },
    {
      "metadata": {
        "colab_type": "text",
        "collapsed": true,
        "id": "eGXaYX3nJyhG"
      },
      "cell_type": "markdown",
      "source": [
        "### 問題\n",
        "\n",
        "* アヤメのデータを読み込み「がく片長」の列を削除した新しいデータフレームを生成せよ．\n",
        "\n",
        "* 上のデータフレームから3番目と5番目の行を削除せよ．（ヒント：元のデータデータフレームに削除を適用するためには，dropメソッドinplace引数をTrueに設定する．既定値はinplace=Falseである．）\n"
      ]
    },
    {
      "metadata": {
        "colab_type": "code",
        "id": "4hzgseyZJyhH",
        "colab": {}
      },
      "cell_type": "code",
      "source": [
        ""
      ],
      "execution_count": 0,
      "outputs": []
    },
    {
      "metadata": {
        "colab_type": "text",
        "id": "ZQyPwACSJyhI"
      },
      "cell_type": "markdown",
      "source": [
        "# 欠損値の処理\n",
        "\n",
        "実際のデータでは，値が入っていない欠損値を含む場合が多い．欠損値はpandasでは**NaN**(Not A Number）と名付けられた特殊な値で表される．これは，numpyのnanオブジェクトであり，read_csv関数でデータを読んだときに，値が入っていない場合には，自動的にNaNが代入される．\n",
        "\n",
        "例としてUFO（未確認飛行物体）の目撃情報のデータを読んでみよう．\n",
        "\n",
        "# 결 측값 처리\n",
        "\n",
        "실제 데이터 값이 들어 있지 않은 결 측값을 포함하는 경우가 많다. 결손치는 pandas는 **NaN** (Not A Number)라고 명명 된 특수 값으로 표시된다. 이것은 numpy의 nan 개체이며, read_csv 함수에서 데이터를 읽을 때 값이 들어 있지 않은 경우에는 자동으로 NaN가 할당된다.\n",
        "\n",
        "예 UFO (미확인 비행 물체) 목격의 데이터를 읽어 보자."
      ]
    },
    {
      "metadata": {
        "colab_type": "code",
        "id": "3fdUWDKlJyhK",
        "outputId": "c6053294-0a4a-4707-f300-eba2abf3a291",
        "colab": {
          "base_uri": "https://localhost:8080/",
          "height": 195
        }
      },
      "cell_type": "code",
      "source": [
        "ufo = pd.read_csv('http://logopt.com/data/ufo.csv')\n",
        "ufo.tail()"
      ],
      "execution_count": 0,
      "outputs": [
        {
          "output_type": "execute_result",
          "data": {
            "text/html": [
              "<div>\n",
              "<style scoped>\n",
              "    .dataframe tbody tr th:only-of-type {\n",
              "        vertical-align: middle;\n",
              "    }\n",
              "\n",
              "    .dataframe tbody tr th {\n",
              "        vertical-align: top;\n",
              "    }\n",
              "\n",
              "    .dataframe thead th {\n",
              "        text-align: right;\n",
              "    }\n",
              "</style>\n",
              "<table border=\"1\" class=\"dataframe\">\n",
              "  <thead>\n",
              "    <tr style=\"text-align: right;\">\n",
              "      <th></th>\n",
              "      <th>Unnamed: 0</th>\n",
              "      <th>City</th>\n",
              "      <th>Colors Reported</th>\n",
              "      <th>Shape Reported</th>\n",
              "      <th>State</th>\n",
              "      <th>Time</th>\n",
              "    </tr>\n",
              "  </thead>\n",
              "  <tbody>\n",
              "    <tr>\n",
              "      <th>18236</th>\n",
              "      <td>18236</td>\n",
              "      <td>Grant Park</td>\n",
              "      <td>NaN</td>\n",
              "      <td>TRIANGLE</td>\n",
              "      <td>IL</td>\n",
              "      <td>12/31/2000 23:00</td>\n",
              "    </tr>\n",
              "    <tr>\n",
              "      <th>18237</th>\n",
              "      <td>18237</td>\n",
              "      <td>Spirit Lake</td>\n",
              "      <td>NaN</td>\n",
              "      <td>DISK</td>\n",
              "      <td>IA</td>\n",
              "      <td>12/31/2000 23:00</td>\n",
              "    </tr>\n",
              "    <tr>\n",
              "      <th>18238</th>\n",
              "      <td>18238</td>\n",
              "      <td>Eagle River</td>\n",
              "      <td>NaN</td>\n",
              "      <td>NaN</td>\n",
              "      <td>WI</td>\n",
              "      <td>12/31/2000 23:45</td>\n",
              "    </tr>\n",
              "    <tr>\n",
              "      <th>18239</th>\n",
              "      <td>18239</td>\n",
              "      <td>Eagle River</td>\n",
              "      <td>RED</td>\n",
              "      <td>LIGHT</td>\n",
              "      <td>WI</td>\n",
              "      <td>12/31/2000 23:45</td>\n",
              "    </tr>\n",
              "    <tr>\n",
              "      <th>18240</th>\n",
              "      <td>18240</td>\n",
              "      <td>Ybor</td>\n",
              "      <td>NaN</td>\n",
              "      <td>OVAL</td>\n",
              "      <td>FL</td>\n",
              "      <td>12/31/2000 23:59</td>\n",
              "    </tr>\n",
              "  </tbody>\n",
              "</table>\n",
              "</div>"
            ],
            "text/plain": [
              "       Unnamed: 0         City Colors Reported Shape Reported State  \\\n",
              "18236       18236   Grant Park             NaN       TRIANGLE    IL   \n",
              "18237       18237  Spirit Lake             NaN           DISK    IA   \n",
              "18238       18238  Eagle River             NaN            NaN    WI   \n",
              "18239       18239  Eagle River             RED          LIGHT    WI   \n",
              "18240       18240         Ybor             NaN           OVAL    FL   \n",
              "\n",
              "                   Time  \n",
              "18236  12/31/2000 23:00  \n",
              "18237  12/31/2000 23:00  \n",
              "18238  12/31/2000 23:45  \n",
              "18239  12/31/2000 23:45  \n",
              "18240  12/31/2000 23:59  "
            ]
          },
          "metadata": {
            "tags": []
          },
          "execution_count": 22
        }
      ]
    },
    {
      "metadata": {
        "colab_type": "text",
        "id": "AN09L00RJyhO"
      },
      "cell_type": "markdown",
      "source": [
        "データには多くの**NaN**（欠損値）を含まれる．\n",
        "\n",
        "欠損値のある行を削除するには **dropnaメソッド** を用いる．\n"
      ]
    },
    {
      "metadata": {
        "colab_type": "code",
        "id": "HQ8ulp2dJyhP",
        "outputId": "b492ca90-7754-4a99-e680-5f5df1565dea",
        "colab": {
          "base_uri": "https://localhost:8080/",
          "height": 195
        }
      },
      "cell_type": "code",
      "source": [
        "ufo.dropna().tail()"
      ],
      "execution_count": 0,
      "outputs": [
        {
          "output_type": "execute_result",
          "data": {
            "text/html": [
              "<div>\n",
              "<style scoped>\n",
              "    .dataframe tbody tr th:only-of-type {\n",
              "        vertical-align: middle;\n",
              "    }\n",
              "\n",
              "    .dataframe tbody tr th {\n",
              "        vertical-align: top;\n",
              "    }\n",
              "\n",
              "    .dataframe thead th {\n",
              "        text-align: right;\n",
              "    }\n",
              "</style>\n",
              "<table border=\"1\" class=\"dataframe\">\n",
              "  <thead>\n",
              "    <tr style=\"text-align: right;\">\n",
              "      <th></th>\n",
              "      <th>Unnamed: 0</th>\n",
              "      <th>City</th>\n",
              "      <th>Colors Reported</th>\n",
              "      <th>Shape Reported</th>\n",
              "      <th>State</th>\n",
              "      <th>Time</th>\n",
              "    </tr>\n",
              "  </thead>\n",
              "  <tbody>\n",
              "    <tr>\n",
              "      <th>18213</th>\n",
              "      <td>18213</td>\n",
              "      <td>Pasadena</td>\n",
              "      <td>GREEN</td>\n",
              "      <td>FIREBALL</td>\n",
              "      <td>CA</td>\n",
              "      <td>12/28/2000 19:10</td>\n",
              "    </tr>\n",
              "    <tr>\n",
              "      <th>18216</th>\n",
              "      <td>18216</td>\n",
              "      <td>Garden Grove</td>\n",
              "      <td>ORANGE</td>\n",
              "      <td>LIGHT</td>\n",
              "      <td>CA</td>\n",
              "      <td>12/29/2000 16:10</td>\n",
              "    </tr>\n",
              "    <tr>\n",
              "      <th>18220</th>\n",
              "      <td>18220</td>\n",
              "      <td>Shasta Lake</td>\n",
              "      <td>BLUE</td>\n",
              "      <td>DISK</td>\n",
              "      <td>CA</td>\n",
              "      <td>12/29/2000 20:30</td>\n",
              "    </tr>\n",
              "    <tr>\n",
              "      <th>18233</th>\n",
              "      <td>18233</td>\n",
              "      <td>Anchorage</td>\n",
              "      <td>RED</td>\n",
              "      <td>VARIOUS</td>\n",
              "      <td>AK</td>\n",
              "      <td>12/31/2000 21:00</td>\n",
              "    </tr>\n",
              "    <tr>\n",
              "      <th>18239</th>\n",
              "      <td>18239</td>\n",
              "      <td>Eagle River</td>\n",
              "      <td>RED</td>\n",
              "      <td>LIGHT</td>\n",
              "      <td>WI</td>\n",
              "      <td>12/31/2000 23:45</td>\n",
              "    </tr>\n",
              "  </tbody>\n",
              "</table>\n",
              "</div>"
            ],
            "text/plain": [
              "       Unnamed: 0          City Colors Reported Shape Reported State  \\\n",
              "18213       18213      Pasadena           GREEN       FIREBALL    CA   \n",
              "18216       18216  Garden Grove          ORANGE          LIGHT    CA   \n",
              "18220       18220   Shasta Lake            BLUE           DISK    CA   \n",
              "18233       18233     Anchorage             RED        VARIOUS    AK   \n",
              "18239       18239   Eagle River             RED          LIGHT    WI   \n",
              "\n",
              "                   Time  \n",
              "18213  12/28/2000 19:10  \n",
              "18216  12/29/2000 16:10  \n",
              "18220  12/29/2000 20:30  \n",
              "18233  12/31/2000 21:00  \n",
              "18239  12/31/2000 23:45  "
            ]
          },
          "metadata": {
            "tags": []
          },
          "execution_count": 23
        }
      ]
    },
    {
      "metadata": {
        "colab_type": "text",
        "id": "YbgK_Rs-JyhR"
      },
      "cell_type": "markdown",
      "source": [
        "欠損値を適当な値で置き換えたい場合には**fillnaメソッド**を用いる．\n",
        "\n",
        "たとえば，欠損値を'Unknown'で置き換えたい場合には，以下のようにする．\n"
      ]
    },
    {
      "metadata": {
        "colab_type": "code",
        "id": "Wsaok4rkJyhS",
        "outputId": "3d0201f1-c90d-49c3-ee70-14afc6f94a89",
        "colab": {
          "base_uri": "https://localhost:8080/",
          "height": 195
        }
      },
      "cell_type": "code",
      "source": [
        "ufo.fillna('Unknown').tail()"
      ],
      "execution_count": 0,
      "outputs": [
        {
          "output_type": "execute_result",
          "data": {
            "text/html": [
              "<div>\n",
              "<style scoped>\n",
              "    .dataframe tbody tr th:only-of-type {\n",
              "        vertical-align: middle;\n",
              "    }\n",
              "\n",
              "    .dataframe tbody tr th {\n",
              "        vertical-align: top;\n",
              "    }\n",
              "\n",
              "    .dataframe thead th {\n",
              "        text-align: right;\n",
              "    }\n",
              "</style>\n",
              "<table border=\"1\" class=\"dataframe\">\n",
              "  <thead>\n",
              "    <tr style=\"text-align: right;\">\n",
              "      <th></th>\n",
              "      <th>Unnamed: 0</th>\n",
              "      <th>City</th>\n",
              "      <th>Colors Reported</th>\n",
              "      <th>Shape Reported</th>\n",
              "      <th>State</th>\n",
              "      <th>Time</th>\n",
              "    </tr>\n",
              "  </thead>\n",
              "  <tbody>\n",
              "    <tr>\n",
              "      <th>18236</th>\n",
              "      <td>18236</td>\n",
              "      <td>Grant Park</td>\n",
              "      <td>Unknown</td>\n",
              "      <td>TRIANGLE</td>\n",
              "      <td>IL</td>\n",
              "      <td>12/31/2000 23:00</td>\n",
              "    </tr>\n",
              "    <tr>\n",
              "      <th>18237</th>\n",
              "      <td>18237</td>\n",
              "      <td>Spirit Lake</td>\n",
              "      <td>Unknown</td>\n",
              "      <td>DISK</td>\n",
              "      <td>IA</td>\n",
              "      <td>12/31/2000 23:00</td>\n",
              "    </tr>\n",
              "    <tr>\n",
              "      <th>18238</th>\n",
              "      <td>18238</td>\n",
              "      <td>Eagle River</td>\n",
              "      <td>Unknown</td>\n",
              "      <td>Unknown</td>\n",
              "      <td>WI</td>\n",
              "      <td>12/31/2000 23:45</td>\n",
              "    </tr>\n",
              "    <tr>\n",
              "      <th>18239</th>\n",
              "      <td>18239</td>\n",
              "      <td>Eagle River</td>\n",
              "      <td>RED</td>\n",
              "      <td>LIGHT</td>\n",
              "      <td>WI</td>\n",
              "      <td>12/31/2000 23:45</td>\n",
              "    </tr>\n",
              "    <tr>\n",
              "      <th>18240</th>\n",
              "      <td>18240</td>\n",
              "      <td>Ybor</td>\n",
              "      <td>Unknown</td>\n",
              "      <td>OVAL</td>\n",
              "      <td>FL</td>\n",
              "      <td>12/31/2000 23:59</td>\n",
              "    </tr>\n",
              "  </tbody>\n",
              "</table>\n",
              "</div>"
            ],
            "text/plain": [
              "       Unnamed: 0         City Colors Reported Shape Reported State  \\\n",
              "18236       18236   Grant Park         Unknown       TRIANGLE    IL   \n",
              "18237       18237  Spirit Lake         Unknown           DISK    IA   \n",
              "18238       18238  Eagle River         Unknown        Unknown    WI   \n",
              "18239       18239  Eagle River             RED          LIGHT    WI   \n",
              "18240       18240         Ybor         Unknown           OVAL    FL   \n",
              "\n",
              "                   Time  \n",
              "18236  12/31/2000 23:00  \n",
              "18237  12/31/2000 23:00  \n",
              "18238  12/31/2000 23:45  \n",
              "18239  12/31/2000 23:45  \n",
              "18240  12/31/2000 23:59  "
            ]
          },
          "metadata": {
            "tags": []
          },
          "execution_count": 24
        }
      ]
    },
    {
      "metadata": {
        "colab_type": "text",
        "id": "OEsvLCLbJyhW"
      },
      "cell_type": "markdown",
      "source": [
        "### 問題\n",
        "\n",
        "* 上のUFOデータに対して，町(City列）の欠損値を'場所不明'に，色（Colors Reported列）の欠損値を'たぶん白'に置き換えよ．\n",
        "\n",
        "（ヒント１：元のデータデータフレームに欠損値処理の結果を適用するためには，inplace引数をTrueに設定する．既定値はinplace=Falseである．）\n",
        "\n",
        "（ヒント２：特定の列を選択する方法については，だいぶ前に学んだはず．）\n"
      ]
    },
    {
      "metadata": {
        "colab_type": "code",
        "id": "yoCMKGgoJyhX",
        "colab": {}
      },
      "cell_type": "code",
      "source": [
        ""
      ],
      "execution_count": 0,
      "outputs": []
    },
    {
      "metadata": {
        "colab_type": "text",
        "id": "KD1_F54RJyhb"
      },
      "cell_type": "markdown",
      "source": [
        "# データ型の変更と文字列の操作\n",
        "\n",
        "データフレームの各列は，同じデータ型をもつ必要がある（NumPyの配列だからだ）．\n",
        "\n",
        "データ型のチェックは，デーフレームの**dtypes属性**をみればよい．\n",
        "\n",
        "データ型を変更したいときには，**astypeメソッド**を用いる．引数は変更したいデータの型を入れる（整数ならint，浮動小数点数ならfloatなど）．\n",
        "\n",
        "例として国別の飲酒量のデータを用いる．\n",
        "\n",
        "# 데이터 형의 변경과 문자열 조작\n",
        "\n",
        "데이터 프레임의 각 열은 동일한 데이터 형식을 가질 필요가있다 (NumPy 배열이기 때문이다).\n",
        "\n",
        "데이터 유형 확인은 데이터 프레임의 **dtypes 속성** 를 보면된다.\n",
        "\n",
        "데이터 형식을 변경하고 싶은 경우에는 **astype 방법** 을 사용한다. 인수는 변경하고자하는 데이터의 형태를 넣는다 (정수가 아니라면 int 부동 소수점 숫자라면 float 등).\n",
        "\n",
        "예를 들어 국가의 음주량의 데이터를 이용한다."
      ]
    },
    {
      "metadata": {
        "colab_type": "code",
        "id": "Rh1HcHRyJyhb",
        "outputId": "d26a73ac-43eb-4ffc-de76-4397512c46eb",
        "colab": {
          "base_uri": "https://localhost:8080/",
          "height": 140
        }
      },
      "cell_type": "code",
      "source": [
        "drinks = pd.read_csv('http://logopt.com/data/drinks.csv')\n",
        "drinks.dtypes"
      ],
      "execution_count": 0,
      "outputs": [
        {
          "output_type": "execute_result",
          "data": {
            "text/plain": [
              "country                          object\n",
              "beer_servings                     int64\n",
              "spirit_servings                   int64\n",
              "wine_servings                     int64\n",
              "total_litres_of_pure_alcohol    float64\n",
              "continent                        object\n",
              "dtype: object"
            ]
          },
          "metadata": {
            "tags": []
          },
          "execution_count": 25
        }
      ]
    },
    {
      "metadata": {
        "colab_type": "text",
        "id": "ANSYCyXTJyhd"
      },
      "cell_type": "markdown",
      "source": [
        "beer_servingの列は整数になっているが，astypeメソッドを用いて，データ型を浮動小数点数**float**に変えてみよう．"
      ]
    },
    {
      "metadata": {
        "colab_type": "code",
        "id": "sT2s6tP9Jyhe",
        "outputId": "4d7a264c-118e-487a-88bc-2e590d927211",
        "colab": {
          "base_uri": "https://localhost:8080/",
          "height": 140
        }
      },
      "cell_type": "code",
      "source": [
        "drinks['beer_servings'] = drinks.beer_servings.astype(float)\n",
        "drinks.dtypes"
      ],
      "execution_count": 0,
      "outputs": [
        {
          "output_type": "execute_result",
          "data": {
            "text/plain": [
              "country                          object\n",
              "beer_servings                   float64\n",
              "spirit_servings                   int64\n",
              "wine_servings                     int64\n",
              "total_litres_of_pure_alcohol    float64\n",
              "continent                        object\n",
              "dtype: object"
            ]
          },
          "metadata": {
            "tags": []
          },
          "execution_count": 26
        }
      ]
    },
    {
      "metadata": {
        "colab_type": "text",
        "id": "4WaSWNtZJyhg"
      },
      "cell_type": "markdown",
      "source": [
        "read_csv関数で読み込むときに，データ型を指定することもできる．\n",
        "\n",
        "引数の**dtype**に列名をキー，データ型を値とした辞書で指定する．"
      ]
    },
    {
      "metadata": {
        "colab_type": "code",
        "id": "WBt_2M3tJyhg",
        "outputId": "20df6268-1ebc-403e-a265-2637ca894e47",
        "colab": {
          "base_uri": "https://localhost:8080/",
          "height": 140
        }
      },
      "cell_type": "code",
      "source": [
        "drinks = pd.read_csv('http://bit.ly/drinksbycountry', dtype={'beer_servings':float, 'spirit_servings':float})\n",
        "drinks.dtypes"
      ],
      "execution_count": 0,
      "outputs": [
        {
          "output_type": "execute_result",
          "data": {
            "text/plain": [
              "country                          object\n",
              "beer_servings                   float64\n",
              "spirit_servings                 float64\n",
              "wine_servings                     int64\n",
              "total_litres_of_pure_alcohol    float64\n",
              "continent                        object\n",
              "dtype: object"
            ]
          },
          "metadata": {
            "tags": []
          },
          "execution_count": 27
        }
      ]
    },
    {
      "metadata": {
        "colab_type": "text",
        "id": "tQAzyhfmJyhi"
      },
      "cell_type": "markdown",
      "source": [
        "データに文字列の操作を行いたいときには，**str**を付加してから，文字列のメソッドを書く．\n",
        "\n",
        "たとえば，国名(country)を大文字に変換したいときには，**str.upper()**とする．\n",
        "\n",
        "데이터 문자열을 수행하려는 경우에는 **str** 를 추가하고 문자열의 방법을 쓴다.\n",
        "\n",
        "예를 들어, 국가 (country)를 대문자로 변환 할 때 **str.upper ()** 한다."
      ]
    },
    {
      "metadata": {
        "colab_type": "code",
        "id": "AcsOgQpqJyhj",
        "outputId": "3bf32693-6edc-4f79-ab47-c28ef65f1dc1",
        "colab": {
          "base_uri": "https://localhost:8080/",
          "height": 195
        }
      },
      "cell_type": "code",
      "source": [
        "drinks['country'] = drinks.country.str.upper()\n",
        "drinks.head()"
      ],
      "execution_count": 0,
      "outputs": [
        {
          "output_type": "execute_result",
          "data": {
            "text/html": [
              "<div>\n",
              "<style scoped>\n",
              "    .dataframe tbody tr th:only-of-type {\n",
              "        vertical-align: middle;\n",
              "    }\n",
              "\n",
              "    .dataframe tbody tr th {\n",
              "        vertical-align: top;\n",
              "    }\n",
              "\n",
              "    .dataframe thead th {\n",
              "        text-align: right;\n",
              "    }\n",
              "</style>\n",
              "<table border=\"1\" class=\"dataframe\">\n",
              "  <thead>\n",
              "    <tr style=\"text-align: right;\">\n",
              "      <th></th>\n",
              "      <th>country</th>\n",
              "      <th>beer_servings</th>\n",
              "      <th>spirit_servings</th>\n",
              "      <th>wine_servings</th>\n",
              "      <th>total_litres_of_pure_alcohol</th>\n",
              "      <th>continent</th>\n",
              "    </tr>\n",
              "  </thead>\n",
              "  <tbody>\n",
              "    <tr>\n",
              "      <th>0</th>\n",
              "      <td>AFGHANISTAN</td>\n",
              "      <td>0.0</td>\n",
              "      <td>0.0</td>\n",
              "      <td>0</td>\n",
              "      <td>0.0</td>\n",
              "      <td>Asia</td>\n",
              "    </tr>\n",
              "    <tr>\n",
              "      <th>1</th>\n",
              "      <td>ALBANIA</td>\n",
              "      <td>89.0</td>\n",
              "      <td>132.0</td>\n",
              "      <td>54</td>\n",
              "      <td>4.9</td>\n",
              "      <td>Europe</td>\n",
              "    </tr>\n",
              "    <tr>\n",
              "      <th>2</th>\n",
              "      <td>ALGERIA</td>\n",
              "      <td>25.0</td>\n",
              "      <td>0.0</td>\n",
              "      <td>14</td>\n",
              "      <td>0.7</td>\n",
              "      <td>Africa</td>\n",
              "    </tr>\n",
              "    <tr>\n",
              "      <th>3</th>\n",
              "      <td>ANDORRA</td>\n",
              "      <td>245.0</td>\n",
              "      <td>138.0</td>\n",
              "      <td>312</td>\n",
              "      <td>12.4</td>\n",
              "      <td>Europe</td>\n",
              "    </tr>\n",
              "    <tr>\n",
              "      <th>4</th>\n",
              "      <td>ANGOLA</td>\n",
              "      <td>217.0</td>\n",
              "      <td>57.0</td>\n",
              "      <td>45</td>\n",
              "      <td>5.9</td>\n",
              "      <td>Africa</td>\n",
              "    </tr>\n",
              "  </tbody>\n",
              "</table>\n",
              "</div>"
            ],
            "text/plain": [
              "       country  beer_servings  spirit_servings  wine_servings  \\\n",
              "0  AFGHANISTAN            0.0              0.0              0   \n",
              "1      ALBANIA           89.0            132.0             54   \n",
              "2      ALGERIA           25.0              0.0             14   \n",
              "3      ANDORRA          245.0            138.0            312   \n",
              "4       ANGOLA          217.0             57.0             45   \n",
              "\n",
              "   total_litres_of_pure_alcohol continent  \n",
              "0                           0.0      Asia  \n",
              "1                           4.9    Europe  \n",
              "2                           0.7    Africa  \n",
              "3                          12.4    Europe  \n",
              "4                           5.9    Africa  "
            ]
          },
          "metadata": {
            "tags": []
          },
          "execution_count": 28
        }
      ]
    },
    {
      "metadata": {
        "colab_type": "text",
        "id": "VYniXbNlJyhl"
      },
      "cell_type": "markdown",
      "source": [
        "### 問題\n",
        "\n",
        "1. 国別の飲酒量のデータdrinks.csvを，すべての数値を浮動小数点数として読み込め．\n",
        "2. 国別の飲酒量のデータdrinks.csvを読み込み，大陸列にある'Asia'を'アジア'に置換せよ．\n",
        "（ヒント：文字列の置換はreplaceメソッドを用いる．）\n",
        "\n"
      ]
    },
    {
      "metadata": {
        "colab_type": "code",
        "id": "MWVz7kEQJyhl",
        "colab": {}
      },
      "cell_type": "code",
      "source": [
        ""
      ],
      "execution_count": 0,
      "outputs": []
    },
    {
      "metadata": {
        "colab_type": "text",
        "id": "c-Lm-km0Jyho"
      },
      "cell_type": "markdown",
      "source": [
        "# 日付時刻型 datetime の使用法\n",
        "\n",
        "日付や時刻は**datetime**オブジェクトとして管理すると楽だ．\n",
        "\n",
        "まずは未確認飛行物体のデータufoを読み込んでTime列のデータ型を確認してみよう．\n",
        "\n",
        "データ型のチェックは，上で学んだように**dtypes属性**をみればよい．\n",
        "\n",
        "# 날짜 시간 형식 datetime 사용법\n",
        "\n",
        "날짜와 시간은 **datetime** 개체로 관리하면 편하다.\n",
        "\n",
        "우선 미확인 비행 물체의 데이터 ufo를로드 Time 열의 데이터 형식을 확인 해보자.\n",
        "\n",
        "데이터 유형 확인은 위에서 살펴 보았 듯이 **dtypes 속성** 를 보면된다."
      ]
    },
    {
      "metadata": {
        "colab_type": "code",
        "id": "WaoKBtYTJyho",
        "outputId": "b8c66ab0-881b-4959-eefb-70112f96052f",
        "colab": {
          "base_uri": "https://localhost:8080/",
          "height": 140
        }
      },
      "cell_type": "code",
      "source": [
        "ufo = pd.read_csv('http://logopt.com/data/ufo.csv')\n",
        "ufo.dtypes"
      ],
      "execution_count": 0,
      "outputs": [
        {
          "output_type": "execute_result",
          "data": {
            "text/plain": [
              "Unnamed: 0          int64\n",
              "City               object\n",
              "Colors Reported    object\n",
              "Shape Reported     object\n",
              "State              object\n",
              "Time               object\n",
              "dtype: object"
            ]
          },
          "metadata": {
            "tags": []
          },
          "execution_count": 29
        }
      ]
    },
    {
      "metadata": {
        "colab_type": "text",
        "collapsed": true,
        "id": "hM8HNx0xJyhq"
      },
      "cell_type": "markdown",
      "source": [
        "Time列のデータ型は一般の object となっているようだ．\n",
        "\n",
        "これを日付時刻型 datetime に変換するには，pandasの**pd.to_datetime関数**を用いる．\n",
        "\n",
        "変換した列を新たに DateTime 列に保管しておく．\n",
        "\n",
        "Time 열의 데이터 형식은 일반 object가되고있는 것 같다.\n",
        "\n",
        "이 시각 형 datetime으로 변환하려면 pandas의 **pd.to_datetime 함수** 를 사용한다.\n",
        "\n",
        "변환 된 열을 새롭게 DateTime 열에 보관 해 둔다."
      ]
    },
    {
      "metadata": {
        "colab_type": "code",
        "id": "AhOmRDcMJyhq",
        "outputId": "2bb7bb01-61e2-4fd4-dd9a-35c13931c1f4",
        "colab": {
          "base_uri": "https://localhost:8080/",
          "height": 195
        }
      },
      "cell_type": "code",
      "source": [
        "ufo['DateTime'] = pd.to_datetime(ufo.Time) \n",
        "ufo.head()"
      ],
      "execution_count": 0,
      "outputs": [
        {
          "output_type": "execute_result",
          "data": {
            "text/html": [
              "<div>\n",
              "<style scoped>\n",
              "    .dataframe tbody tr th:only-of-type {\n",
              "        vertical-align: middle;\n",
              "    }\n",
              "\n",
              "    .dataframe tbody tr th {\n",
              "        vertical-align: top;\n",
              "    }\n",
              "\n",
              "    .dataframe thead th {\n",
              "        text-align: right;\n",
              "    }\n",
              "</style>\n",
              "<table border=\"1\" class=\"dataframe\">\n",
              "  <thead>\n",
              "    <tr style=\"text-align: right;\">\n",
              "      <th></th>\n",
              "      <th>Unnamed: 0</th>\n",
              "      <th>City</th>\n",
              "      <th>Colors Reported</th>\n",
              "      <th>Shape Reported</th>\n",
              "      <th>State</th>\n",
              "      <th>Time</th>\n",
              "      <th>DateTime</th>\n",
              "    </tr>\n",
              "  </thead>\n",
              "  <tbody>\n",
              "    <tr>\n",
              "      <th>0</th>\n",
              "      <td>0</td>\n",
              "      <td>Ithaca</td>\n",
              "      <td>NaN</td>\n",
              "      <td>TRIANGLE</td>\n",
              "      <td>NY</td>\n",
              "      <td>6/1/1930 22:00</td>\n",
              "      <td>1930-06-01 22:00:00</td>\n",
              "    </tr>\n",
              "    <tr>\n",
              "      <th>1</th>\n",
              "      <td>1</td>\n",
              "      <td>Willingboro</td>\n",
              "      <td>NaN</td>\n",
              "      <td>OTHER</td>\n",
              "      <td>NJ</td>\n",
              "      <td>6/30/1930 20:00</td>\n",
              "      <td>1930-06-30 20:00:00</td>\n",
              "    </tr>\n",
              "    <tr>\n",
              "      <th>2</th>\n",
              "      <td>2</td>\n",
              "      <td>Holyoke</td>\n",
              "      <td>NaN</td>\n",
              "      <td>OVAL</td>\n",
              "      <td>CO</td>\n",
              "      <td>2/15/1931 14:00</td>\n",
              "      <td>1931-02-15 14:00:00</td>\n",
              "    </tr>\n",
              "    <tr>\n",
              "      <th>3</th>\n",
              "      <td>3</td>\n",
              "      <td>Abilene</td>\n",
              "      <td>NaN</td>\n",
              "      <td>DISK</td>\n",
              "      <td>KS</td>\n",
              "      <td>6/1/1931 13:00</td>\n",
              "      <td>1931-06-01 13:00:00</td>\n",
              "    </tr>\n",
              "    <tr>\n",
              "      <th>4</th>\n",
              "      <td>4</td>\n",
              "      <td>New York Worlds Fair</td>\n",
              "      <td>NaN</td>\n",
              "      <td>LIGHT</td>\n",
              "      <td>NY</td>\n",
              "      <td>4/18/1933 19:00</td>\n",
              "      <td>1933-04-18 19:00:00</td>\n",
              "    </tr>\n",
              "  </tbody>\n",
              "</table>\n",
              "</div>"
            ],
            "text/plain": [
              "   Unnamed: 0                  City Colors Reported Shape Reported State  \\\n",
              "0           0                Ithaca             NaN       TRIANGLE    NY   \n",
              "1           1           Willingboro             NaN          OTHER    NJ   \n",
              "2           2               Holyoke             NaN           OVAL    CO   \n",
              "3           3               Abilene             NaN           DISK    KS   \n",
              "4           4  New York Worlds Fair             NaN          LIGHT    NY   \n",
              "\n",
              "              Time            DateTime  \n",
              "0   6/1/1930 22:00 1930-06-01 22:00:00  \n",
              "1  6/30/1930 20:00 1930-06-30 20:00:00  \n",
              "2  2/15/1931 14:00 1931-02-15 14:00:00  \n",
              "3   6/1/1931 13:00 1931-06-01 13:00:00  \n",
              "4  4/18/1933 19:00 1933-04-18 19:00:00  "
            ]
          },
          "metadata": {
            "tags": []
          },
          "execution_count": 30
        }
      ]
    },
    {
      "metadata": {
        "colab_type": "code",
        "id": "njc3R_meJyhs",
        "outputId": "b8c728e6-66b2-4076-f5d5-0e5be7ddce21",
        "colab": {
          "base_uri": "https://localhost:8080/",
          "height": 158
        }
      },
      "cell_type": "code",
      "source": [
        "ufo.dtypes #データ型を確認"
      ],
      "execution_count": 0,
      "outputs": [
        {
          "output_type": "execute_result",
          "data": {
            "text/plain": [
              "Unnamed: 0                  int64\n",
              "City                       object\n",
              "Colors Reported            object\n",
              "Shape Reported             object\n",
              "State                      object\n",
              "Time                       object\n",
              "DateTime           datetime64[ns]\n",
              "dtype: object"
            ]
          },
          "metadata": {
            "tags": []
          },
          "execution_count": 31
        }
      ]
    },
    {
      "metadata": {
        "colab_type": "code",
        "id": "FLHzJfayJyhw",
        "outputId": "d381d904-7d95-446f-becf-e87ed2e4168c",
        "colab": {
          "base_uri": "https://localhost:8080/",
          "height": 34
        }
      },
      "cell_type": "code",
      "source": [
        "# 日付時刻列の最大値と最小値の差を計算（結果は timedelta 型）し，それを日に換算して表示\n",
        "time_delta = ufo.DateTime.max() - ufo.DateTime.min()\n",
        "time_delta.days"
      ],
      "execution_count": 0,
      "outputs": [
        {
          "output_type": "execute_result",
          "data": {
            "text/plain": [
              "25781"
            ]
          },
          "metadata": {
            "tags": []
          },
          "execution_count": 32
        }
      ]
    },
    {
      "metadata": {
        "colab_type": "text",
        "id": "nIQEkP2dJyhx"
      },
      "cell_type": "markdown",
      "source": [
        "### 　問題\n",
        "\n",
        "* 未確認飛行物体のデータufoに対して，日付時刻列 DateTime から年を抽出した列　Year を生成せよ．\n",
        "（ヒント：日付時刻型のから年を計算するには，** dt.year**とすればよい．）\n",
        "\n",
        "* 未確認飛行物体のデータufoに対して，日付時刻列 DateTime から曜日を抽出した列 WeekDay を生成せよ．\n",
        "（ヒント：日付時刻型のから曜日を求めるには**dt.weekday**とすればよい．）\n",
        "\n",
        "* 未確認飛行物体のデータufoに対して，2000年以降のデータだけを抽出せよ．\n",
        "（ヒント：2000年ちょうどの日付時刻は ** ts = pd.to_datetime('1/1/2000')** で得られる．）"
      ]
    },
    {
      "metadata": {
        "colab_type": "code",
        "id": "Ll-irfr7Jyhy",
        "colab": {}
      },
      "cell_type": "code",
      "source": [
        ""
      ],
      "execution_count": 0,
      "outputs": []
    },
    {
      "metadata": {
        "colab_type": "text",
        "id": "b6XVXmDaJyh1"
      },
      "cell_type": "markdown",
      "source": [
        "# データフレームの生成法\n",
        "\n",
        "ここでは，他のPythonオブジェクトからデータフレームやシリーズを生成する方法について述べる．\n",
        "\n",
        "もっと簡単なのは，辞書から生成する方法である．\n",
        "\n",
        "辞書のキーが列名：リストとして与えた値が行になる．\n"
      ]
    },
    {
      "metadata": {
        "colab_type": "code",
        "id": "QuXOSLVVJyh2",
        "outputId": "9bc38033-3805-4b28-9665-17931b8ec39a",
        "colab": {
          "base_uri": "https://localhost:8080/",
          "height": 136
        }
      },
      "cell_type": "code",
      "source": [
        "D = {'name':['Pikacyu', 'Mickey', 'Kitty'], 'color':['Yellow', 'Black', 'White']}\n",
        "pd.DataFrame(D)"
      ],
      "execution_count": 0,
      "outputs": [
        {
          "output_type": "execute_result",
          "data": {
            "text/html": [
              "<div>\n",
              "<style scoped>\n",
              "    .dataframe tbody tr th:only-of-type {\n",
              "        vertical-align: middle;\n",
              "    }\n",
              "\n",
              "    .dataframe tbody tr th {\n",
              "        vertical-align: top;\n",
              "    }\n",
              "\n",
              "    .dataframe thead th {\n",
              "        text-align: right;\n",
              "    }\n",
              "</style>\n",
              "<table border=\"1\" class=\"dataframe\">\n",
              "  <thead>\n",
              "    <tr style=\"text-align: right;\">\n",
              "      <th></th>\n",
              "      <th>color</th>\n",
              "      <th>name</th>\n",
              "    </tr>\n",
              "  </thead>\n",
              "  <tbody>\n",
              "    <tr>\n",
              "      <th>0</th>\n",
              "      <td>Yellow</td>\n",
              "      <td>Pikacyu</td>\n",
              "    </tr>\n",
              "    <tr>\n",
              "      <th>1</th>\n",
              "      <td>Black</td>\n",
              "      <td>Mickey</td>\n",
              "    </tr>\n",
              "    <tr>\n",
              "      <th>2</th>\n",
              "      <td>White</td>\n",
              "      <td>Kitty</td>\n",
              "    </tr>\n",
              "  </tbody>\n",
              "</table>\n",
              "</div>"
            ],
            "text/plain": [
              "    color     name\n",
              "0  Yellow  Pikacyu\n",
              "1   Black   Mickey\n",
              "2   White    Kitty"
            ]
          },
          "metadata": {
            "tags": []
          },
          "execution_count": 33
        }
      ]
    },
    {
      "metadata": {
        "colab_type": "text",
        "id": "9LjV5LwjJyh3"
      },
      "cell_type": "markdown",
      "source": [
        "リストのリスト（入れ子のリスト）として与えることもできるが，列名は別途**columns**で与える必要がある．"
      ]
    },
    {
      "metadata": {
        "colab_type": "code",
        "id": "eRvDTyJIJyh4",
        "outputId": "11385d3d-827e-4462-ca6e-eeee29b6e6dd",
        "colab": {
          "base_uri": "https://localhost:8080/",
          "height": 136
        }
      },
      "cell_type": "code",
      "source": [
        "L = [ ['Pikacyu', 'Yellow'], ['Mickey', 'Black'], ['Kitty', 'White']]\n",
        "pd.DataFrame(L, columns=['name','color'])"
      ],
      "execution_count": 0,
      "outputs": [
        {
          "output_type": "execute_result",
          "data": {
            "text/html": [
              "<div>\n",
              "<style scoped>\n",
              "    .dataframe tbody tr th:only-of-type {\n",
              "        vertical-align: middle;\n",
              "    }\n",
              "\n",
              "    .dataframe tbody tr th {\n",
              "        vertical-align: top;\n",
              "    }\n",
              "\n",
              "    .dataframe thead th {\n",
              "        text-align: right;\n",
              "    }\n",
              "</style>\n",
              "<table border=\"1\" class=\"dataframe\">\n",
              "  <thead>\n",
              "    <tr style=\"text-align: right;\">\n",
              "      <th></th>\n",
              "      <th>name</th>\n",
              "      <th>color</th>\n",
              "    </tr>\n",
              "  </thead>\n",
              "  <tbody>\n",
              "    <tr>\n",
              "      <th>0</th>\n",
              "      <td>Pikacyu</td>\n",
              "      <td>Yellow</td>\n",
              "    </tr>\n",
              "    <tr>\n",
              "      <th>1</th>\n",
              "      <td>Mickey</td>\n",
              "      <td>Black</td>\n",
              "    </tr>\n",
              "    <tr>\n",
              "      <th>2</th>\n",
              "      <td>Kitty</td>\n",
              "      <td>White</td>\n",
              "    </tr>\n",
              "  </tbody>\n",
              "</table>\n",
              "</div>"
            ],
            "text/plain": [
              "      name   color\n",
              "0  Pikacyu  Yellow\n",
              "1   Mickey   Black\n",
              "2    Kitty   White"
            ]
          },
          "metadata": {
            "tags": []
          },
          "execution_count": 34
        }
      ]
    },
    {
      "metadata": {
        "colab_type": "text",
        "id": "odH8BRluJyh6"
      },
      "cell_type": "markdown",
      "source": [
        "NumPyの配列からもデータフレームを生成できる．\n",
        "\n",
        "例として2つのサイコロを5回づつ振ったときの目をランダムに生成した配列に代入し，そこからデータフレームを生成する．"
      ]
    },
    {
      "metadata": {
        "colab_type": "code",
        "id": "haYhXRpeJyh6",
        "outputId": "4ded25ef-18ea-42c7-b794-21315b800da1",
        "colab": {
          "base_uri": "https://localhost:8080/",
          "height": 195
        }
      },
      "cell_type": "code",
      "source": [
        "import numpy as np\n",
        "Dice = np.random.randint(1,7, size=(5,2)) # 引数の（low, high）はhighを含まないことに注意\n",
        "dicedf = pd.DataFrame(Dice, columns=[ 'dice1', 'dice2'] )\n",
        "dicedf"
      ],
      "execution_count": 0,
      "outputs": [
        {
          "output_type": "execute_result",
          "data": {
            "text/html": [
              "<div>\n",
              "<style scoped>\n",
              "    .dataframe tbody tr th:only-of-type {\n",
              "        vertical-align: middle;\n",
              "    }\n",
              "\n",
              "    .dataframe tbody tr th {\n",
              "        vertical-align: top;\n",
              "    }\n",
              "\n",
              "    .dataframe thead th {\n",
              "        text-align: right;\n",
              "    }\n",
              "</style>\n",
              "<table border=\"1\" class=\"dataframe\">\n",
              "  <thead>\n",
              "    <tr style=\"text-align: right;\">\n",
              "      <th></th>\n",
              "      <th>dice1</th>\n",
              "      <th>dice2</th>\n",
              "    </tr>\n",
              "  </thead>\n",
              "  <tbody>\n",
              "    <tr>\n",
              "      <th>0</th>\n",
              "      <td>3</td>\n",
              "      <td>1</td>\n",
              "    </tr>\n",
              "    <tr>\n",
              "      <th>1</th>\n",
              "      <td>3</td>\n",
              "      <td>2</td>\n",
              "    </tr>\n",
              "    <tr>\n",
              "      <th>2</th>\n",
              "      <td>1</td>\n",
              "      <td>1</td>\n",
              "    </tr>\n",
              "    <tr>\n",
              "      <th>3</th>\n",
              "      <td>3</td>\n",
              "      <td>4</td>\n",
              "    </tr>\n",
              "    <tr>\n",
              "      <th>4</th>\n",
              "      <td>2</td>\n",
              "      <td>1</td>\n",
              "    </tr>\n",
              "  </tbody>\n",
              "</table>\n",
              "</div>"
            ],
            "text/plain": [
              "   dice1  dice2\n",
              "0      3      1\n",
              "1      3      2\n",
              "2      1      1\n",
              "3      3      4\n",
              "4      2      1"
            ]
          },
          "metadata": {
            "tags": []
          },
          "execution_count": 35
        }
      ]
    },
    {
      "metadata": {
        "colab_type": "text",
        "id": "zy2i6WQQJyh9"
      },
      "cell_type": "markdown",
      "source": [
        "同様に，コインを5回投げたときの表裏を0,1で表した配列を生成する．"
      ]
    },
    {
      "metadata": {
        "colab_type": "code",
        "id": "ockNnCp2Jyh9",
        "outputId": "a4f9dfc3-1e4e-46a8-bd10-8977474f67db",
        "colab": {
          "base_uri": "https://localhost:8080/",
          "height": 195
        }
      },
      "cell_type": "code",
      "source": [
        "Coin = np.random.randint(0,2, size=(5,2)) # 引数の（low, high）はhighを含まないことに注意\n",
        "coindf = pd.DataFrame(Coin, columns=[ 'coin1', 'coin2'] )\n",
        "coindf"
      ],
      "execution_count": 0,
      "outputs": [
        {
          "output_type": "execute_result",
          "data": {
            "text/html": [
              "<div>\n",
              "<style scoped>\n",
              "    .dataframe tbody tr th:only-of-type {\n",
              "        vertical-align: middle;\n",
              "    }\n",
              "\n",
              "    .dataframe tbody tr th {\n",
              "        vertical-align: top;\n",
              "    }\n",
              "\n",
              "    .dataframe thead th {\n",
              "        text-align: right;\n",
              "    }\n",
              "</style>\n",
              "<table border=\"1\" class=\"dataframe\">\n",
              "  <thead>\n",
              "    <tr style=\"text-align: right;\">\n",
              "      <th></th>\n",
              "      <th>coin1</th>\n",
              "      <th>coin2</th>\n",
              "    </tr>\n",
              "  </thead>\n",
              "  <tbody>\n",
              "    <tr>\n",
              "      <th>0</th>\n",
              "      <td>1</td>\n",
              "      <td>0</td>\n",
              "    </tr>\n",
              "    <tr>\n",
              "      <th>1</th>\n",
              "      <td>1</td>\n",
              "      <td>1</td>\n",
              "    </tr>\n",
              "    <tr>\n",
              "      <th>2</th>\n",
              "      <td>0</td>\n",
              "      <td>0</td>\n",
              "    </tr>\n",
              "    <tr>\n",
              "      <th>3</th>\n",
              "      <td>1</td>\n",
              "      <td>1</td>\n",
              "    </tr>\n",
              "    <tr>\n",
              "      <th>4</th>\n",
              "      <td>0</td>\n",
              "      <td>0</td>\n",
              "    </tr>\n",
              "  </tbody>\n",
              "</table>\n",
              "</div>"
            ],
            "text/plain": [
              "   coin1  coin2\n",
              "0      1      0\n",
              "1      1      1\n",
              "2      0      0\n",
              "3      1      1\n",
              "4      0      0"
            ]
          },
          "metadata": {
            "tags": []
          },
          "execution_count": 36
        }
      ]
    },
    {
      "metadata": {
        "colab_type": "text",
        "id": "Rm-S2jAoJyiA"
      },
      "cell_type": "markdown",
      "source": [
        "2つのデータフレームを**concat**を用いて合体させる．列方向で合併したいので，**axis=1**と設定する．"
      ]
    },
    {
      "metadata": {
        "colab_type": "code",
        "id": "WjvDaEqzJyiA",
        "outputId": "84963af9-79ed-4e0a-90d1-796e82ab8c41",
        "colab": {
          "base_uri": "https://localhost:8080/",
          "height": 195
        }
      },
      "cell_type": "code",
      "source": [
        "pd.concat( [dicedf, coindf], axis =1 )"
      ],
      "execution_count": 0,
      "outputs": [
        {
          "output_type": "execute_result",
          "data": {
            "text/html": [
              "<div>\n",
              "<style scoped>\n",
              "    .dataframe tbody tr th:only-of-type {\n",
              "        vertical-align: middle;\n",
              "    }\n",
              "\n",
              "    .dataframe tbody tr th {\n",
              "        vertical-align: top;\n",
              "    }\n",
              "\n",
              "    .dataframe thead th {\n",
              "        text-align: right;\n",
              "    }\n",
              "</style>\n",
              "<table border=\"1\" class=\"dataframe\">\n",
              "  <thead>\n",
              "    <tr style=\"text-align: right;\">\n",
              "      <th></th>\n",
              "      <th>dice1</th>\n",
              "      <th>dice2</th>\n",
              "      <th>coin1</th>\n",
              "      <th>coin2</th>\n",
              "    </tr>\n",
              "  </thead>\n",
              "  <tbody>\n",
              "    <tr>\n",
              "      <th>0</th>\n",
              "      <td>3</td>\n",
              "      <td>1</td>\n",
              "      <td>1</td>\n",
              "      <td>0</td>\n",
              "    </tr>\n",
              "    <tr>\n",
              "      <th>1</th>\n",
              "      <td>3</td>\n",
              "      <td>2</td>\n",
              "      <td>1</td>\n",
              "      <td>1</td>\n",
              "    </tr>\n",
              "    <tr>\n",
              "      <th>2</th>\n",
              "      <td>1</td>\n",
              "      <td>1</td>\n",
              "      <td>0</td>\n",
              "      <td>0</td>\n",
              "    </tr>\n",
              "    <tr>\n",
              "      <th>3</th>\n",
              "      <td>3</td>\n",
              "      <td>4</td>\n",
              "      <td>1</td>\n",
              "      <td>1</td>\n",
              "    </tr>\n",
              "    <tr>\n",
              "      <th>4</th>\n",
              "      <td>2</td>\n",
              "      <td>1</td>\n",
              "      <td>0</td>\n",
              "      <td>0</td>\n",
              "    </tr>\n",
              "  </tbody>\n",
              "</table>\n",
              "</div>"
            ],
            "text/plain": [
              "   dice1  dice2  coin1  coin2\n",
              "0      3      1      1      0\n",
              "1      3      2      1      1\n",
              "2      1      1      0      0\n",
              "3      3      4      1      1\n",
              "4      2      1      0      0"
            ]
          },
          "metadata": {
            "tags": []
          },
          "execution_count": 37
        }
      ]
    },
    {
      "metadata": {
        "colab_type": "text",
        "collapsed": true,
        "id": "5D4TdMlWJyiD"
      },
      "cell_type": "markdown",
      "source": [
        "#  ピボットテーブル\n",
        "\n",
        "ビデオゲームのセールスデータ\"http://logopt.com/data/vgsales.csv\" をピボットテーブルを用いて集計する．\n",
        "\n",
        "pandasの**pivot_table**関数は，引数としてデータフレーム，集計する値(values)，行（index），列(columns），集計関数(aggfunc)を与えると，ピボットテーブルを返す．\n",
        "\n",
        "例としてビデオゲームのデータに対して，行を年('Year')，列をジャンル('Genre')とし，世界中での売り上げ('Global_Sales')を合計（'sum')したピボットテーブルを生成する．\n",
        "\n",
        "集計の方法は引数**aggfunc**で与える．規定値はNumPyの**mean**（平均）である．\n",
        "\n",
        "\n",
        "# 피벗 테이블\n",
        "\n",
        "비디오 게임의 판매 데이터 \"http://logopt.com/data/vgsales.csv\"피벗 테이블을 사용하여 집계한다.\n",
        "\n",
        "pandas의 **pivot_table** 함수는 인수로 데이터 프레임 집계 값 (values), 행 (index), 열 (columns) 집계 함수 (aggfunc)를 제공 피벗 테이블을 돌려 준다.\n",
        "\n",
        "예를 들어 비디오 게임 데이터에 대한 행을 해 ( 'Year') 열을 장르 ( 'Genre')로, 전세계 매출 ( 'Global_Sales')를 총 ( 'sum') 피벗 테이블을 생성한다.\n",
        "\n",
        "집계 방법은 인수 **aggfunc** 에서 제공합니다. 기본값은 NumPy의 **mean** (평균)이다.\n"
      ]
    },
    {
      "metadata": {
        "colab_type": "code",
        "id": "51sMR1v-JyiD",
        "outputId": "c1e48c29-44e8-476f-8872-fcc1e85f6e09",
        "colab": {
          "base_uri": "https://localhost:8080/",
          "height": 195
        }
      },
      "cell_type": "code",
      "source": [
        "import pandas as pd\n",
        "sales = pd.read_csv(\"http://logopt.com/data/vgsales.csv\")\n",
        "sales.head()"
      ],
      "execution_count": 0,
      "outputs": [
        {
          "output_type": "execute_result",
          "data": {
            "text/html": [
              "<div>\n",
              "<style scoped>\n",
              "    .dataframe tbody tr th:only-of-type {\n",
              "        vertical-align: middle;\n",
              "    }\n",
              "\n",
              "    .dataframe tbody tr th {\n",
              "        vertical-align: top;\n",
              "    }\n",
              "\n",
              "    .dataframe thead th {\n",
              "        text-align: right;\n",
              "    }\n",
              "</style>\n",
              "<table border=\"1\" class=\"dataframe\">\n",
              "  <thead>\n",
              "    <tr style=\"text-align: right;\">\n",
              "      <th></th>\n",
              "      <th>Rank</th>\n",
              "      <th>Name</th>\n",
              "      <th>Platform</th>\n",
              "      <th>Year</th>\n",
              "      <th>Genre</th>\n",
              "      <th>Publisher</th>\n",
              "      <th>NA_Sales</th>\n",
              "      <th>EU_Sales</th>\n",
              "      <th>JP_Sales</th>\n",
              "      <th>Other_Sales</th>\n",
              "      <th>Global_Sales</th>\n",
              "    </tr>\n",
              "  </thead>\n",
              "  <tbody>\n",
              "    <tr>\n",
              "      <th>0</th>\n",
              "      <td>1</td>\n",
              "      <td>Wii Sports</td>\n",
              "      <td>Wii</td>\n",
              "      <td>2006.0</td>\n",
              "      <td>Sports</td>\n",
              "      <td>Nintendo</td>\n",
              "      <td>41.49</td>\n",
              "      <td>29.02</td>\n",
              "      <td>3.77</td>\n",
              "      <td>8.46</td>\n",
              "      <td>82.74</td>\n",
              "    </tr>\n",
              "    <tr>\n",
              "      <th>1</th>\n",
              "      <td>2</td>\n",
              "      <td>Super Mario Bros.</td>\n",
              "      <td>NES</td>\n",
              "      <td>1985.0</td>\n",
              "      <td>Platform</td>\n",
              "      <td>Nintendo</td>\n",
              "      <td>29.08</td>\n",
              "      <td>3.58</td>\n",
              "      <td>6.81</td>\n",
              "      <td>0.77</td>\n",
              "      <td>40.24</td>\n",
              "    </tr>\n",
              "    <tr>\n",
              "      <th>2</th>\n",
              "      <td>3</td>\n",
              "      <td>Mario Kart Wii</td>\n",
              "      <td>Wii</td>\n",
              "      <td>2008.0</td>\n",
              "      <td>Racing</td>\n",
              "      <td>Nintendo</td>\n",
              "      <td>15.85</td>\n",
              "      <td>12.88</td>\n",
              "      <td>3.79</td>\n",
              "      <td>3.31</td>\n",
              "      <td>35.82</td>\n",
              "    </tr>\n",
              "    <tr>\n",
              "      <th>3</th>\n",
              "      <td>4</td>\n",
              "      <td>Wii Sports Resort</td>\n",
              "      <td>Wii</td>\n",
              "      <td>2009.0</td>\n",
              "      <td>Sports</td>\n",
              "      <td>Nintendo</td>\n",
              "      <td>15.75</td>\n",
              "      <td>11.01</td>\n",
              "      <td>3.28</td>\n",
              "      <td>2.96</td>\n",
              "      <td>33.00</td>\n",
              "    </tr>\n",
              "    <tr>\n",
              "      <th>4</th>\n",
              "      <td>5</td>\n",
              "      <td>Pokemon Red/Pokemon Blue</td>\n",
              "      <td>GB</td>\n",
              "      <td>1996.0</td>\n",
              "      <td>Role-Playing</td>\n",
              "      <td>Nintendo</td>\n",
              "      <td>11.27</td>\n",
              "      <td>8.89</td>\n",
              "      <td>10.22</td>\n",
              "      <td>1.00</td>\n",
              "      <td>31.37</td>\n",
              "    </tr>\n",
              "  </tbody>\n",
              "</table>\n",
              "</div>"
            ],
            "text/plain": [
              "   Rank                      Name Platform    Year         Genre Publisher  \\\n",
              "0     1                Wii Sports      Wii  2006.0        Sports  Nintendo   \n",
              "1     2         Super Mario Bros.      NES  1985.0      Platform  Nintendo   \n",
              "2     3            Mario Kart Wii      Wii  2008.0        Racing  Nintendo   \n",
              "3     4         Wii Sports Resort      Wii  2009.0        Sports  Nintendo   \n",
              "4     5  Pokemon Red/Pokemon Blue       GB  1996.0  Role-Playing  Nintendo   \n",
              "\n",
              "   NA_Sales  EU_Sales  JP_Sales  Other_Sales  Global_Sales  \n",
              "0     41.49     29.02      3.77         8.46         82.74  \n",
              "1     29.08      3.58      6.81         0.77         40.24  \n",
              "2     15.85     12.88      3.79         3.31         35.82  \n",
              "3     15.75     11.01      3.28         2.96         33.00  \n",
              "4     11.27      8.89     10.22         1.00         31.37  "
            ]
          },
          "metadata": {
            "tags": []
          },
          "execution_count": 38
        }
      ]
    },
    {
      "metadata": {
        "colab_type": "code",
        "id": "NNeYyeNTJyiF",
        "outputId": "00ab118f-7532-421f-ca5b-02918a42ab67",
        "colab": {
          "base_uri": "https://localhost:8080/",
          "height": 225
        }
      },
      "cell_type": "code",
      "source": [
        "pivot = pd.pivot_table(sales, values=\"Global_Sales\",index=\"Year\", columns=\"Genre\", aggfunc=\"sum\")\n",
        "pivot.head() # ピボットテーブル自身がデータフレームオブジェクトなので，最初の5行だけ表示するにはheadメソッドが使える．"
      ],
      "execution_count": 0,
      "outputs": [
        {
          "output_type": "execute_result",
          "data": {
            "text/html": [
              "<div>\n",
              "<style scoped>\n",
              "    .dataframe tbody tr th:only-of-type {\n",
              "        vertical-align: middle;\n",
              "    }\n",
              "\n",
              "    .dataframe tbody tr th {\n",
              "        vertical-align: top;\n",
              "    }\n",
              "\n",
              "    .dataframe thead th {\n",
              "        text-align: right;\n",
              "    }\n",
              "</style>\n",
              "<table border=\"1\" class=\"dataframe\">\n",
              "  <thead>\n",
              "    <tr style=\"text-align: right;\">\n",
              "      <th>Genre</th>\n",
              "      <th>Action</th>\n",
              "      <th>Adventure</th>\n",
              "      <th>Fighting</th>\n",
              "      <th>Misc</th>\n",
              "      <th>Platform</th>\n",
              "      <th>Puzzle</th>\n",
              "      <th>Racing</th>\n",
              "      <th>Role-Playing</th>\n",
              "      <th>Shooter</th>\n",
              "      <th>Simulation</th>\n",
              "      <th>Sports</th>\n",
              "      <th>Strategy</th>\n",
              "    </tr>\n",
              "    <tr>\n",
              "      <th>Year</th>\n",
              "      <th></th>\n",
              "      <th></th>\n",
              "      <th></th>\n",
              "      <th></th>\n",
              "      <th></th>\n",
              "      <th></th>\n",
              "      <th></th>\n",
              "      <th></th>\n",
              "      <th></th>\n",
              "      <th></th>\n",
              "      <th></th>\n",
              "      <th></th>\n",
              "    </tr>\n",
              "  </thead>\n",
              "  <tbody>\n",
              "    <tr>\n",
              "      <th>1980.0</th>\n",
              "      <td>0.34</td>\n",
              "      <td>NaN</td>\n",
              "      <td>0.77</td>\n",
              "      <td>2.71</td>\n",
              "      <td>NaN</td>\n",
              "      <td>NaN</td>\n",
              "      <td>NaN</td>\n",
              "      <td>NaN</td>\n",
              "      <td>7.07</td>\n",
              "      <td>NaN</td>\n",
              "      <td>0.49</td>\n",
              "      <td>NaN</td>\n",
              "    </tr>\n",
              "    <tr>\n",
              "      <th>1981.0</th>\n",
              "      <td>14.84</td>\n",
              "      <td>NaN</td>\n",
              "      <td>NaN</td>\n",
              "      <td>NaN</td>\n",
              "      <td>6.93</td>\n",
              "      <td>2.24</td>\n",
              "      <td>0.48</td>\n",
              "      <td>NaN</td>\n",
              "      <td>10.04</td>\n",
              "      <td>0.45</td>\n",
              "      <td>0.79</td>\n",
              "      <td>NaN</td>\n",
              "    </tr>\n",
              "    <tr>\n",
              "      <th>1982.0</th>\n",
              "      <td>6.52</td>\n",
              "      <td>NaN</td>\n",
              "      <td>NaN</td>\n",
              "      <td>0.87</td>\n",
              "      <td>5.03</td>\n",
              "      <td>10.03</td>\n",
              "      <td>1.57</td>\n",
              "      <td>NaN</td>\n",
              "      <td>3.79</td>\n",
              "      <td>NaN</td>\n",
              "      <td>1.05</td>\n",
              "      <td>NaN</td>\n",
              "    </tr>\n",
              "    <tr>\n",
              "      <th>1983.0</th>\n",
              "      <td>2.86</td>\n",
              "      <td>0.4</td>\n",
              "      <td>NaN</td>\n",
              "      <td>2.14</td>\n",
              "      <td>6.93</td>\n",
              "      <td>0.78</td>\n",
              "      <td>NaN</td>\n",
              "      <td>NaN</td>\n",
              "      <td>0.48</td>\n",
              "      <td>NaN</td>\n",
              "      <td>3.20</td>\n",
              "      <td>NaN</td>\n",
              "    </tr>\n",
              "    <tr>\n",
              "      <th>1984.0</th>\n",
              "      <td>1.85</td>\n",
              "      <td>NaN</td>\n",
              "      <td>NaN</td>\n",
              "      <td>1.45</td>\n",
              "      <td>0.69</td>\n",
              "      <td>3.14</td>\n",
              "      <td>5.95</td>\n",
              "      <td>NaN</td>\n",
              "      <td>31.10</td>\n",
              "      <td>NaN</td>\n",
              "      <td>6.18</td>\n",
              "      <td>NaN</td>\n",
              "    </tr>\n",
              "  </tbody>\n",
              "</table>\n",
              "</div>"
            ],
            "text/plain": [
              "Genre   Action  Adventure  Fighting  Misc  Platform  Puzzle  Racing  \\\n",
              "Year                                                                  \n",
              "1980.0    0.34        NaN      0.77  2.71       NaN     NaN     NaN   \n",
              "1981.0   14.84        NaN       NaN   NaN      6.93    2.24    0.48   \n",
              "1982.0    6.52        NaN       NaN  0.87      5.03   10.03    1.57   \n",
              "1983.0    2.86        0.4       NaN  2.14      6.93    0.78     NaN   \n",
              "1984.0    1.85        NaN       NaN  1.45      0.69    3.14    5.95   \n",
              "\n",
              "Genre   Role-Playing  Shooter  Simulation  Sports  Strategy  \n",
              "Year                                                         \n",
              "1980.0           NaN     7.07         NaN    0.49       NaN  \n",
              "1981.0           NaN    10.04        0.45    0.79       NaN  \n",
              "1982.0           NaN     3.79         NaN    1.05       NaN  \n",
              "1983.0           NaN     0.48         NaN    3.20       NaN  \n",
              "1984.0           NaN    31.10         NaN    6.18       NaN  "
            ]
          },
          "metadata": {
            "tags": []
          },
          "execution_count": 39
        }
      ]
    },
    {
      "metadata": {
        "colab_type": "code",
        "id": "ZjFd5aUOJyiG",
        "outputId": "e3e5f677-3112-4e03-bb48-5b3cdc033676",
        "colab": {
          "base_uri": "https://localhost:8080/",
          "height": 297
        }
      },
      "cell_type": "code",
      "source": [
        "%matplotlib inline\n",
        "pivot.plot() #ピボットテーブル自身がデータフレームオブジェクトなので，plotメソッドで描画もできる．"
      ],
      "execution_count": 0,
      "outputs": [
        {
          "output_type": "execute_result",
          "data": {
            "text/plain": [
              "<matplotlib.axes._subplots.AxesSubplot at 0x7fcebaf6ba90>"
            ]
          },
          "metadata": {
            "tags": []
          },
          "execution_count": 40
        },
        {
          "output_type": "display_data",
          "data": {
            "image/png": "[encoded data removed]",
            "text/plain": [
              "<matplotlib.figure.Figure at 0x7fcebb3fbf60>"
            ]
          },
          "metadata": {
            "tags": []
          }
        }
      ]
    },
    {
      "metadata": {
        "colab_type": "text",
        "collapsed": true,
        "id": "C9PxaJ0cJyiH"
      },
      "cell_type": "markdown",
      "source": [
        "### 問題\n",
        "\n",
        "ポケモンデータ http://logopt.com/data/Pokemon.csv\" に対して，メインタイプ（'Type 1')と世代('Generation')別の攻撃力（'Attack'）と守備力（'Defence'）の平均を集計せよ．\n",
        "\n",
        "（ヒント：pivot_tableで，集計値に複数の値を設定するには，引数**values**にデータフレームの列名をリストとして与える．）\n"
      ]
    },
    {
      "metadata": {
        "colab_type": "code",
        "id": "HaH7OR2gJyiH",
        "outputId": "d632f9bc-7d9d-4a26-9418-06fa38132ef9",
        "colab": {
          "base_uri": "https://localhost:8080/",
          "height": 225
        }
      },
      "cell_type": "code",
      "source": [
        "import pandas as pd\n",
        "poke = pd.read_csv(\"http://logopt.com/data/Pokemon.csv\",index_col=0)\n",
        "poke.head()"
      ],
      "execution_count": 0,
      "outputs": [
        {
          "output_type": "execute_result",
          "data": {
            "text/html": [
              "<div>\n",
              "<style scoped>\n",
              "    .dataframe tbody tr th:only-of-type {\n",
              "        vertical-align: middle;\n",
              "    }\n",
              "\n",
              "    .dataframe tbody tr th {\n",
              "        vertical-align: top;\n",
              "    }\n",
              "\n",
              "    .dataframe thead th {\n",
              "        text-align: right;\n",
              "    }\n",
              "</style>\n",
              "<table border=\"1\" class=\"dataframe\">\n",
              "  <thead>\n",
              "    <tr style=\"text-align: right;\">\n",
              "      <th></th>\n",
              "      <th>Name</th>\n",
              "      <th>Type 1</th>\n",
              "      <th>Type 2</th>\n",
              "      <th>Total</th>\n",
              "      <th>HP</th>\n",
              "      <th>Attack</th>\n",
              "      <th>Defense</th>\n",
              "      <th>Sp. Atk</th>\n",
              "      <th>Sp. Def</th>\n",
              "      <th>Speed</th>\n",
              "      <th>Generation</th>\n",
              "      <th>Legendary</th>\n",
              "    </tr>\n",
              "    <tr>\n",
              "      <th>#</th>\n",
              "      <th></th>\n",
              "      <th></th>\n",
              "      <th></th>\n",
              "      <th></th>\n",
              "      <th></th>\n",
              "      <th></th>\n",
              "      <th></th>\n",
              "      <th></th>\n",
              "      <th></th>\n",
              "      <th></th>\n",
              "      <th></th>\n",
              "      <th></th>\n",
              "    </tr>\n",
              "  </thead>\n",
              "  <tbody>\n",
              "    <tr>\n",
              "      <th>1</th>\n",
              "      <td>Bulbasaur</td>\n",
              "      <td>Grass</td>\n",
              "      <td>Poison</td>\n",
              "      <td>318</td>\n",
              "      <td>45</td>\n",
              "      <td>49</td>\n",
              "      <td>49</td>\n",
              "      <td>65</td>\n",
              "      <td>65</td>\n",
              "      <td>45</td>\n",
              "      <td>1</td>\n",
              "      <td>False</td>\n",
              "    </tr>\n",
              "    <tr>\n",
              "      <th>2</th>\n",
              "      <td>Ivysaur</td>\n",
              "      <td>Grass</td>\n",
              "      <td>Poison</td>\n",
              "      <td>405</td>\n",
              "      <td>60</td>\n",
              "      <td>62</td>\n",
              "      <td>63</td>\n",
              "      <td>80</td>\n",
              "      <td>80</td>\n",
              "      <td>60</td>\n",
              "      <td>1</td>\n",
              "      <td>False</td>\n",
              "    </tr>\n",
              "    <tr>\n",
              "      <th>3</th>\n",
              "      <td>Venusaur</td>\n",
              "      <td>Grass</td>\n",
              "      <td>Poison</td>\n",
              "      <td>525</td>\n",
              "      <td>80</td>\n",
              "      <td>82</td>\n",
              "      <td>83</td>\n",
              "      <td>100</td>\n",
              "      <td>100</td>\n",
              "      <td>80</td>\n",
              "      <td>1</td>\n",
              "      <td>False</td>\n",
              "    </tr>\n",
              "    <tr>\n",
              "      <th>3</th>\n",
              "      <td>VenusaurMega Venusaur</td>\n",
              "      <td>Grass</td>\n",
              "      <td>Poison</td>\n",
              "      <td>625</td>\n",
              "      <td>80</td>\n",
              "      <td>100</td>\n",
              "      <td>123</td>\n",
              "      <td>122</td>\n",
              "      <td>120</td>\n",
              "      <td>80</td>\n",
              "      <td>1</td>\n",
              "      <td>False</td>\n",
              "    </tr>\n",
              "    <tr>\n",
              "      <th>4</th>\n",
              "      <td>Charmander</td>\n",
              "      <td>Fire</td>\n",
              "      <td>NaN</td>\n",
              "      <td>309</td>\n",
              "      <td>39</td>\n",
              "      <td>52</td>\n",
              "      <td>43</td>\n",
              "      <td>60</td>\n",
              "      <td>50</td>\n",
              "      <td>65</td>\n",
              "      <td>1</td>\n",
              "      <td>False</td>\n",
              "    </tr>\n",
              "  </tbody>\n",
              "</table>\n",
              "</div>"
            ],
            "text/plain": [
              "                    Name Type 1  Type 2  Total  HP  Attack  Defense  Sp. Atk  \\\n",
              "#                                                                              \n",
              "1              Bulbasaur  Grass  Poison    318  45      49       49       65   \n",
              "2                Ivysaur  Grass  Poison    405  60      62       63       80   \n",
              "3               Venusaur  Grass  Poison    525  80      82       83      100   \n",
              "3  VenusaurMega Venusaur  Grass  Poison    625  80     100      123      122   \n",
              "4             Charmander   Fire     NaN    309  39      52       43       60   \n",
              "\n",
              "   Sp. Def  Speed  Generation  Legendary  \n",
              "#                                         \n",
              "1       65     45           1      False  \n",
              "2       80     60           1      False  \n",
              "3      100     80           1      False  \n",
              "3      120     80           1      False  \n",
              "4       50     65           1      False  "
            ]
          },
          "metadata": {
            "tags": []
          },
          "execution_count": 41
        }
      ]
    },
    {
      "metadata": {
        "colab_type": "code",
        "id": "uifMH3YPJyiJ",
        "colab": {}
      },
      "cell_type": "code",
      "source": [
        ""
      ],
      "execution_count": 0,
      "outputs": []
    },
    {
      "metadata": {
        "colab_type": "text",
        "id": "pMmxEi-iJyiL"
      },
      "cell_type": "markdown",
      "source": [
        "### 問題\n",
        "\n",
        "映画のデータ \"http://logopt.com/data/movie_metadata.csv\" に対して，主演俳優の列（'actor_1_name'）がジョニー・デップ（'Johnny Depp'）のものを抽出し，年度（'title_year'）別の予算（'budget'）と興行収入（'gross'）を線グラフで表示せよ．\n",
        "\n",
        "ヒント：行には年度を，列には何も指定しないでピボットテーブルを生成し，plotメソッドでグラフを生成する．"
      ]
    },
    {
      "metadata": {
        "colab_type": "code",
        "id": "cDK72Bf_JyiL",
        "outputId": "503bb182-22ff-49c4-deb1-e5066d30fb83",
        "colab": {
          "base_uri": "https://localhost:8080/",
          "height": 311
        }
      },
      "cell_type": "code",
      "source": [
        "import pandas as pd\n",
        "movie = pd.read_csv(\"http://logopt.com/data/movie_metadata.csv\")\n",
        "movie.head()"
      ],
      "execution_count": 0,
      "outputs": [
        {
          "output_type": "execute_result",
          "data": {
            "text/html": [
              "<div>\n",
              "<style scoped>\n",
              "    .dataframe tbody tr th:only-of-type {\n",
              "        vertical-align: middle;\n",
              "    }\n",
              "\n",
              "    .dataframe tbody tr th {\n",
              "        vertical-align: top;\n",
              "    }\n",
              "\n",
              "    .dataframe thead th {\n",
              "        text-align: right;\n",
              "    }\n",
              "</style>\n",
              "<table border=\"1\" class=\"dataframe\">\n",
              "  <thead>\n",
              "    <tr style=\"text-align: right;\">\n",
              "      <th></th>\n",
              "      <th>color</th>\n",
              "      <th>director_name</th>\n",
              "      <th>num_critic_for_reviews</th>\n",
              "      <th>duration</th>\n",
              "      <th>director_facebook_likes</th>\n",
              "      <th>actor_3_facebook_likes</th>\n",
              "      <th>actor_2_name</th>\n",
              "      <th>actor_1_facebook_likes</th>\n",
              "      <th>gross</th>\n",
              "      <th>genres</th>\n",
              "      <th>...</th>\n",
              "      <th>num_user_for_reviews</th>\n",
              "      <th>language</th>\n",
              "      <th>country</th>\n",
              "      <th>content_rating</th>\n",
              "      <th>budget</th>\n",
              "      <th>title_year</th>\n",
              "      <th>actor_2_facebook_likes</th>\n",
              "      <th>imdb_score</th>\n",
              "      <th>aspect_ratio</th>\n",
              "      <th>movie_facebook_likes</th>\n",
              "    </tr>\n",
              "  </thead>\n",
              "  <tbody>\n",
              "    <tr>\n",
              "      <th>0</th>\n",
              "      <td>Color</td>\n",
              "      <td>James Cameron</td>\n",
              "      <td>723.0</td>\n",
              "      <td>178.0</td>\n",
              "      <td>0.0</td>\n",
              "      <td>855.0</td>\n",
              "      <td>Joel David Moore</td>\n",
              "      <td>1000.0</td>\n",
              "      <td>760505847.0</td>\n",
              "      <td>Action|Adventure|Fantasy|Sci-Fi</td>\n",
              "      <td>...</td>\n",
              "      <td>3054.0</td>\n",
              "      <td>English</td>\n",
              "      <td>USA</td>\n",
              "      <td>PG-13</td>\n",
              "      <td>237000000.0</td>\n",
              "      <td>2009.0</td>\n",
              "      <td>936.0</td>\n",
              "      <td>7.9</td>\n",
              "      <td>1.78</td>\n",
              "      <td>33000</td>\n",
              "    </tr>\n",
              "    <tr>\n",
              "      <th>1</th>\n",
              "      <td>Color</td>\n",
              "      <td>Gore Verbinski</td>\n",
              "      <td>302.0</td>\n",
              "      <td>169.0</td>\n",
              "      <td>563.0</td>\n",
              "      <td>1000.0</td>\n",
              "      <td>Orlando Bloom</td>\n",
              "      <td>40000.0</td>\n",
              "      <td>309404152.0</td>\n",
              "      <td>Action|Adventure|Fantasy</td>\n",
              "      <td>...</td>\n",
              "      <td>1238.0</td>\n",
              "      <td>English</td>\n",
              "      <td>USA</td>\n",
              "      <td>PG-13</td>\n",
              "      <td>300000000.0</td>\n",
              "      <td>2007.0</td>\n",
              "      <td>5000.0</td>\n",
              "      <td>7.1</td>\n",
              "      <td>2.35</td>\n",
              "      <td>0</td>\n",
              "    </tr>\n",
              "    <tr>\n",
              "      <th>2</th>\n",
              "      <td>Color</td>\n",
              "      <td>Sam Mendes</td>\n",
              "      <td>602.0</td>\n",
              "      <td>148.0</td>\n",
              "      <td>0.0</td>\n",
              "      <td>161.0</td>\n",
              "      <td>Rory Kinnear</td>\n",
              "      <td>11000.0</td>\n",
              "      <td>200074175.0</td>\n",
              "      <td>Action|Adventure|Thriller</td>\n",
              "      <td>...</td>\n",
              "      <td>994.0</td>\n",
              "      <td>English</td>\n",
              "      <td>UK</td>\n",
              "      <td>PG-13</td>\n",
              "      <td>245000000.0</td>\n",
              "      <td>2015.0</td>\n",
              "      <td>393.0</td>\n",
              "      <td>6.8</td>\n",
              "      <td>2.35</td>\n",
              "      <td>85000</td>\n",
              "    </tr>\n",
              "    <tr>\n",
              "      <th>3</th>\n",
              "      <td>Color</td>\n",
              "      <td>Christopher Nolan</td>\n",
              "      <td>813.0</td>\n",
              "      <td>164.0</td>\n",
              "      <td>22000.0</td>\n",
              "      <td>23000.0</td>\n",
              "      <td>Christian Bale</td>\n",
              "      <td>27000.0</td>\n",
              "      <td>448130642.0</td>\n",
              "      <td>Action|Thriller</td>\n",
              "      <td>...</td>\n",
              "      <td>2701.0</td>\n",
              "      <td>English</td>\n",
              "      <td>USA</td>\n",
              "      <td>PG-13</td>\n",
              "      <td>250000000.0</td>\n",
              "      <td>2012.0</td>\n",
              "      <td>23000.0</td>\n",
              "      <td>8.5</td>\n",
              "      <td>2.35</td>\n",
              "      <td>164000</td>\n",
              "    </tr>\n",
              "    <tr>\n",
              "      <th>4</th>\n",
              "      <td>NaN</td>\n",
              "      <td>Doug Walker</td>\n",
              "      <td>NaN</td>\n",
              "      <td>NaN</td>\n",
              "      <td>131.0</td>\n",
              "      <td>NaN</td>\n",
              "      <td>Rob Walker</td>\n",
              "      <td>131.0</td>\n",
              "      <td>NaN</td>\n",
              "      <td>Documentary</td>\n",
              "      <td>...</td>\n",
              "      <td>NaN</td>\n",
              "      <td>NaN</td>\n",
              "      <td>NaN</td>\n",
              "      <td>NaN</td>\n",
              "      <td>NaN</td>\n",
              "      <td>NaN</td>\n",
              "      <td>12.0</td>\n",
              "      <td>7.1</td>\n",
              "      <td>NaN</td>\n",
              "      <td>0</td>\n",
              "    </tr>\n",
              "  </tbody>\n",
              "</table>\n",
              "<p>5 rows × 28 columns</p>\n",
              "</div>"
            ],
            "text/plain": [
              "   color      director_name  num_critic_for_reviews  duration  \\\n",
              "0  Color      James Cameron                   723.0     178.0   \n",
              "1  Color     Gore Verbinski                   302.0     169.0   \n",
              "2  Color         Sam Mendes                   602.0     148.0   \n",
              "3  Color  Christopher Nolan                   813.0     164.0   \n",
              "4    NaN        Doug Walker                     NaN       NaN   \n",
              "\n",
              "   director_facebook_likes  actor_3_facebook_likes      actor_2_name  \\\n",
              "0                      0.0                   855.0  Joel David Moore   \n",
              "1                    563.0                  1000.0     Orlando Bloom   \n",
              "2                      0.0                   161.0      Rory Kinnear   \n",
              "3                  22000.0                 23000.0    Christian Bale   \n",
              "4                    131.0                     NaN        Rob Walker   \n",
              "\n",
              "   actor_1_facebook_likes        gross                           genres  \\\n",
              "0                  1000.0  760505847.0  Action|Adventure|Fantasy|Sci-Fi   \n",
              "1                 40000.0  309404152.0         Action|Adventure|Fantasy   \n",
              "2                 11000.0  200074175.0        Action|Adventure|Thriller   \n",
              "3                 27000.0  448130642.0                  Action|Thriller   \n",
              "4                   131.0          NaN                      Documentary   \n",
              "\n",
              "          ...          num_user_for_reviews language  country  content_rating  \\\n",
              "0         ...                        3054.0  English      USA           PG-13   \n",
              "1         ...                        1238.0  English      USA           PG-13   \n",
              "2         ...                         994.0  English       UK           PG-13   \n",
              "3         ...                        2701.0  English      USA           PG-13   \n",
              "4         ...                           NaN      NaN      NaN             NaN   \n",
              "\n",
              "        budget  title_year actor_2_facebook_likes imdb_score  aspect_ratio  \\\n",
              "0  237000000.0      2009.0                  936.0        7.9          1.78   \n",
              "1  300000000.0      2007.0                 5000.0        7.1          2.35   \n",
              "2  245000000.0      2015.0                  393.0        6.8          2.35   \n",
              "3  250000000.0      2012.0                23000.0        8.5          2.35   \n",
              "4          NaN         NaN                   12.0        7.1           NaN   \n",
              "\n",
              "  movie_facebook_likes  \n",
              "0                33000  \n",
              "1                    0  \n",
              "2                85000  \n",
              "3               164000  \n",
              "4                    0  \n",
              "\n",
              "[5 rows x 28 columns]"
            ]
          },
          "metadata": {
            "tags": []
          },
          "execution_count": 42
        }
      ]
    },
    {
      "metadata": {
        "colab_type": "code",
        "id": "g5aLVZk5JyiN",
        "colab": {}
      },
      "cell_type": "code",
      "source": [
        ""
      ],
      "execution_count": 0,
      "outputs": []
    }
  ]
}